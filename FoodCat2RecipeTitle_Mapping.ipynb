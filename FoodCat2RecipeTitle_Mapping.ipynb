{
  "nbformat": 4,
  "nbformat_minor": 0,
  "metadata": {
    "colab": {
      "name": "FoodCat2RecipeTitle_Mapping.ipynb",
      "provenance": [],
      "collapsed_sections": [],
      "toc_visible": true,
      "include_colab_link": true
    },
    "kernelspec": {
      "name": "python3",
      "display_name": "Python 3"
    }
  },
  "cells": [
    {
      "cell_type": "markdown",
      "metadata": {
        "id": "view-in-github",
        "colab_type": "text"
      },
      "source": [
        "<a href=\"https://colab.research.google.com/github/VindhyaSRajan/Guided-Research/blob/master/FoodCat2RecipeTitle_Mapping.ipynb\" target=\"_parent\"><img src=\"https://colab.research.google.com/assets/colab-badge.svg\" alt=\"Open In Colab\"/></a>"
      ]
    },
    {
      "cell_type": "code",
      "metadata": {
        "id": "W02muFTGlQLS",
        "colab_type": "code",
        "colab": {}
      },
      "source": [
        "from google.colab import drive\n",
        "drive.mount('/gdrive')\n",
        "%cd /gdrive"
      ],
      "execution_count": 0,
      "outputs": []
    },
    {
      "cell_type": "code",
      "metadata": {
        "id": "Q_cljxQ_m1Px",
        "colab_type": "code",
        "colab": {}
      },
      "source": [
        "import pandas as pd"
      ],
      "execution_count": 0,
      "outputs": []
    },
    {
      "cell_type": "code",
      "metadata": {
        "id": "AyFooUwulGaA",
        "colab_type": "code",
        "outputId": "1542d26b-c229-450c-b7e6-41eca15818b0",
        "colab": {
          "base_uri": "https://localhost:8080/",
          "height": 198
        }
      },
      "source": [
        "df = pd.read_csv('/gdrive/My Drive/Dataa/recipe_titles.txt', delimiter=\"\\t\",header=None)\n",
        "df.columns = ['Recipe_Title']\n",
        "df['Food_Category'] = df.Recipe_Title.values\n",
        "df.head()"
      ],
      "execution_count": 4,
      "outputs": [
        {
          "output_type": "execute_result",
          "data": {
            "text/html": [
              "<div>\n",
              "<style scoped>\n",
              "    .dataframe tbody tr th:only-of-type {\n",
              "        vertical-align: middle;\n",
              "    }\n",
              "\n",
              "    .dataframe tbody tr th {\n",
              "        vertical-align: top;\n",
              "    }\n",
              "\n",
              "    .dataframe thead th {\n",
              "        text-align: right;\n",
              "    }\n",
              "</style>\n",
              "<table border=\"1\" class=\"dataframe\">\n",
              "  <thead>\n",
              "    <tr style=\"text-align: right;\">\n",
              "      <th></th>\n",
              "      <th>Recipe_Title</th>\n",
              "      <th>Food_Category</th>\n",
              "    </tr>\n",
              "  </thead>\n",
              "  <tbody>\n",
              "    <tr>\n",
              "      <th>0</th>\n",
              "      <td>Salem Baked Custard</td>\n",
              "      <td>Salem Baked Custard</td>\n",
              "    </tr>\n",
              "    <tr>\n",
              "      <th>1</th>\n",
              "      <td>Angel Food Cake</td>\n",
              "      <td>Angel Food Cake</td>\n",
              "    </tr>\n",
              "    <tr>\n",
              "      <th>2</th>\n",
              "      <td>Christmas Breakfast Casserole</td>\n",
              "      <td>Christmas Breakfast Casserole</td>\n",
              "    </tr>\n",
              "    <tr>\n",
              "      <th>3</th>\n",
              "      <td>Ww 3 Points - Vegetarian Spring Rolls</td>\n",
              "      <td>Ww 3 Points - Vegetarian Spring Rolls</td>\n",
              "    </tr>\n",
              "    <tr>\n",
              "      <th>4</th>\n",
              "      <td>Cowgirl Stew</td>\n",
              "      <td>Cowgirl Stew</td>\n",
              "    </tr>\n",
              "  </tbody>\n",
              "</table>\n",
              "</div>"
            ],
            "text/plain": [
              "                            Recipe_Title                          Food_Category\n",
              "0                    Salem Baked Custard                    Salem Baked Custard\n",
              "1                        Angel Food Cake                        Angel Food Cake\n",
              "2          Christmas Breakfast Casserole          Christmas Breakfast Casserole\n",
              "3  Ww 3 Points - Vegetarian Spring Rolls  Ww 3 Points - Vegetarian Spring Rolls\n",
              "4                           Cowgirl Stew                           Cowgirl Stew"
            ]
          },
          "metadata": {
            "tags": []
          },
          "execution_count": 4
        }
      ]
    },
    {
      "cell_type": "code",
      "metadata": {
        "id": "ktLD8-thqDuw",
        "colab_type": "code",
        "outputId": "e908b724-1da9-455c-94d6-4944c81cc1cf",
        "colab": {
          "base_uri": "https://localhost:8080/",
          "height": 35
        }
      },
      "source": [
        "df.shape"
      ],
      "execution_count": 5,
      "outputs": [
        {
          "output_type": "execute_result",
          "data": {
            "text/plain": [
              "(92739, 2)"
            ]
          },
          "metadata": {
            "tags": []
          },
          "execution_count": 5
        }
      ]
    },
    {
      "cell_type": "code",
      "metadata": {
        "id": "00Rs8BWusAiy",
        "colab_type": "code",
        "outputId": "d356a53f-43c3-4620-fe92-8df5cf1a5843",
        "colab": {
          "base_uri": "https://localhost:8080/",
          "height": 35
        }
      },
      "source": [
        "df.Food_Category.str.count(\"Pasta\").sum()"
      ],
      "execution_count": 6,
      "outputs": [
        {
          "output_type": "execute_result",
          "data": {
            "text/plain": [
              "1596"
            ]
          },
          "metadata": {
            "tags": []
          },
          "execution_count": 6
        }
      ]
    },
    {
      "cell_type": "code",
      "metadata": {
        "id": "HK4qQLkcsanG",
        "colab_type": "code",
        "outputId": "820e1a94-7bad-4613-b66a-0c2c1141e7d2",
        "colab": {
          "base_uri": "https://localhost:8080/",
          "height": 35
        }
      },
      "source": [
        "df.Food_Category.str.count(\"Cake\").sum()"
      ],
      "execution_count": 7,
      "outputs": [
        {
          "output_type": "execute_result",
          "data": {
            "text/plain": [
              "3643"
            ]
          },
          "metadata": {
            "tags": []
          },
          "execution_count": 7
        }
      ]
    },
    {
      "cell_type": "markdown",
      "metadata": {
        "id": "jYVBu39Tu5tT",
        "colab_type": "text"
      },
      "source": [
        "## PASTA DATAFRAME"
      ]
    },
    {
      "cell_type": "code",
      "metadata": {
        "id": "4LOf8wOEtfnL",
        "colab_type": "code",
        "outputId": "44648abd-8c74-4b7f-d995-a821547c943f",
        "colab": {
          "base_uri": "https://localhost:8080/",
          "height": 35
        }
      },
      "source": [
        "df_pasta = df[df['Food_Category'].str.contains(\"Pasta\")]\n",
        "df_pasta = df_pasta.assign(Food_Category='Pasta')\n",
        "df_pasta.head()\n",
        "df_pasta.shape"
      ],
      "execution_count": 8,
      "outputs": [
        {
          "output_type": "execute_result",
          "data": {
            "text/plain": [
              "(1584, 2)"
            ]
          },
          "metadata": {
            "tags": []
          },
          "execution_count": 8
        }
      ]
    },
    {
      "cell_type": "markdown",
      "metadata": {
        "id": "_4uxgCDwvX5I",
        "colab_type": "text"
      },
      "source": [
        "## CAKE DATAFRAME"
      ]
    },
    {
      "cell_type": "code",
      "metadata": {
        "id": "NZVe6ulOvDxd",
        "colab_type": "code",
        "outputId": "235eec20-35d7-402d-bb76-2027f2e043a6",
        "colab": {
          "base_uri": "https://localhost:8080/",
          "height": 35
        }
      },
      "source": [
        "df_cake = df[df['Food_Category'].str.contains(\"Cake\")]\n",
        "df_cake = df_cake.assign(Food_Category='Cake')\n",
        "df_cake.head()\n",
        "df_cake.shape"
      ],
      "execution_count": 9,
      "outputs": [
        {
          "output_type": "execute_result",
          "data": {
            "text/plain": [
              "(3608, 2)"
            ]
          },
          "metadata": {
            "tags": []
          },
          "execution_count": 9
        }
      ]
    },
    {
      "cell_type": "markdown",
      "metadata": {
        "id": "HAWvv6bkveVd",
        "colab_type": "text"
      },
      "source": [
        "##CHIPS DATAFRAME"
      ]
    },
    {
      "cell_type": "code",
      "metadata": {
        "id": "r2CR20lLvhhq",
        "colab_type": "code",
        "outputId": "3ef1dc92-3e6c-4d5a-9900-4748b0720608",
        "colab": {
          "base_uri": "https://localhost:8080/",
          "height": 35
        }
      },
      "source": [
        "df_chips = df[df['Food_Category'].str.contains(\"Chips\")]\n",
        "df_chips = df_chips.assign(Food_Category='Chips')\n",
        "df_chips.tail()\n",
        "df_chips.shape"
      ],
      "execution_count": 10,
      "outputs": [
        {
          "output_type": "execute_result",
          "data": {
            "text/plain": [
              "(165, 2)"
            ]
          },
          "metadata": {
            "tags": []
          },
          "execution_count": 10
        }
      ]
    },
    {
      "cell_type": "markdown",
      "metadata": {
        "id": "vnK-WYTfwDVz",
        "colab_type": "text"
      },
      "source": [
        "##CHICKEN DATAFRAME"
      ]
    },
    {
      "cell_type": "code",
      "metadata": {
        "id": "i8zfHcIswQx6",
        "colab_type": "code",
        "outputId": "a81d0539-af74-4df4-e0db-749f07368c30",
        "colab": {
          "base_uri": "https://localhost:8080/",
          "height": 35
        }
      },
      "source": [
        "df_chicken = df[df['Food_Category'].str.contains(\"Chicken\")]\n",
        "df_chicken = df_chicken.assign(Food_Category='Chicken')\n",
        "df_chicken.tail()\n",
        "df_chicken.shape"
      ],
      "execution_count": 11,
      "outputs": [
        {
          "output_type": "execute_result",
          "data": {
            "text/plain": [
              "(7840, 2)"
            ]
          },
          "metadata": {
            "tags": []
          },
          "execution_count": 11
        }
      ]
    },
    {
      "cell_type": "markdown",
      "metadata": {
        "id": "p93L1ZHaxDXI",
        "colab_type": "text"
      },
      "source": [
        "##CUSTARD DATAFRAME"
      ]
    },
    {
      "cell_type": "code",
      "metadata": {
        "id": "HSBhT4EjwQ22",
        "colab_type": "code",
        "outputId": "7abb68db-96d1-477c-fef8-6d5af5892eff",
        "colab": {
          "base_uri": "https://localhost:8080/",
          "height": 35
        }
      },
      "source": [
        "df_custard = df[df['Food_Category'].str.contains(\"Custard\")]\n",
        "df_custard = df_custard.assign(Food_Category='Custard')\n",
        "df_custard.tail()\n",
        "df_custard.shape"
      ],
      "execution_count": 12,
      "outputs": [
        {
          "output_type": "execute_result",
          "data": {
            "text/plain": [
              "(222, 2)"
            ]
          },
          "metadata": {
            "tags": []
          },
          "execution_count": 12
        }
      ]
    },
    {
      "cell_type": "markdown",
      "metadata": {
        "id": "M8kocAfNxcKs",
        "colab_type": "text"
      },
      "source": [
        "##SALAD DATAFRAME"
      ]
    },
    {
      "cell_type": "code",
      "metadata": {
        "id": "Xw0zaZu8wQ9p",
        "colab_type": "code",
        "outputId": "0cd70711-2341-4cf9-9a28-0bb36d314004",
        "colab": {
          "base_uri": "https://localhost:8080/",
          "height": 35
        }
      },
      "source": [
        "df_salad = df[df['Food_Category'].str.contains(\"Salad\")]\n",
        "df_salad = df_salad.assign(Food_Category='Salad')\n",
        "df_salad.tail()\n",
        "df_salad.shape"
      ],
      "execution_count": 13,
      "outputs": [
        {
          "output_type": "execute_result",
          "data": {
            "text/plain": [
              "(5466, 2)"
            ]
          },
          "metadata": {
            "tags": []
          },
          "execution_count": 13
        }
      ]
    },
    {
      "cell_type": "markdown",
      "metadata": {
        "id": "0Z-kMkEAyrOv",
        "colab_type": "text"
      },
      "source": [
        "##OMELETTE DATAFRAME"
      ]
    },
    {
      "cell_type": "code",
      "metadata": {
        "id": "FI-AJr5DwREX",
        "colab_type": "code",
        "outputId": "c0a2e5cb-4d6f-4683-a568-f9368edf1bde",
        "colab": {
          "base_uri": "https://localhost:8080/",
          "height": 35
        }
      },
      "source": [
        "df_omelette = df[df['Food_Category'].str.contains(\"Omelette\")]\n",
        "df_omelette = df_omelette.assign(Food_Category='Omelette')\n",
        "df_omelette.tail()\n",
        "df_omelette.shape"
      ],
      "execution_count": 14,
      "outputs": [
        {
          "output_type": "execute_result",
          "data": {
            "text/plain": [
              "(68, 2)"
            ]
          },
          "metadata": {
            "tags": []
          },
          "execution_count": 14
        }
      ]
    },
    {
      "cell_type": "markdown",
      "metadata": {
        "id": "S1TbjS65zRo0",
        "colab_type": "text"
      },
      "source": [
        "##PIZZA DATAFRAME"
      ]
    },
    {
      "cell_type": "code",
      "metadata": {
        "id": "_-BAmKZHwRCc",
        "colab_type": "code",
        "outputId": "a888395d-30ed-4f56-ee4d-03fbf1716da8",
        "colab": {
          "base_uri": "https://localhost:8080/",
          "height": 35
        }
      },
      "source": [
        "df_pizza = df[df['Food_Category'].str.contains(\"Pizza\")]\n",
        "df_pizza = df_pizza.assign(Food_Category='Pizza')\n",
        "df_pizza.tail()\n",
        "df_pizza.shape"
      ],
      "execution_count": 15,
      "outputs": [
        {
          "output_type": "execute_result",
          "data": {
            "text/plain": [
              "(1058, 2)"
            ]
          },
          "metadata": {
            "tags": []
          },
          "execution_count": 15
        }
      ]
    },
    {
      "cell_type": "markdown",
      "metadata": {
        "id": "m6M90quazVZU",
        "colab_type": "text"
      },
      "source": [
        "##BURGER DATAFRAME"
      ]
    },
    {
      "cell_type": "code",
      "metadata": {
        "id": "5dPmleRZwRAo",
        "colab_type": "code",
        "outputId": "c64009ed-bfdf-4a31-82ba-9452f985662d",
        "colab": {
          "base_uri": "https://localhost:8080/",
          "height": 35
        }
      },
      "source": [
        "df_burger = df[df['Food_Category'].str.contains(\"Burger\")]\n",
        "df_burger = df_burger.assign(Food_Category='Burger')\n",
        "df_burger.tail()\n",
        "df_burger.shape"
      ],
      "execution_count": 16,
      "outputs": [
        {
          "output_type": "execute_result",
          "data": {
            "text/plain": [
              "(699, 2)"
            ]
          },
          "metadata": {
            "tags": []
          },
          "execution_count": 16
        }
      ]
    },
    {
      "cell_type": "markdown",
      "metadata": {
        "id": "kukBZ0qTz9JQ",
        "colab_type": "text"
      },
      "source": [
        "##PIE DATAFRAME"
      ]
    },
    {
      "cell_type": "code",
      "metadata": {
        "id": "JhtC5wxZwQ7O",
        "colab_type": "code",
        "outputId": "b30af594-a833-4ab5-87cc-884c0b26eb22",
        "colab": {
          "base_uri": "https://localhost:8080/",
          "height": 35
        }
      },
      "source": [
        "df_pie = df[df['Food_Category'].str.contains(\"Pie\")]\n",
        "df_pie = df_pie.assign(Food_Category='Pie')\n",
        "df_pie.tail()\n",
        "df_pie.shape"
      ],
      "execution_count": 17,
      "outputs": [
        {
          "output_type": "execute_result",
          "data": {
            "text/plain": [
              "(2663, 2)"
            ]
          },
          "metadata": {
            "tags": []
          },
          "execution_count": 17
        }
      ]
    },
    {
      "cell_type": "markdown",
      "metadata": {
        "id": "cjB0KJ-i0aKE",
        "colab_type": "text"
      },
      "source": [
        "##NOODLE DATAFRAME"
      ]
    },
    {
      "cell_type": "code",
      "metadata": {
        "id": "xkbw_k_dwQ5j",
        "colab_type": "code",
        "outputId": "5947a74d-af4b-45bb-9db0-647ee37ce135",
        "colab": {
          "base_uri": "https://localhost:8080/",
          "height": 35
        }
      },
      "source": [
        "df_noodle = df[df['Food_Category'].str.contains(\"Noodles\")]\n",
        "df_noodle = df_noodle.assign(Food_Category='Noodles')\n",
        "df_noodle.tail()\n",
        "df_noodle.shape"
      ],
      "execution_count": 18,
      "outputs": [
        {
          "output_type": "execute_result",
          "data": {
            "text/plain": [
              "(389, 2)"
            ]
          },
          "metadata": {
            "tags": []
          },
          "execution_count": 18
        }
      ]
    },
    {
      "cell_type": "markdown",
      "metadata": {
        "id": "QEHeX8xa0xFN",
        "colab_type": "text"
      },
      "source": [
        "##HUMMUS DATAFRAME"
      ]
    },
    {
      "cell_type": "code",
      "metadata": {
        "id": "X_3TVVqWwQve",
        "colab_type": "code",
        "outputId": "fa266c48-6f7d-4a2e-b2aa-d8852c21d75c",
        "colab": {
          "base_uri": "https://localhost:8080/",
          "height": 35
        }
      },
      "source": [
        "df_hummus = df[df['Food_Category'].str.contains(\"Hummus\")]\n",
        "df_hummus = df_hummus.assign(Food_Category='Hummus')\n",
        "df_hummus.tail()\n",
        "df_hummus.shape"
      ],
      "execution_count": 19,
      "outputs": [
        {
          "output_type": "execute_result",
          "data": {
            "text/plain": [
              "(150, 2)"
            ]
          },
          "metadata": {
            "tags": []
          },
          "execution_count": 19
        }
      ]
    },
    {
      "cell_type": "markdown",
      "metadata": {
        "id": "_kgqq7BX1POB",
        "colab_type": "text"
      },
      "source": [
        "##CASSEROLE DATAFRAME"
      ]
    },
    {
      "cell_type": "code",
      "metadata": {
        "id": "auAFehnlwQs4",
        "colab_type": "code",
        "outputId": "b38f166b-5982-42d1-8b51-aab04e0a41c1",
        "colab": {
          "base_uri": "https://localhost:8080/",
          "height": 35
        }
      },
      "source": [
        "df_casserole = df[df['Food_Category'].str.contains(\"Casserole\")]\n",
        "df_casserole = df_casserole.assign(Food_Category='Casserole')\n",
        "df_casserole.tail()\n",
        "df_casserole.shape"
      ],
      "execution_count": 20,
      "outputs": [
        {
          "output_type": "execute_result",
          "data": {
            "text/plain": [
              "(1557, 2)"
            ]
          },
          "metadata": {
            "tags": []
          },
          "execution_count": 20
        }
      ]
    },
    {
      "cell_type": "markdown",
      "metadata": {
        "id": "1pyoMcq_1suO",
        "colab_type": "text"
      },
      "source": [
        "##STEAK DATAFRAME "
      ]
    },
    {
      "cell_type": "code",
      "metadata": {
        "id": "cTUTatWo1TvV",
        "colab_type": "code",
        "outputId": "d72e7512-1f6e-4883-b220-dd241786d4d8",
        "colab": {
          "base_uri": "https://localhost:8080/",
          "height": 35
        }
      },
      "source": [
        "df_steak = df[df['Food_Category'].str.contains(\"Steak\")]\n",
        "df_steak = df_steak.assign(Food_Category='Steak')\n",
        "df_steak.tail()\n",
        "df_steak.shape"
      ],
      "execution_count": 21,
      "outputs": [
        {
          "output_type": "execute_result",
          "data": {
            "text/plain": [
              "(1029, 2)"
            ]
          },
          "metadata": {
            "tags": []
          },
          "execution_count": 21
        }
      ]
    },
    {
      "cell_type": "markdown",
      "metadata": {
        "id": "lRFAV82OQ35D",
        "colab_type": "text"
      },
      "source": [
        "##SANDWICHES DATAFRAME"
      ]
    },
    {
      "cell_type": "code",
      "metadata": {
        "id": "7vqx6k73Q4al",
        "colab_type": "code",
        "colab": {
          "base_uri": "https://localhost:8080/",
          "height": 35
        },
        "outputId": "2ec50cdc-874e-45d3-d2a6-b9a1e5eb0609"
      },
      "source": [
        "df_sandwiches = df[df['Food_Category'].str.contains(\"Sandwiches\")]\n",
        "df_sandwiches = df_sandwiches.assign(Food_Category='Sandwiches')\n",
        "df_sandwiches.tail()\n",
        "df_sandwiches.shape"
      ],
      "execution_count": 23,
      "outputs": [
        {
          "output_type": "execute_result",
          "data": {
            "text/plain": [
              "(484, 2)"
            ]
          },
          "metadata": {
            "tags": []
          },
          "execution_count": 23
        }
      ]
    },
    {
      "cell_type": "markdown",
      "metadata": {
        "id": "sxwEpjqiRptb",
        "colab_type": "text"
      },
      "source": [
        "##MUFFIN DATAFRAME"
      ]
    },
    {
      "cell_type": "code",
      "metadata": {
        "id": "Q74aKggqRqXf",
        "colab_type": "code",
        "colab": {
          "base_uri": "https://localhost:8080/",
          "height": 35
        },
        "outputId": "26076bb8-c882-44f3-ba37-a520469d1e2b"
      },
      "source": [
        "df_muffin = df[df['Food_Category'].str.contains(\"Muffins\")]\n",
        "df_muffin = df_muffin.assign(Food_Category='Muffins')\n",
        "df_muffin.tail()\n",
        "df_muffin.shape"
      ],
      "execution_count": 25,
      "outputs": [
        {
          "output_type": "execute_result",
          "data": {
            "text/plain": [
              "(1078, 2)"
            ]
          },
          "metadata": {
            "tags": []
          },
          "execution_count": 25
        }
      ]
    },
    {
      "cell_type": "markdown",
      "metadata": {
        "id": "QNqsFCQiS_3V",
        "colab_type": "text"
      },
      "source": [
        "##SAUCE DATAFRAME"
      ]
    },
    {
      "cell_type": "code",
      "metadata": {
        "id": "_ipmOdhYTCGq",
        "colab_type": "code",
        "colab": {
          "base_uri": "https://localhost:8080/",
          "height": 35
        },
        "outputId": "e8b525ad-e329-49ec-b768-b6d2212a9802"
      },
      "source": [
        "df_sauce = df[df['Food_Category'].str.contains(\"Sauce\")]\n",
        "df_sauce = df_sauce.assign(Food_Category='Sauce')\n",
        "df_sauce.tail()\n",
        "df_sauce.shape"
      ],
      "execution_count": 27,
      "outputs": [
        {
          "output_type": "execute_result",
          "data": {
            "text/plain": [
              "(4039, 2)"
            ]
          },
          "metadata": {
            "tags": []
          },
          "execution_count": 27
        }
      ]
    },
    {
      "cell_type": "markdown",
      "metadata": {
        "id": "qZtrDhkyTUjQ",
        "colab_type": "text"
      },
      "source": [
        "##PICKLES DATAFRAME"
      ]
    },
    {
      "cell_type": "code",
      "metadata": {
        "id": "fvHqT-91TaPo",
        "colab_type": "code",
        "colab": {
          "base_uri": "https://localhost:8080/",
          "height": 35
        },
        "outputId": "45679996-4d4c-4e4b-fff3-933e330a3cc5"
      },
      "source": [
        "df_pickles = df[df['Food_Category'].str.contains(\"Pickle\")]\n",
        "df_pickles = df_pickles.assign(Food_Category='Pickle')\n",
        "df_pickles.head()\n",
        "df_pickles.shape"
      ],
      "execution_count": 30,
      "outputs": [
        {
          "output_type": "execute_result",
          "data": {
            "text/plain": [
              "(358, 2)"
            ]
          },
          "metadata": {
            "tags": []
          },
          "execution_count": 30
        }
      ]
    },
    {
      "cell_type": "markdown",
      "metadata": {
        "id": "iArCq15NUNcD",
        "colab_type": "text"
      },
      "source": [
        "##COCKTAIL DATAFRAME"
      ]
    },
    {
      "cell_type": "code",
      "metadata": {
        "id": "fsELLYARUS6l",
        "colab_type": "code",
        "colab": {
          "base_uri": "https://localhost:8080/",
          "height": 35
        },
        "outputId": "ac881bd5-51a7-4a8a-dbe2-66f60a67d084"
      },
      "source": [
        "df_cocktail = df[df['Food_Category'].str.contains(\"Cocktail\")]\n",
        "df_cocktail = df_cocktail.assign(Food_Category='Cocktail')\n",
        "df_cocktail.head()\n",
        "df_cocktail.shape"
      ],
      "execution_count": 32,
      "outputs": [
        {
          "output_type": "execute_result",
          "data": {
            "text/plain": [
              "(315, 2)"
            ]
          },
          "metadata": {
            "tags": []
          },
          "execution_count": 32
        }
      ]
    },
    {
      "cell_type": "markdown",
      "metadata": {
        "id": "RcwNDP1FUo2y",
        "colab_type": "text"
      },
      "source": [
        "##PUDDING DATAFRAME"
      ]
    },
    {
      "cell_type": "code",
      "metadata": {
        "id": "q_b1yG3aUz2Z",
        "colab_type": "code",
        "colab": {
          "base_uri": "https://localhost:8080/",
          "height": 35
        },
        "outputId": "04b7e003-96f1-404c-f6b3-3662485c1a29"
      },
      "source": [
        "df_pudding = df[df['Food_Category'].str.contains(\"Pudding\")]\n",
        "df_pudding = df_pudding.assign(Food_Category='Pudding')\n",
        "df_pudding.head()\n",
        "df_pudding.shape"
      ],
      "execution_count": 34,
      "outputs": [
        {
          "output_type": "execute_result",
          "data": {
            "text/plain": [
              "(955, 2)"
            ]
          },
          "metadata": {
            "tags": []
          },
          "execution_count": 34
        }
      ]
    },
    {
      "cell_type": "markdown",
      "metadata": {
        "id": "F31Ik1l4VGNE",
        "colab_type": "text"
      },
      "source": [
        "##WRAPS DATAFRAME"
      ]
    },
    {
      "cell_type": "code",
      "metadata": {
        "id": "fOWUSdcrVIy2",
        "colab_type": "code",
        "colab": {
          "base_uri": "https://localhost:8080/",
          "height": 35
        },
        "outputId": "85bb3178-2445-4486-eb78-76a220215caf"
      },
      "source": [
        "df_wraps = df[df['Food_Category'].str.contains(\"Wrap\")]\n",
        "df_wraps = df_wraps.assign(Food_Category='Wrap')\n",
        "df_wraps.head()\n",
        "df_wraps.shape"
      ],
      "execution_count": 36,
      "outputs": [
        {
          "output_type": "execute_result",
          "data": {
            "text/plain": [
              "(444, 2)"
            ]
          },
          "metadata": {
            "tags": []
          },
          "execution_count": 36
        }
      ]
    },
    {
      "cell_type": "markdown",
      "metadata": {
        "id": "aODKK18gWil4",
        "colab_type": "text"
      },
      "source": [
        "##TACO DATAFRAME"
      ]
    },
    {
      "cell_type": "code",
      "metadata": {
        "id": "pYcEs4qIWkim",
        "colab_type": "code",
        "colab": {
          "base_uri": "https://localhost:8080/",
          "height": 35
        },
        "outputId": "c39169ea-adee-4e03-ed30-51841e71d96a"
      },
      "source": [
        "df_taco = df[df['Food_Category'].str.contains(\"Taco\")]\n",
        "df_taco = df_taco.assign(Food_Category='Taco')\n",
        "df_taco.head()\n",
        "df_taco.shape"
      ],
      "execution_count": 40,
      "outputs": [
        {
          "output_type": "execute_result",
          "data": {
            "text/plain": [
              "(569, 2)"
            ]
          },
          "metadata": {
            "tags": []
          },
          "execution_count": 40
        }
      ]
    },
    {
      "cell_type": "markdown",
      "metadata": {
        "id": "dNdPn7W4XHiB",
        "colab_type": "text"
      },
      "source": [
        "##DAAL DATAFRAME"
      ]
    },
    {
      "cell_type": "code",
      "metadata": {
        "id": "dsqPlk3IXJMh",
        "colab_type": "code",
        "colab": {
          "base_uri": "https://localhost:8080/",
          "height": 35
        },
        "outputId": "0e924d46-2537-4f55-9e39-65e108b6ed6f"
      },
      "source": [
        "df_daal = df[df['Food_Category'].str.contains(\"Daal\")]\n",
        "df_daal = df_daal.assign(Food_Category='Daal')\n",
        "df_daal.head()\n",
        "df_daal.shape"
      ],
      "execution_count": 43,
      "outputs": [
        {
          "output_type": "execute_result",
          "data": {
            "text/plain": [
              "(4, 2)"
            ]
          },
          "metadata": {
            "tags": []
          },
          "execution_count": 43
        }
      ]
    },
    {
      "cell_type": "markdown",
      "metadata": {
        "id": "AlNIHzAOYFyi",
        "colab_type": "text"
      },
      "source": [
        "##GUACAMOLE DATAFRAME"
      ]
    },
    {
      "cell_type": "code",
      "metadata": {
        "id": "v2jzIHKUYI3q",
        "colab_type": "code",
        "colab": {
          "base_uri": "https://localhost:8080/",
          "height": 35
        },
        "outputId": "6a262d53-add8-4caf-9ac0-b4c111c51666"
      },
      "source": [
        "df_guacamole = df[df['Food_Category'].str.contains(\"Guacamole\")]\n",
        "df_guacamole = df_guacamole.assign(Food_Category='Guacamole')\n",
        "df_guacamole.head()\n",
        "df_guacamole.shape"
      ],
      "execution_count": 47,
      "outputs": [
        {
          "output_type": "execute_result",
          "data": {
            "text/plain": [
              "(154, 2)"
            ]
          },
          "metadata": {
            "tags": []
          },
          "execution_count": 47
        }
      ]
    },
    {
      "cell_type": "markdown",
      "metadata": {
        "id": "zNgdrbwqYd0m",
        "colab_type": "text"
      },
      "source": [
        "##DOUGHNUTS DATAFRAME"
      ]
    },
    {
      "cell_type": "code",
      "metadata": {
        "id": "Xxq4Hv_VYsDO",
        "colab_type": "code",
        "colab": {
          "base_uri": "https://localhost:8080/",
          "height": 35
        },
        "outputId": "e7e1dea6-2b87-4c29-990a-f825142d4b1f"
      },
      "source": [
        "df_doughnut = df[df['Food_Category'].str.contains(\"Doughnuts\")]\n",
        "df_doughnut = df_doughnut.assign(Food_Category='Doughnuts')\n",
        "df_doughnut.head()\n",
        "df_doughnut.shape"
      ],
      "execution_count": 49,
      "outputs": [
        {
          "output_type": "execute_result",
          "data": {
            "text/plain": [
              "(63, 2)"
            ]
          },
          "metadata": {
            "tags": []
          },
          "execution_count": 49
        }
      ]
    },
    {
      "cell_type": "markdown",
      "metadata": {
        "id": "fCleJyvdZXwQ",
        "colab_type": "text"
      },
      "source": [
        "##BEEF DATAFRAME"
      ]
    },
    {
      "cell_type": "code",
      "metadata": {
        "id": "SLgkJMnsZZwk",
        "colab_type": "code",
        "colab": {
          "base_uri": "https://localhost:8080/",
          "height": 35
        },
        "outputId": "ad585e56-68a5-4234-9cb1-ceafe9598894"
      },
      "source": [
        "df_beef = df[df['Food_Category'].str.contains(\"Beef\")]\n",
        "df_beef = df_beef.assign(Food_Category='Beef')\n",
        "df_beef.head()\n",
        "df_beef.shape"
      ],
      "execution_count": 53,
      "outputs": [
        {
          "output_type": "execute_result",
          "data": {
            "text/plain": [
              "(1961, 2)"
            ]
          },
          "metadata": {
            "tags": []
          },
          "execution_count": 53
        }
      ]
    },
    {
      "cell_type": "markdown",
      "metadata": {
        "id": "RXJql6XpZ728",
        "colab_type": "text"
      },
      "source": [
        "##BREAD DATAFRAME"
      ]
    },
    {
      "cell_type": "code",
      "metadata": {
        "id": "jcQaoYLLZ9q7",
        "colab_type": "code",
        "colab": {
          "base_uri": "https://localhost:8080/",
          "height": 35
        },
        "outputId": "7f733bde-2f68-44c7-ea3f-4067d4ac9fce"
      },
      "source": [
        "df_bread = df[df['Food_Category'].str.contains(\"Bread\")]\n",
        "df_bread = df_bread.assign(Food_Category='Bread')\n",
        "df_bread.head()\n",
        "df_bread.shape"
      ],
      "execution_count": 56,
      "outputs": [
        {
          "output_type": "execute_result",
          "data": {
            "text/plain": [
              "(2525, 2)"
            ]
          },
          "metadata": {
            "tags": []
          },
          "execution_count": 56
        }
      ]
    },
    {
      "cell_type": "markdown",
      "metadata": {
        "id": "Eq2mR7nUairW",
        "colab_type": "text"
      },
      "source": [
        "##SOUP DATAFRAME"
      ]
    },
    {
      "cell_type": "code",
      "metadata": {
        "id": "5DZfm8aLakXg",
        "colab_type": "code",
        "colab": {
          "base_uri": "https://localhost:8080/",
          "height": 35
        },
        "outputId": "1bc9c490-f077-4815-d30c-c62b6e0ad7ef"
      },
      "source": [
        "df_soup = df[df['Food_Category'].str.contains(\"Soup\")]\n",
        "df_soup = df_soup.assign(Food_Category='Soup')\n",
        "df_soup.head()\n",
        "df_soup.shape"
      ],
      "execution_count": 59,
      "outputs": [
        {
          "output_type": "execute_result",
          "data": {
            "text/plain": [
              "(3180, 2)"
            ]
          },
          "metadata": {
            "tags": []
          },
          "execution_count": 59
        }
      ]
    },
    {
      "cell_type": "markdown",
      "metadata": {
        "id": "IJ4HFTkaa-Ud",
        "colab_type": "text"
      },
      "source": [
        "##SMOOTHIE DATAFRAME"
      ]
    },
    {
      "cell_type": "code",
      "metadata": {
        "id": "fncF5mQ3bHix",
        "colab_type": "code",
        "colab": {
          "base_uri": "https://localhost:8080/",
          "height": 35
        },
        "outputId": "37834b39-8e87-41bc-e533-a2f50eaa2361"
      },
      "source": [
        "df_smoothie = df[df['Food_Category'].str.contains(\"Smoothie\")]\n",
        "df_smoothie = df_smoothie.assign(Food_Category='Smoothie')\n",
        "df_smoothie.head()\n",
        "df_smoothie.shape"
      ],
      "execution_count": 62,
      "outputs": [
        {
          "output_type": "execute_result",
          "data": {
            "text/plain": [
              "(432, 2)"
            ]
          },
          "metadata": {
            "tags": []
          },
          "execution_count": 62
        }
      ]
    },
    {
      "cell_type": "markdown",
      "metadata": {
        "id": "4Zq_bG6mbl-h",
        "colab_type": "text"
      },
      "source": [
        "##SORBET DATAFRAME"
      ]
    },
    {
      "cell_type": "code",
      "metadata": {
        "id": "a8KYUeWabn46",
        "colab_type": "code",
        "colab": {
          "base_uri": "https://localhost:8080/",
          "height": 35
        },
        "outputId": "eb41eb1c-65a3-412a-c5e9-bb890c8217d6"
      },
      "source": [
        "df_sorbet = df[df['Food_Category'].str.contains(\"Sorbet\")]\n",
        "df_sorbet = df_sorbet.assign(Food_Category='Sorbet')\n",
        "df_sorbet.head()\n",
        "df_sorbet.shape"
      ],
      "execution_count": 65,
      "outputs": [
        {
          "output_type": "execute_result",
          "data": {
            "text/plain": [
              "(108, 2)"
            ]
          },
          "metadata": {
            "tags": []
          },
          "execution_count": 65
        }
      ]
    },
    {
      "cell_type": "markdown",
      "metadata": {
        "id": "1XGQThUIcHZm",
        "colab_type": "text"
      },
      "source": [
        "##CHILI DATAFRAME"
      ]
    },
    {
      "cell_type": "code",
      "metadata": {
        "id": "TR6c0biPcKhX",
        "colab_type": "code",
        "colab": {
          "base_uri": "https://localhost:8080/",
          "height": 35
        },
        "outputId": "4e73503c-597c-4964-ac97-c47e44aeec3f"
      },
      "source": [
        "df_chili = df[df['Food_Category'].str.contains(\"Chili\")]\n",
        "df_chili = df_chili.assign(Food_Category='Chili')\n",
        "df_chili.head()\n",
        "df_chili.shape"
      ],
      "execution_count": 68,
      "outputs": [
        {
          "output_type": "execute_result",
          "data": {
            "text/plain": [
              "(1102, 2)"
            ]
          },
          "metadata": {
            "tags": []
          },
          "execution_count": 68
        }
      ]
    },
    {
      "cell_type": "markdown",
      "metadata": {
        "id": "24bKBunocnGM",
        "colab_type": "text"
      },
      "source": [
        "##STEW DATAFRAME"
      ]
    },
    {
      "cell_type": "code",
      "metadata": {
        "id": "XDGs4xmUcovo",
        "colab_type": "code",
        "colab": {
          "base_uri": "https://localhost:8080/",
          "height": 35
        },
        "outputId": "318706bd-714d-4bca-d52f-d2635d5c9521"
      },
      "source": [
        "df_stew = df[df['Food_Category'].str.contains(\"Stew\")]\n",
        "df_stew = df_stew.assign(Food_Category='Stew')\n",
        "df_stew.head()\n",
        "df_stew.shape"
      ],
      "execution_count": 71,
      "outputs": [
        {
          "output_type": "execute_result",
          "data": {
            "text/plain": [
              "(870, 2)"
            ]
          },
          "metadata": {
            "tags": []
          },
          "execution_count": 71
        }
      ]
    },
    {
      "cell_type": "markdown",
      "metadata": {
        "id": "AgDHMVI31zUq",
        "colab_type": "text"
      },
      "source": [
        "##FINAL CONCATENATION"
      ]
    },
    {
      "cell_type": "code",
      "metadata": {
        "id": "_NNDI7AI15N-",
        "colab_type": "code",
        "outputId": "79846284-085e-43d8-8132-1586ba6fee9f",
        "colab": {
          "base_uri": "https://localhost:8080/",
          "height": 35
        }
      },
      "source": [
        "df_concatenated = pd.concat([df_burger,df_cake,df_casserole,df_chicken,df_chips,df_custard,df_hummus,df_noodle,df_omelette,df_pasta,df_pie,df_pizza,df_salad,df_steak,df_sandwiches,df_muffin,df_sauce,df_pickles,df_cocktail,df_pudding,df_wraps,df_taco,df_daal,df_guacamole,df_doughnut,df_beef,df_bread,df_soup,df_smoothie,df_sorbet,df_chili,df_stew], ignore_index=True)\n",
        "df_shuffled = df_concatenated.sample(frac=1)\n",
        "df_shuffled.head()\n",
        "df_shuffled.shape\n",
        "#df_shuffled.columns"
      ],
      "execution_count": 72,
      "outputs": [
        {
          "output_type": "execute_result",
          "data": {
            "text/plain": [
              "(45139, 2)"
            ]
          },
          "metadata": {
            "tags": []
          },
          "execution_count": 72
        }
      ]
    },
    {
      "cell_type": "markdown",
      "metadata": {
        "id": "Unx9dYaV352o",
        "colab_type": "text"
      },
      "source": [
        "##SAVING as CSV\n"
      ]
    },
    {
      "cell_type": "code",
      "metadata": {
        "id": "33az-UhK3-XW",
        "colab_type": "code",
        "outputId": "ec689c6b-5c5e-48f7-94b8-3822f5f3ab37",
        "colab": {
          "base_uri": "https://localhost:8080/",
          "height": 35
        }
      },
      "source": [
        "df_shuffled.to_csv('/gdrive/My Drive/Dataa/recipe_title_foodCategory_v2.csv')\n",
        "!cp recipe_title_foodCategory.csv drive/My\\ Drive/"
      ],
      "execution_count": 73,
      "outputs": [
        {
          "output_type": "stream",
          "text": [
            "cp: cannot stat 'recipe_title_foodCategory.csv': No such file or directory\n"
          ],
          "name": "stdout"
        }
      ]
    },
    {
      "cell_type": "markdown",
      "metadata": {
        "id": "EwlOWVfQ17CG",
        "colab_type": "text"
      },
      "source": [
        "##MISCELLANEOUS\n"
      ]
    },
    {
      "cell_type": "code",
      "metadata": {
        "id": "N4XyWOA1oQIf",
        "colab_type": "code",
        "colab": {}
      },
      "source": [
        "def label_race (row):\n",
        "   if row['Food_Category'] == 'Cake' :\n",
        "      return 'Cake'\n",
        "   return 'Other'"
      ],
      "execution_count": 0,
      "outputs": []
    },
    {
      "cell_type": "code",
      "metadata": {
        "id": "_sCOqsMvpglZ",
        "colab_type": "code",
        "outputId": "01344cd6-b237-4772-96d8-b8576e724d86",
        "colab": {
          "base_uri": "https://localhost:8080/",
          "height": 1000
        }
      },
      "source": [
        "df.apply (lambda row: label_race(row), axis = 1)"
      ],
      "execution_count": 0,
      "outputs": [
        {
          "output_type": "execute_result",
          "data": {
            "text/plain": [
              "0        Other\n",
              "1        Other\n",
              "2        Other\n",
              "3        Other\n",
              "4        Other\n",
              "5        Other\n",
              "6        Other\n",
              "7        Other\n",
              "8        Other\n",
              "9        Other\n",
              "10       Other\n",
              "11       Other\n",
              "12       Other\n",
              "13       Other\n",
              "14       Other\n",
              "15       Other\n",
              "16       Other\n",
              "17       Other\n",
              "18       Other\n",
              "19       Other\n",
              "20       Other\n",
              "21       Other\n",
              "22       Other\n",
              "23       Other\n",
              "24       Other\n",
              "25       Other\n",
              "26       Other\n",
              "27       Other\n",
              "28       Other\n",
              "29       Other\n",
              "         ...  \n",
              "92709    Other\n",
              "92710    Other\n",
              "92711    Other\n",
              "92712    Other\n",
              "92713    Other\n",
              "92714    Other\n",
              "92715    Other\n",
              "92716    Other\n",
              "92717    Other\n",
              "92718    Other\n",
              "92719    Other\n",
              "92720    Other\n",
              "92721    Other\n",
              "92722    Other\n",
              "92723    Other\n",
              "92724    Other\n",
              "92725    Other\n",
              "92726    Other\n",
              "92727    Other\n",
              "92728    Other\n",
              "92729    Other\n",
              "92730    Other\n",
              "92731    Other\n",
              "92732    Other\n",
              "92733    Other\n",
              "92734    Other\n",
              "92735    Other\n",
              "92736    Other\n",
              "92737    Other\n",
              "92738    Other\n",
              "Length: 92739, dtype: object"
            ]
          },
          "metadata": {
            "tags": []
          },
          "execution_count": 33
        }
      ]
    },
    {
      "cell_type": "code",
      "metadata": {
        "id": "rW2iTRq7piRd",
        "colab_type": "code",
        "colab": {}
      },
      "source": [
        ""
      ],
      "execution_count": 0,
      "outputs": []
    }
  ]
}