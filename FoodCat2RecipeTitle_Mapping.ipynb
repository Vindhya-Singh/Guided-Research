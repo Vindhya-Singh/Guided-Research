{
  "nbformat": 4,
  "nbformat_minor": 0,
  "metadata": {
    "colab": {
      "name": "FoodCat2RecipeTitle_Mapping.ipynb",
      "provenance": [],
      "include_colab_link": true
    },
    "kernelspec": {
      "name": "python3",
      "display_name": "Python 3"
    }
  },
  "cells": [
    {
      "cell_type": "markdown",
      "metadata": {
        "id": "view-in-github",
        "colab_type": "text"
      },
      "source": [
        "<a href=\"https://colab.research.google.com/github/VindhyaSRajan/Guided-Research/blob/master/FoodCat2RecipeTitle_Mapping.ipynb\" target=\"_parent\"><img src=\"https://colab.research.google.com/assets/colab-badge.svg\" alt=\"Open In Colab\"/></a>"
      ]
    },
    {
      "cell_type": "code",
      "metadata": {
        "id": "W02muFTGlQLS",
        "colab_type": "code",
        "colab": {
          "base_uri": "https://localhost:8080/",
          "height": 139
        },
        "outputId": "cc5f46ca-07c5-4c5d-8395-0849a7735ade"
      },
      "source": [
        "from google.colab import drive\n",
        "drive.mount('/gdrive')\n",
        "%cd /gdrive"
      ],
      "execution_count": 1,
      "outputs": [
        {
          "output_type": "stream",
          "text": [
            "Go to this URL in a browser: https://accounts.google.com/o/oauth2/auth?client_id=947318989803-6bn6qk8qdgf4n4g3pfee6491hc0brc4i.apps.googleusercontent.com&redirect_uri=urn%3Aietf%3Awg%3Aoauth%3A2.0%3Aoob&scope=email%20https%3A%2F%2Fwww.googleapis.com%2Fauth%2Fdocs.test%20https%3A%2F%2Fwww.googleapis.com%2Fauth%2Fdrive%20https%3A%2F%2Fwww.googleapis.com%2Fauth%2Fdrive.photos.readonly%20https%3A%2F%2Fwww.googleapis.com%2Fauth%2Fpeopleapi.readonly&response_type=code\n",
            "\n",
            "Enter your authorization code:\n",
            "··········\n",
            "Mounted at /gdrive\n",
            "/gdrive\n"
          ],
          "name": "stdout"
        }
      ]
    },
    {
      "cell_type": "code",
      "metadata": {
        "id": "Q_cljxQ_m1Px",
        "colab_type": "code",
        "colab": {}
      },
      "source": [
        "import pandas as pd"
      ],
      "execution_count": 0,
      "outputs": []
    },
    {
      "cell_type": "code",
      "metadata": {
        "id": "AyFooUwulGaA",
        "colab_type": "code",
        "colab": {
          "base_uri": "https://localhost:8080/",
          "height": 194
        },
        "outputId": "042d2b78-7545-4462-eb99-230dbb35f236"
      },
      "source": [
        "data = pd.read_csv('/gdrive/My Drive/Dataa/recipe_titles.txt', delimiter=\"\\t\",header=None)\n",
        "df.columns = ['Recipe_Title']\n",
        "df['Food_Category'] = df.Recipe_Title.values\n",
        "df.head()"
      ],
      "execution_count": 29,
      "outputs": [
        {
          "output_type": "execute_result",
          "data": {
            "application/vnd.google.colaboratory.module+javascript": "\n      import \"https://ssl.gstatic.com/colaboratory/data_table/9e554b27bdd509f3/data_table.js\";\n\n      window.createDataTable({\n        data: [[{\n            'v': 0,\n            'f': \"0\",\n        },\n\"Salem Baked Custard\",\n\"Salem Baked Custard\"],\n [{\n            'v': 1,\n            'f': \"1\",\n        },\n\"Angel Food Cake\",\n\"Angel Food Cake\"],\n [{\n            'v': 2,\n            'f': \"2\",\n        },\n\"Christmas Breakfast Casserole\",\n\"Christmas Breakfast Casserole\"],\n [{\n            'v': 3,\n            'f': \"3\",\n        },\n\"Ww 3 Points - Vegetarian Spring Rolls\",\n\"Ww 3 Points - Vegetarian Spring Rolls\"],\n [{\n            'v': 4,\n            'f': \"4\",\n        },\n\"Cowgirl Stew\",\n\"Cowgirl Stew\"]],\n        columns: [[\"number\", \"index\"], [\"string\", \"Recipe_Title\"], [\"string\", \"Food_Category\"]],\n        columnOptions: [{\"width\": \"1px\", \"className\": \"index_column\"}],\n        rowsPerPage: 25,\n        helpUrl: \"https://colab.research.google.com/notebooks/data_table.ipynb\",\n      });\n    ",
            "text/html": [
              "<div>\n",
              "<style scoped>\n",
              "    .dataframe tbody tr th:only-of-type {\n",
              "        vertical-align: middle;\n",
              "    }\n",
              "\n",
              "    .dataframe tbody tr th {\n",
              "        vertical-align: top;\n",
              "    }\n",
              "\n",
              "    .dataframe thead th {\n",
              "        text-align: right;\n",
              "    }\n",
              "</style>\n",
              "<table border=\"1\" class=\"dataframe\">\n",
              "  <thead>\n",
              "    <tr style=\"text-align: right;\">\n",
              "      <th></th>\n",
              "      <th>Recipe_Title</th>\n",
              "      <th>Food_Category</th>\n",
              "    </tr>\n",
              "  </thead>\n",
              "  <tbody>\n",
              "    <tr>\n",
              "      <th>0</th>\n",
              "      <td>Salem Baked Custard</td>\n",
              "      <td>Salem Baked Custard</td>\n",
              "    </tr>\n",
              "    <tr>\n",
              "      <th>1</th>\n",
              "      <td>Angel Food Cake</td>\n",
              "      <td>Angel Food Cake</td>\n",
              "    </tr>\n",
              "    <tr>\n",
              "      <th>2</th>\n",
              "      <td>Christmas Breakfast Casserole</td>\n",
              "      <td>Christmas Breakfast Casserole</td>\n",
              "    </tr>\n",
              "    <tr>\n",
              "      <th>3</th>\n",
              "      <td>Ww 3 Points - Vegetarian Spring Rolls</td>\n",
              "      <td>Ww 3 Points - Vegetarian Spring Rolls</td>\n",
              "    </tr>\n",
              "    <tr>\n",
              "      <th>4</th>\n",
              "      <td>Cowgirl Stew</td>\n",
              "      <td>Cowgirl Stew</td>\n",
              "    </tr>\n",
              "  </tbody>\n",
              "</table>\n",
              "</div>"
            ],
            "text/plain": [
              "                            Recipe_Title                          Food_Category\n",
              "0                    Salem Baked Custard                    Salem Baked Custard\n",
              "1                        Angel Food Cake                        Angel Food Cake\n",
              "2          Christmas Breakfast Casserole          Christmas Breakfast Casserole\n",
              "3  Ww 3 Points - Vegetarian Spring Rolls  Ww 3 Points - Vegetarian Spring Rolls\n",
              "4                           Cowgirl Stew                           Cowgirl Stew"
            ]
          },
          "metadata": {
            "tags": []
          },
          "execution_count": 29
        }
      ]
    },
    {
      "cell_type": "code",
      "metadata": {
        "id": "ktLD8-thqDuw",
        "colab_type": "code",
        "colab": {
          "base_uri": "https://localhost:8080/",
          "height": 34
        },
        "outputId": "fe20360a-63b2-4dac-b686-484bb7d73872"
      },
      "source": [
        "df.shape"
      ],
      "execution_count": 25,
      "outputs": [
        {
          "output_type": "execute_result",
          "data": {
            "text/plain": [
              "(92739, 1)"
            ]
          },
          "metadata": {
            "tags": []
          },
          "execution_count": 25
        }
      ]
    },
    {
      "cell_type": "code",
      "metadata": {
        "id": "00Rs8BWusAiy",
        "colab_type": "code",
        "colab": {
          "base_uri": "https://localhost:8080/",
          "height": 34
        },
        "outputId": "f8bf5414-77ab-4e99-f723-a480f9b7e7c7"
      },
      "source": [
        "df.Food_Category.str.count(\"Pasta\").sum()"
      ],
      "execution_count": 34,
      "outputs": [
        {
          "output_type": "execute_result",
          "data": {
            "text/plain": [
              "1596"
            ]
          },
          "metadata": {
            "tags": []
          },
          "execution_count": 34
        }
      ]
    },
    {
      "cell_type": "code",
      "metadata": {
        "id": "HK4qQLkcsanG",
        "colab_type": "code",
        "colab": {
          "base_uri": "https://localhost:8080/",
          "height": 34
        },
        "outputId": "67dc9de3-1aba-4546-eecb-96a038367de8"
      },
      "source": [
        "df.Food_Category.str.count(\"Cake\").sum()"
      ],
      "execution_count": 35,
      "outputs": [
        {
          "output_type": "execute_result",
          "data": {
            "text/plain": [
              "3643"
            ]
          },
          "metadata": {
            "tags": []
          },
          "execution_count": 35
        }
      ]
    },
    {
      "cell_type": "markdown",
      "metadata": {
        "id": "jYVBu39Tu5tT",
        "colab_type": "text"
      },
      "source": [
        "## PASTA DATAFRAME"
      ]
    },
    {
      "cell_type": "code",
      "metadata": {
        "id": "4LOf8wOEtfnL",
        "colab_type": "code",
        "colab": {
          "base_uri": "https://localhost:8080/",
          "height": 34
        },
        "outputId": "b1a3e36a-1d70-4515-9812-73a27460098f"
      },
      "source": [
        "df_pasta = df[df['Food_Category'].str.contains(\"Pasta\")]\n",
        "df_pasta = df_pasta.assign(Food_Category='Pasta')\n",
        "df_pasta.head()\n",
        "df_pasta.shape"
      ],
      "execution_count": 40,
      "outputs": [
        {
          "output_type": "execute_result",
          "data": {
            "text/plain": [
              "(1584, 2)"
            ]
          },
          "metadata": {
            "tags": []
          },
          "execution_count": 40
        }
      ]
    },
    {
      "cell_type": "markdown",
      "metadata": {
        "id": "_4uxgCDwvX5I",
        "colab_type": "text"
      },
      "source": [
        "## CAKE DATAFRAME"
      ]
    },
    {
      "cell_type": "code",
      "metadata": {
        "id": "NZVe6ulOvDxd",
        "colab_type": "code",
        "colab": {
          "base_uri": "https://localhost:8080/",
          "height": 34
        },
        "outputId": "a8a36ea9-1b76-4722-a606-7082c43b75e9"
      },
      "source": [
        "df_cake = df[df['Food_Category'].str.contains(\"Cake\")]\n",
        "df_cake = df_cake.assign(Food_Category='Cake')\n",
        "df_cake.head()\n",
        "df_cake.shape"
      ],
      "execution_count": 42,
      "outputs": [
        {
          "output_type": "execute_result",
          "data": {
            "text/plain": [
              "(3608, 2)"
            ]
          },
          "metadata": {
            "tags": []
          },
          "execution_count": 42
        }
      ]
    },
    {
      "cell_type": "markdown",
      "metadata": {
        "id": "HAWvv6bkveVd",
        "colab_type": "text"
      },
      "source": [
        "##CHIPS DATAFRAME"
      ]
    },
    {
      "cell_type": "code",
      "metadata": {
        "id": "r2CR20lLvhhq",
        "colab_type": "code",
        "colab": {
          "base_uri": "https://localhost:8080/",
          "height": 34
        },
        "outputId": "c2ec1671-88c8-4fb6-e6cf-653523a98a0c"
      },
      "source": [
        "df_chips = df[df['Food_Category'].str.contains(\"Chips\")]\n",
        "df_chips = df_chips.assign(Food_Category='Chips')\n",
        "df_chips.tail()\n",
        "df_chips.shape"
      ],
      "execution_count": 46,
      "outputs": [
        {
          "output_type": "execute_result",
          "data": {
            "text/plain": [
              "(165, 2)"
            ]
          },
          "metadata": {
            "tags": []
          },
          "execution_count": 46
        }
      ]
    },
    {
      "cell_type": "markdown",
      "metadata": {
        "id": "vnK-WYTfwDVz",
        "colab_type": "text"
      },
      "source": [
        "##CHICKEN DATAFRAME"
      ]
    },
    {
      "cell_type": "code",
      "metadata": {
        "id": "i8zfHcIswQx6",
        "colab_type": "code",
        "colab": {
          "base_uri": "https://localhost:8080/",
          "height": 34
        },
        "outputId": "036cda62-19aa-437c-8d8b-8a57477336ec"
      },
      "source": [
        "df_chicken = df[df['Food_Category'].str.contains(\"Chicken\")]\n",
        "df_chicken = df_chicken.assign(Food_Category='Chicken')\n",
        "df_chicken.tail()\n",
        "df_chicken.shape"
      ],
      "execution_count": 48,
      "outputs": [
        {
          "output_type": "execute_result",
          "data": {
            "text/plain": [
              "(7840, 2)"
            ]
          },
          "metadata": {
            "tags": []
          },
          "execution_count": 48
        }
      ]
    },
    {
      "cell_type": "markdown",
      "metadata": {
        "id": "p93L1ZHaxDXI",
        "colab_type": "text"
      },
      "source": [
        "##CUSTARD DATAFRAME"
      ]
    },
    {
      "cell_type": "code",
      "metadata": {
        "id": "HSBhT4EjwQ22",
        "colab_type": "code",
        "colab": {
          "base_uri": "https://localhost:8080/",
          "height": 34
        },
        "outputId": "ccf51ba7-5a9d-46d2-ee36-67668cf5720d"
      },
      "source": [
        "df_custard = df[df['Food_Category'].str.contains(\"Custard\")]\n",
        "df_custard = df_custard.assign(Food_Category='Custard')\n",
        "df_custard.tail()\n",
        "df_custard.shape"
      ],
      "execution_count": 50,
      "outputs": [
        {
          "output_type": "execute_result",
          "data": {
            "text/plain": [
              "(222, 2)"
            ]
          },
          "metadata": {
            "tags": []
          },
          "execution_count": 50
        }
      ]
    },
    {
      "cell_type": "markdown",
      "metadata": {
        "id": "M8kocAfNxcKs",
        "colab_type": "text"
      },
      "source": [
        "##SALAD DATAFRAME"
      ]
    },
    {
      "cell_type": "code",
      "metadata": {
        "id": "Xw0zaZu8wQ9p",
        "colab_type": "code",
        "colab": {
          "base_uri": "https://localhost:8080/",
          "height": 34
        },
        "outputId": "b139f25c-96fd-4835-fd9a-3509cfd73c44"
      },
      "source": [
        "df_salad = df[df['Food_Category'].str.contains(\"Salad\")]\n",
        "df_salad = df_salad.assign(Food_Category='Salad')\n",
        "df_salad.tail()\n",
        "df_salad.shape"
      ],
      "execution_count": 52,
      "outputs": [
        {
          "output_type": "execute_result",
          "data": {
            "text/plain": [
              "(5466, 2)"
            ]
          },
          "metadata": {
            "tags": []
          },
          "execution_count": 52
        }
      ]
    },
    {
      "cell_type": "markdown",
      "metadata": {
        "id": "0Z-kMkEAyrOv",
        "colab_type": "text"
      },
      "source": [
        "##OMELETTE DATAFRAME"
      ]
    },
    {
      "cell_type": "code",
      "metadata": {
        "id": "FI-AJr5DwREX",
        "colab_type": "code",
        "colab": {
          "base_uri": "https://localhost:8080/",
          "height": 34
        },
        "outputId": "d6d5cfe1-bbf3-492e-dc86-b7161c070c6e"
      },
      "source": [
        "df_omelette = df[df['Food_Category'].str.contains(\"Omelette\")]\n",
        "df_omelette = df_omelette.assign(Food_Category='Omelette')\n",
        "df_omelette.tail()\n",
        "df_omelette.shape"
      ],
      "execution_count": 54,
      "outputs": [
        {
          "output_type": "execute_result",
          "data": {
            "text/plain": [
              "(68, 2)"
            ]
          },
          "metadata": {
            "tags": []
          },
          "execution_count": 54
        }
      ]
    },
    {
      "cell_type": "markdown",
      "metadata": {
        "id": "S1TbjS65zRo0",
        "colab_type": "text"
      },
      "source": [
        "##PIZZA DATAFRAME"
      ]
    },
    {
      "cell_type": "code",
      "metadata": {
        "id": "_-BAmKZHwRCc",
        "colab_type": "code",
        "colab": {
          "base_uri": "https://localhost:8080/",
          "height": 34
        },
        "outputId": "e91fe5c5-23e5-4faa-9ed8-a36e9abf657f"
      },
      "source": [
        "df_pizza = df[df['Food_Category'].str.contains(\"Pizza\")]\n",
        "df_pizza = df_pizza.assign(Food_Category='Pizza')\n",
        "df_pizza.tail()\n",
        "df_pizza.shape"
      ],
      "execution_count": 56,
      "outputs": [
        {
          "output_type": "execute_result",
          "data": {
            "text/plain": [
              "(1058, 2)"
            ]
          },
          "metadata": {
            "tags": []
          },
          "execution_count": 56
        }
      ]
    },
    {
      "cell_type": "markdown",
      "metadata": {
        "id": "m6M90quazVZU",
        "colab_type": "text"
      },
      "source": [
        "##BURGER DATAFRAME"
      ]
    },
    {
      "cell_type": "code",
      "metadata": {
        "id": "5dPmleRZwRAo",
        "colab_type": "code",
        "colab": {
          "base_uri": "https://localhost:8080/",
          "height": 34
        },
        "outputId": "ecbbde69-3315-4ad5-b33f-a4f0c0f0294d"
      },
      "source": [
        "df_burger = df[df['Food_Category'].str.contains(\"Burger\")]\n",
        "df_burger = df_burger.assign(Food_Category='Burger')\n",
        "df_burger.tail()\n",
        "df_burger.shape"
      ],
      "execution_count": 59,
      "outputs": [
        {
          "output_type": "execute_result",
          "data": {
            "text/plain": [
              "(699, 2)"
            ]
          },
          "metadata": {
            "tags": []
          },
          "execution_count": 59
        }
      ]
    },
    {
      "cell_type": "markdown",
      "metadata": {
        "id": "kukBZ0qTz9JQ",
        "colab_type": "text"
      },
      "source": [
        "##PIE DATAFRAME"
      ]
    },
    {
      "cell_type": "code",
      "metadata": {
        "id": "JhtC5wxZwQ7O",
        "colab_type": "code",
        "colab": {
          "base_uri": "https://localhost:8080/",
          "height": 34
        },
        "outputId": "15fe6148-5e6e-4513-e23e-b9d0838f7401"
      },
      "source": [
        "df_pie = df[df['Food_Category'].str.contains(\"Pie\")]\n",
        "df_pie = df_pie.assign(Food_Category='Pie')\n",
        "df_pie.tail()\n",
        "df_pie.shape"
      ],
      "execution_count": 61,
      "outputs": [
        {
          "output_type": "execute_result",
          "data": {
            "text/plain": [
              "(2663, 2)"
            ]
          },
          "metadata": {
            "tags": []
          },
          "execution_count": 61
        }
      ]
    },
    {
      "cell_type": "markdown",
      "metadata": {
        "id": "cjB0KJ-i0aKE",
        "colab_type": "text"
      },
      "source": [
        "##NOODLE DATAFRAME"
      ]
    },
    {
      "cell_type": "code",
      "metadata": {
        "id": "xkbw_k_dwQ5j",
        "colab_type": "code",
        "colab": {
          "base_uri": "https://localhost:8080/",
          "height": 34
        },
        "outputId": "4757d113-ee9e-4fe7-f575-705214df6506"
      },
      "source": [
        "df_noodle = df[df['Food_Category'].str.contains(\"Noodles\")]\n",
        "df_noodle = df_noodle.assign(Food_Category='Noodles')\n",
        "df_noodle.tail()\n",
        "df_noodle.shape"
      ],
      "execution_count": 63,
      "outputs": [
        {
          "output_type": "execute_result",
          "data": {
            "text/plain": [
              "(389, 2)"
            ]
          },
          "metadata": {
            "tags": []
          },
          "execution_count": 63
        }
      ]
    },
    {
      "cell_type": "markdown",
      "metadata": {
        "id": "QEHeX8xa0xFN",
        "colab_type": "text"
      },
      "source": [
        "##HUMMUS DATAFRAME"
      ]
    },
    {
      "cell_type": "code",
      "metadata": {
        "id": "X_3TVVqWwQve",
        "colab_type": "code",
        "colab": {
          "base_uri": "https://localhost:8080/",
          "height": 34
        },
        "outputId": "29404a59-5eb2-4e85-b8fa-ef1e9f61d053"
      },
      "source": [
        "df_hummus = df[df['Food_Category'].str.contains(\"Hummus\")]\n",
        "df_hummus = df_hummus.assign(Food_Category='Hummus')\n",
        "df_hummus.tail()\n",
        "df_hummus.shape"
      ],
      "execution_count": 65,
      "outputs": [
        {
          "output_type": "execute_result",
          "data": {
            "text/plain": [
              "(150, 2)"
            ]
          },
          "metadata": {
            "tags": []
          },
          "execution_count": 65
        }
      ]
    },
    {
      "cell_type": "markdown",
      "metadata": {
        "id": "_kgqq7BX1POB",
        "colab_type": "text"
      },
      "source": [
        "##CASSEROLE DATAFRAME"
      ]
    },
    {
      "cell_type": "code",
      "metadata": {
        "id": "auAFehnlwQs4",
        "colab_type": "code",
        "colab": {
          "base_uri": "https://localhost:8080/",
          "height": 34
        },
        "outputId": "8652d063-1b2e-4ccd-ead0-8b21af864f2e"
      },
      "source": [
        "df_casserole = df[df['Food_Category'].str.contains(\"Casserole\")]\n",
        "df_casserole = df_casserole.assign(Food_Category='Casserole')\n",
        "df_casserole.tail()\n",
        "df_casserole.shape"
      ],
      "execution_count": 67,
      "outputs": [
        {
          "output_type": "execute_result",
          "data": {
            "text/plain": [
              "(1557, 2)"
            ]
          },
          "metadata": {
            "tags": []
          },
          "execution_count": 67
        }
      ]
    },
    {
      "cell_type": "markdown",
      "metadata": {
        "id": "1pyoMcq_1suO",
        "colab_type": "text"
      },
      "source": [
        "##STEAK DATAFRAME "
      ]
    },
    {
      "cell_type": "code",
      "metadata": {
        "id": "cTUTatWo1TvV",
        "colab_type": "code",
        "colab": {
          "base_uri": "https://localhost:8080/",
          "height": 34
        },
        "outputId": "393fb6ef-7c63-4f57-c851-31fbbb5c1a25"
      },
      "source": [
        "df_steak = df[df['Food_Category'].str.contains(\"Steak\")]\n",
        "df_steak = df_steak.assign(Food_Category='Steak')\n",
        "df_steak.tail()\n",
        "df_steak.shape"
      ],
      "execution_count": 69,
      "outputs": [
        {
          "output_type": "execute_result",
          "data": {
            "text/plain": [
              "(1029, 2)"
            ]
          },
          "metadata": {
            "tags": []
          },
          "execution_count": 69
        }
      ]
    },
    {
      "cell_type": "markdown",
      "metadata": {
        "id": "AgDHMVI31zUq",
        "colab_type": "text"
      },
      "source": [
        "##FINAL CONCATENATION"
      ]
    },
    {
      "cell_type": "code",
      "metadata": {
        "id": "_NNDI7AI15N-",
        "colab_type": "code",
        "colab": {
          "base_uri": "https://localhost:8080/",
          "height": 34
        },
        "outputId": "ac299e61-84bf-49a3-91e1-d7cc8ccc4e25"
      },
      "source": [
        "df_concatenated = pd.concat([df_burger,df_cake,df_casserole,df_chicken,df_chips,df_custard,df_hummus,df_noodle,df_omelette,df_pasta,df_pie,df_pizza,df_salad,df_steak], ignore_index=True)\n",
        "df_shuffled = df_concatenated.sample(frac=1)\n",
        "df_shuffled.head()\n",
        "df_shuffled.shape\n",
        "#df_shuffled.columns"
      ],
      "execution_count": 76,
      "outputs": [
        {
          "output_type": "execute_result",
          "data": {
            "text/plain": [
              "Index(['Recipe_Title', 'Food_Category'], dtype='object')"
            ]
          },
          "metadata": {
            "tags": []
          },
          "execution_count": 76
        }
      ]
    },
    {
      "cell_type": "markdown",
      "metadata": {
        "id": "Unx9dYaV352o",
        "colab_type": "text"
      },
      "source": [
        "##SAVING as CSV\n"
      ]
    },
    {
      "cell_type": "code",
      "metadata": {
        "id": "33az-UhK3-XW",
        "colab_type": "code",
        "colab": {
          "base_uri": "https://localhost:8080/",
          "height": 34
        },
        "outputId": "02b3b244-27e8-49a2-d1d9-1139ba74c3c4"
      },
      "source": [
        "df_shuffled.to_csv('/gdrive/My Drive/Dataa/recipe_title_foodCategory.csv')\n",
        "!cp recipe_title_foodCategory.csv drive/My\\ Drive/"
      ],
      "execution_count": 77,
      "outputs": [
        {
          "output_type": "stream",
          "text": [
            "cp: cannot stat 'recipe_title_foodCategory.csv': No such file or directory\n"
          ],
          "name": "stdout"
        }
      ]
    },
    {
      "cell_type": "markdown",
      "metadata": {
        "id": "EwlOWVfQ17CG",
        "colab_type": "text"
      },
      "source": [
        "##MISCELLANEOUS\n"
      ]
    },
    {
      "cell_type": "code",
      "metadata": {
        "id": "N4XyWOA1oQIf",
        "colab_type": "code",
        "colab": {}
      },
      "source": [
        "def label_race (row):\n",
        "   if row['Food_Category'] == 'Cake' :\n",
        "      return 'Cake'\n",
        "   return 'Other'"
      ],
      "execution_count": 0,
      "outputs": []
    },
    {
      "cell_type": "code",
      "metadata": {
        "id": "_sCOqsMvpglZ",
        "colab_type": "code",
        "colab": {
          "base_uri": "https://localhost:8080/",
          "height": 1000
        },
        "outputId": "01344cd6-b237-4772-96d8-b8576e724d86"
      },
      "source": [
        "df.apply (lambda row: label_race(row), axis = 1)"
      ],
      "execution_count": 33,
      "outputs": [
        {
          "output_type": "execute_result",
          "data": {
            "text/plain": [
              "0        Other\n",
              "1        Other\n",
              "2        Other\n",
              "3        Other\n",
              "4        Other\n",
              "5        Other\n",
              "6        Other\n",
              "7        Other\n",
              "8        Other\n",
              "9        Other\n",
              "10       Other\n",
              "11       Other\n",
              "12       Other\n",
              "13       Other\n",
              "14       Other\n",
              "15       Other\n",
              "16       Other\n",
              "17       Other\n",
              "18       Other\n",
              "19       Other\n",
              "20       Other\n",
              "21       Other\n",
              "22       Other\n",
              "23       Other\n",
              "24       Other\n",
              "25       Other\n",
              "26       Other\n",
              "27       Other\n",
              "28       Other\n",
              "29       Other\n",
              "         ...  \n",
              "92709    Other\n",
              "92710    Other\n",
              "92711    Other\n",
              "92712    Other\n",
              "92713    Other\n",
              "92714    Other\n",
              "92715    Other\n",
              "92716    Other\n",
              "92717    Other\n",
              "92718    Other\n",
              "92719    Other\n",
              "92720    Other\n",
              "92721    Other\n",
              "92722    Other\n",
              "92723    Other\n",
              "92724    Other\n",
              "92725    Other\n",
              "92726    Other\n",
              "92727    Other\n",
              "92728    Other\n",
              "92729    Other\n",
              "92730    Other\n",
              "92731    Other\n",
              "92732    Other\n",
              "92733    Other\n",
              "92734    Other\n",
              "92735    Other\n",
              "92736    Other\n",
              "92737    Other\n",
              "92738    Other\n",
              "Length: 92739, dtype: object"
            ]
          },
          "metadata": {
            "tags": []
          },
          "execution_count": 33
        }
      ]
    },
    {
      "cell_type": "code",
      "metadata": {
        "id": "rW2iTRq7piRd",
        "colab_type": "code",
        "colab": {}
      },
      "source": [
        ""
      ],
      "execution_count": 0,
      "outputs": []
    }
  ]
}