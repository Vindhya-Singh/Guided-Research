{
  "nbformat": 4,
  "nbformat_minor": 0,
  "metadata": {
    "colab": {
      "name": "GR_datapreprocessing.ipynb",
      "version": "0.3.2",
      "provenance": [],
      "collapsed_sections": []
    },
    "kernelspec": {
      "name": "python3",
      "display_name": "Python 3"
    }
  },
  "cells": [
    {
      "cell_type": "code",
      "metadata": {
        "id": "1o9ucY9upbqQ",
        "colab_type": "code",
        "outputId": "03483f09-91b7-4a95-b047-440af569e341",
        "colab": {
          "base_uri": "https://localhost:8080/",
          "height": 139
        }
      },
      "source": [
        "from google.colab import drive\n",
        "drive.mount('/gdrive')\n",
        "%cd /gdrive"
      ],
      "execution_count": 0,
      "outputs": [
        {
          "output_type": "stream",
          "text": [
            "Go to this URL in a browser: https://accounts.google.com/o/oauth2/auth?client_id=947318989803-6bn6qk8qdgf4n4g3pfee6491hc0brc4i.apps.googleusercontent.com&redirect_uri=urn%3Aietf%3Awg%3Aoauth%3A2.0%3Aoob&scope=email%20https%3A%2F%2Fwww.googleapis.com%2Fauth%2Fdocs.test%20https%3A%2F%2Fwww.googleapis.com%2Fauth%2Fdrive%20https%3A%2F%2Fwww.googleapis.com%2Fauth%2Fdrive.photos.readonly%20https%3A%2F%2Fwww.googleapis.com%2Fauth%2Fpeopleapi.readonly&response_type=code\n",
            "\n",
            "Enter your authorization code:\n",
            "··········\n",
            "Mounted at /gdrive\n",
            "/gdrive\n"
          ],
          "name": "stdout"
        }
      ]
    },
    {
      "cell_type": "code",
      "metadata": {
        "id": "HxCurfCzjPtI",
        "colab_type": "code",
        "outputId": "f504a83f-9649-4d30-b0b9-1d93aff05f49",
        "colab": {
          "base_uri": "https://localhost:8080/",
          "height": 85
        }
      },
      "source": [
        "#installing all the libraries needed for the task\n",
        "import pandas as pd\n",
        "import json\n",
        "import nltk\n",
        "from pandas.io.json import json_normalize\n",
        "nltk.download('stopwords')\n",
        "nltk.download('punkt')\n",
        "import re  \n",
        "from nltk.corpus import stopwords\n",
        "stops1 = set(stopwords.words(\"english\"))"
      ],
      "execution_count": 0,
      "outputs": [
        {
          "output_type": "stream",
          "text": [
            "[nltk_data] Downloading package stopwords to /root/nltk_data...\n",
            "[nltk_data]   Unzipping corpora/stopwords.zip.\n",
            "[nltk_data] Downloading package punkt to /root/nltk_data...\n",
            "[nltk_data]   Unzipping tokenizers/punkt.zip.\n"
          ],
          "name": "stdout"
        }
      ]
    },
    {
      "cell_type": "code",
      "metadata": {
        "id": "7l4t-P18yK8g",
        "colab_type": "code",
        "outputId": "faed999f-a743-483f-c202-2709bd2f87f3",
        "colab": {
          "base_uri": "https://localhost:8080/",
          "height": 255
        }
      },
      "source": [
        "#converting json to pandas dataframe\n",
        "with open('/gdrive/My Drive/Colab Notebooks/layer1.json', 'r') as f:\n",
        "    data = json.load(f)\n",
        "    \n",
        "df = pd.DataFrame(data)\n",
        "df.head()"
      ],
      "execution_count": 0,
      "outputs": [
        {
          "output_type": "execute_result",
          "data": {
            "text/html": [
              "<div>\n",
              "<style scoped>\n",
              "    .dataframe tbody tr th:only-of-type {\n",
              "        vertical-align: middle;\n",
              "    }\n",
              "\n",
              "    .dataframe tbody tr th {\n",
              "        vertical-align: top;\n",
              "    }\n",
              "\n",
              "    .dataframe thead th {\n",
              "        text-align: right;\n",
              "    }\n",
              "</style>\n",
              "<table border=\"1\" class=\"dataframe\">\n",
              "  <thead>\n",
              "    <tr style=\"text-align: right;\">\n",
              "      <th></th>\n",
              "      <th>id</th>\n",
              "      <th>ingredients</th>\n",
              "      <th>instructions</th>\n",
              "      <th>partition</th>\n",
              "      <th>title</th>\n",
              "      <th>url</th>\n",
              "    </tr>\n",
              "  </thead>\n",
              "  <tbody>\n",
              "    <tr>\n",
              "      <th>0</th>\n",
              "      <td>000018c8a5</td>\n",
              "      <td>[{'text': '6 ounces penne'}, {'text': '2 cups ...</td>\n",
              "      <td>[{'text': 'Preheat the oven to 350 F. Butter o...</td>\n",
              "      <td>train</td>\n",
              "      <td>Worlds Best Mac and Cheese</td>\n",
              "      <td>http://www.epicurious.com/recipes/food/views/-...</td>\n",
              "    </tr>\n",
              "    <tr>\n",
              "      <th>1</th>\n",
              "      <td>000033e39b</td>\n",
              "      <td>[{'text': '1 c. elbow macaroni'}, {'text': '1 ...</td>\n",
              "      <td>[{'text': 'Cook macaroni according to package ...</td>\n",
              "      <td>train</td>\n",
              "      <td>Dilly Macaroni Salad Recipe</td>\n",
              "      <td>http://cookeatshare.com/recipes/dilly-macaroni...</td>\n",
              "    </tr>\n",
              "    <tr>\n",
              "      <th>2</th>\n",
              "      <td>000035f7ed</td>\n",
              "      <td>[{'text': '8 tomatoes, quartered'}, {'text': '...</td>\n",
              "      <td>[{'text': 'Add the tomatoes to a food processo...</td>\n",
              "      <td>train</td>\n",
              "      <td>Gazpacho</td>\n",
              "      <td>http://www.foodnetwork.com/recipes/gazpacho1.html</td>\n",
              "    </tr>\n",
              "    <tr>\n",
              "      <th>3</th>\n",
              "      <td>00003a70b1</td>\n",
              "      <td>[{'text': '2 12 cups milk'}, {'text': '1 12 cu...</td>\n",
              "      <td>[{'text': 'Preheat oven to 350 degrees Fahrenh...</td>\n",
              "      <td>test</td>\n",
              "      <td>Crunchy Onion Potato Bake</td>\n",
              "      <td>http://www.food.com/recipe/crunchy-onion-potat...</td>\n",
              "    </tr>\n",
              "    <tr>\n",
              "      <th>4</th>\n",
              "      <td>00004320bb</td>\n",
              "      <td>[{'text': '1 (3 ounce) package watermelon gela...</td>\n",
              "      <td>[{'text': 'Dissolve Jello in boiling water.'},...</td>\n",
              "      <td>train</td>\n",
              "      <td>Cool 'n Easy Creamy Watermelon Pie</td>\n",
              "      <td>http://www.food.com/recipe/cool-n-easy-creamy-...</td>\n",
              "    </tr>\n",
              "  </tbody>\n",
              "</table>\n",
              "</div>"
            ],
            "text/plain": [
              "           id  ...                                                url\n",
              "0  000018c8a5  ...  http://www.epicurious.com/recipes/food/views/-...\n",
              "1  000033e39b  ...  http://cookeatshare.com/recipes/dilly-macaroni...\n",
              "2  000035f7ed  ...  http://www.foodnetwork.com/recipes/gazpacho1.html\n",
              "3  00003a70b1  ...  http://www.food.com/recipe/crunchy-onion-potat...\n",
              "4  00004320bb  ...  http://www.food.com/recipe/cool-n-easy-creamy-...\n",
              "\n",
              "[5 rows x 6 columns]"
            ]
          },
          "metadata": {
            "tags": []
          },
          "execution_count": 4
        }
      ]
    },
    {
      "cell_type": "code",
      "metadata": {
        "id": "5wDSluzVEPkO",
        "colab_type": "code",
        "outputId": "597bb5d8-c439-4d93-c93c-2d6c52e3fac6",
        "colab": {
          "base_uri": "https://localhost:8080/",
          "height": 374
        }
      },
      "source": [
        "df.ingredients.head(20)"
      ],
      "execution_count": 0,
      "outputs": [
        {
          "output_type": "execute_result",
          "data": {
            "text/plain": [
              "0     [{'text': '6 ounces penne'}, {'text': '2 cups ...\n",
              "1     [{'text': '1 c. elbow macaroni'}, {'text': '1 ...\n",
              "2     [{'text': '8 tomatoes, quartered'}, {'text': '...\n",
              "3     [{'text': '2 12 cups milk'}, {'text': '1 12 cu...\n",
              "4     [{'text': '1 (3 ounce) package watermelon gela...\n",
              "5     [{'text': '12 cup shredded coconut'}, {'text':...\n",
              "6     [{'text': '2 Chicken thighs'}, {'text': '2 tsp...\n",
              "7     [{'text': '6 -8 cups fresh rhubarb, or'}, {'te...\n",
              "8     [{'text': '8 ounces, weight Light Fat Free Van...\n",
              "9     [{'text': '2 cups flour'}, {'text': '1 tablesp...\n",
              "10    [{'text': '1/2 cup green onions, chopped'}, {'...\n",
              "11    [{'text': '1 teaspoon fennel seeds'}, {'text':...\n",
              "12    [{'text': '1 (750 ml) bottle rose wine, chille...\n",
              "13    [{'text': '14 cup butter'}, {'text': '34 cup b...\n",
              "14    [{'text': '200 grams Cake flour'}, {'text': '1...\n",
              "15    [{'text': '1 can tomato sauce'}, {'text': '1 c...\n",
              "16    [{'text': '1 12 lbs ground beef'}, {'text': '3...\n",
              "17    [{'text': '1 (10 ounce) package frozen chopped...\n",
              "18    [{'text': '1/2 cup A.1. Classic Marinade'}, {'...\n",
              "19    [{'text': '1 cup lentils'}, {'text': '12 onion...\n",
              "Name: ingredients, dtype: object"
            ]
          },
          "metadata": {
            "tags": []
          },
          "execution_count": 5
        }
      ]
    },
    {
      "cell_type": "code",
      "metadata": {
        "id": "nPal-wwDE4KV",
        "colab_type": "code",
        "outputId": "cbac93d2-43d0-402f-f767-5232377bc3b6",
        "colab": {
          "base_uri": "https://localhost:8080/",
          "height": 204
        }
      },
      "source": [
        "ingredients = pd.io.json.json_normalize(data, record_path='ingredients')\n",
        "ingredients.tail()\n"
      ],
      "execution_count": 33,
      "outputs": [
        {
          "output_type": "execute_result",
          "data": {
            "text/html": [
              "<div>\n",
              "<style scoped>\n",
              "    .dataframe tbody tr th:only-of-type {\n",
              "        vertical-align: middle;\n",
              "    }\n",
              "\n",
              "    .dataframe tbody tr th {\n",
              "        vertical-align: top;\n",
              "    }\n",
              "\n",
              "    .dataframe thead th {\n",
              "        text-align: right;\n",
              "    }\n",
              "</style>\n",
              "<table border=\"1\" class=\"dataframe\">\n",
              "  <thead>\n",
              "    <tr style=\"text-align: right;\">\n",
              "      <th></th>\n",
              "      <th>text</th>\n",
              "    </tr>\n",
              "  </thead>\n",
              "  <tbody>\n",
              "    <tr>\n",
              "      <th>9605389</th>\n",
              "      <td>8 cups water</td>\n",
              "    </tr>\n",
              "    <tr>\n",
              "      <th>9605390</th>\n",
              "      <td>2/3 cup packed light brown sugar</td>\n",
              "    </tr>\n",
              "    <tr>\n",
              "      <th>9605391</th>\n",
              "      <td>1 teaspoon molasses</td>\n",
              "    </tr>\n",
              "    <tr>\n",
              "      <th>9605392</th>\n",
              "      <td>2 (3-inch) cinnamon sticks</td>\n",
              "    </tr>\n",
              "    <tr>\n",
              "      <th>9605393</th>\n",
              "      <td>1 cup medium-grind coffee (not espresso)</td>\n",
              "    </tr>\n",
              "  </tbody>\n",
              "</table>\n",
              "</div>"
            ],
            "text/plain": [
              "                                             text\n",
              "9605389                              8 cups water\n",
              "9605390          2/3 cup packed light brown sugar\n",
              "9605391                       1 teaspoon molasses\n",
              "9605392                2 (3-inch) cinnamon sticks\n",
              "9605393  1 cup medium-grind coffee (not espresso)"
            ]
          },
          "metadata": {
            "tags": []
          },
          "execution_count": 33
        }
      ]
    },
    {
      "cell_type": "code",
      "metadata": {
        "id": "jHJkGtUZWbVB",
        "colab_type": "code",
        "colab": {
          "base_uri": "https://localhost:8080/",
          "height": 34
        },
        "outputId": "88d38b02-4025-42a2-c7b7-d7b717e4516a"
      },
      "source": [
        "#Counting the number of occurrences of quantities\n",
        "#list = {\"ounce\",\"cup\",\"teaspoon\",\"lbs\",\"tbsp\",\"pound\",\"piece\",\"slice\",\"dozen\",\"gram\",\"pinch\",\"tablespoons\"}\n",
        "# making series \n",
        "#series = pd.Series(list) \n",
        "  \n",
        "ingredients.text.str.count(\"tablespoons\")\n",
        "ingredients.text.str.count(\"tablespoons\").sum()\n",
        "#ingredients.info"
      ],
      "execution_count": 32,
      "outputs": [
        {
          "output_type": "execute_result",
          "data": {
            "text/plain": [
              "703579"
            ]
          },
          "metadata": {
            "tags": []
          },
          "execution_count": 32
        }
      ]
    },
    {
      "cell_type": "code",
      "metadata": {
        "id": "KI25uipzcA8i",
        "colab_type": "code",
        "colab": {
          "base_uri": "https://localhost:8080/",
          "height": 204
        },
        "outputId": "89ab3fa1-eb51-443e-cf59-b9117266f8ee"
      },
      "source": [
        "#Creating a df of the counts and visualising it\n",
        "data = [['ounce', 663540], ['cup', 2671960], ['teaspoon', 1436012],['lbs',72205],['tbsp',133997],['pound',162761],['piece',86804],['slice',363711],['dozen',2396],['gram',53798],['pinch',54814],['tablespoons',703579]] \n",
        "df_quantity = pd.DataFrame(data, columns = ['Unit', 'Occurences'])\n",
        "df_quantity.head()\n"
      ],
      "execution_count": 34,
      "outputs": [
        {
          "output_type": "execute_result",
          "data": {
            "text/html": [
              "<div>\n",
              "<style scoped>\n",
              "    .dataframe tbody tr th:only-of-type {\n",
              "        vertical-align: middle;\n",
              "    }\n",
              "\n",
              "    .dataframe tbody tr th {\n",
              "        vertical-align: top;\n",
              "    }\n",
              "\n",
              "    .dataframe thead th {\n",
              "        text-align: right;\n",
              "    }\n",
              "</style>\n",
              "<table border=\"1\" class=\"dataframe\">\n",
              "  <thead>\n",
              "    <tr style=\"text-align: right;\">\n",
              "      <th></th>\n",
              "      <th>Unit</th>\n",
              "      <th>Occurences</th>\n",
              "    </tr>\n",
              "  </thead>\n",
              "  <tbody>\n",
              "    <tr>\n",
              "      <th>0</th>\n",
              "      <td>ounce</td>\n",
              "      <td>663540</td>\n",
              "    </tr>\n",
              "    <tr>\n",
              "      <th>1</th>\n",
              "      <td>cup</td>\n",
              "      <td>2671960</td>\n",
              "    </tr>\n",
              "    <tr>\n",
              "      <th>2</th>\n",
              "      <td>teaspoon</td>\n",
              "      <td>1436012</td>\n",
              "    </tr>\n",
              "    <tr>\n",
              "      <th>3</th>\n",
              "      <td>lbs</td>\n",
              "      <td>72205</td>\n",
              "    </tr>\n",
              "    <tr>\n",
              "      <th>4</th>\n",
              "      <td>tbsp</td>\n",
              "      <td>133997</td>\n",
              "    </tr>\n",
              "  </tbody>\n",
              "</table>\n",
              "</div>"
            ],
            "text/plain": [
              "       Unit  Occurences\n",
              "0     ounce      663540\n",
              "1       cup     2671960\n",
              "2  teaspoon     1436012\n",
              "3       lbs       72205\n",
              "4      tbsp      133997"
            ]
          },
          "metadata": {
            "tags": []
          },
          "execution_count": 34
        }
      ]
    },
    {
      "cell_type": "code",
      "metadata": {
        "id": "9qb6SBe1dpIA",
        "colab_type": "code",
        "colab": {
          "base_uri": "https://localhost:8080/",
          "height": 283
        },
        "outputId": "5bc64ab5-97fc-45bf-9f33-b87d9c54148c"
      },
      "source": [
        "#Visualising the number of occurences of the units\n",
        "import matplotlib.pyplot as plt\n",
        "\n",
        "ax = df_quantity.plot.bar(x='Unit', y='Occurences', rot=0)\n",
        "\n",
        "\n",
        "\n"
      ],
      "execution_count": 42,
      "outputs": [
        {
          "output_type": "display_data",
          "data": {
            "image/png": "[encoded data removed]",
            "text/plain": [
              "<Figure size 432x288 with 1 Axes>"
            ]
          },
          "metadata": {
            "tags": []
          }
        }
      ]
    },
    {
      "cell_type": "code",
      "metadata": {
        "id": "BWYFf-IIowtT",
        "colab_type": "code",
        "outputId": "d65cc4a0-d1b9-4022-811a-b00724361530",
        "colab": {
          "base_uri": "https://localhost:8080/",
          "height": 391
        }
      },
      "source": [
        "train1 = pd.DataFrame(pd.concat([ ingredients['text']], axis=1))\n",
        "train1.head()"
      ],
      "execution_count": 0,
      "outputs": [
        {
          "output_type": "execute_result",
          "data": {
            "text/html": [
              "<div>\n",
              "<style scoped>\n",
              "    .dataframe tbody tr th:only-of-type {\n",
              "        vertical-align: middle;\n",
              "    }\n",
              "\n",
              "    .dataframe tbody tr th {\n",
              "        vertical-align: top;\n",
              "    }\n",
              "\n",
              "    .dataframe thead th {\n",
              "        text-align: right;\n",
              "    }\n",
              "</style>\n",
              "<table border=\"1\" class=\"dataframe\">\n",
              "  <thead>\n",
              "    <tr style=\"text-align: right;\">\n",
              "      <th></th>\n",
              "      <th>text</th>\n",
              "    </tr>\n",
              "  </thead>\n",
              "  <tbody>\n",
              "    <tr>\n",
              "      <th>0</th>\n",
              "      <td>6 ounces penne</td>\n",
              "    </tr>\n",
              "    <tr>\n",
              "      <th>1</th>\n",
              "      <td>2 cups Beechers Flagship Cheese Sauce (recipe ...</td>\n",
              "    </tr>\n",
              "    <tr>\n",
              "      <th>2</th>\n",
              "      <td>1 ounce Cheddar, grated (1/4 cup)</td>\n",
              "    </tr>\n",
              "    <tr>\n",
              "      <th>3</th>\n",
              "      <td>1 ounce Gruyere cheese, grated (1/4 cup)</td>\n",
              "    </tr>\n",
              "    <tr>\n",
              "      <th>4</th>\n",
              "      <td>1/4 to 1/2 teaspoon chipotle chili powder (see...</td>\n",
              "    </tr>\n",
              "  </tbody>\n",
              "</table>\n",
              "</div>"
            ],
            "text/plain": [
              "                                                text\n",
              "0                                     6 ounces penne\n",
              "1  2 cups Beechers Flagship Cheese Sauce (recipe ...\n",
              "2                  1 ounce Cheddar, grated (1/4 cup)\n",
              "3           1 ounce Gruyere cheese, grated (1/4 cup)\n",
              "4  1/4 to 1/2 teaspoon chipotle chili powder (see..."
            ]
          },
          "metadata": {
            "tags": []
          },
          "execution_count": 7
        },
        {
          "output_type": "execute_result",
          "data": {
            "text/html": [
              "<div>\n",
              "<style scoped>\n",
              "    .dataframe tbody tr th:only-of-type {\n",
              "        vertical-align: middle;\n",
              "    }\n",
              "\n",
              "    .dataframe tbody tr th {\n",
              "        vertical-align: top;\n",
              "    }\n",
              "\n",
              "    .dataframe thead th {\n",
              "        text-align: right;\n",
              "    }\n",
              "</style>\n",
              "<table border=\"1\" class=\"dataframe\">\n",
              "  <thead>\n",
              "    <tr style=\"text-align: right;\">\n",
              "      <th></th>\n",
              "      <th>text</th>\n",
              "    </tr>\n",
              "  </thead>\n",
              "  <tbody>\n",
              "    <tr>\n",
              "      <th>0</th>\n",
              "      <td>6 ounces penne</td>\n",
              "    </tr>\n",
              "    <tr>\n",
              "      <th>1</th>\n",
              "      <td>2 cups Beechers Flagship Cheese Sauce (recipe ...</td>\n",
              "    </tr>\n",
              "    <tr>\n",
              "      <th>2</th>\n",
              "      <td>1 ounce Cheddar, grated (1/4 cup)</td>\n",
              "    </tr>\n",
              "    <tr>\n",
              "      <th>3</th>\n",
              "      <td>1 ounce Gruyere cheese, grated (1/4 cup)</td>\n",
              "    </tr>\n",
              "    <tr>\n",
              "      <th>4</th>\n",
              "      <td>1/4 to 1/2 teaspoon chipotle chili powder (see...</td>\n",
              "    </tr>\n",
              "  </tbody>\n",
              "</table>\n",
              "</div>"
            ],
            "text/plain": [
              "                                                text\n",
              "0                                     6 ounces penne\n",
              "1  2 cups Beechers Flagship Cheese Sauce (recipe ...\n",
              "2                  1 ounce Cheddar, grated (1/4 cup)\n",
              "3           1 ounce Gruyere cheese, grated (1/4 cup)\n",
              "4  1/4 to 1/2 teaspoon chipotle chili powder (see..."
            ]
          },
          "metadata": {
            "tags": []
          },
          "execution_count": 8
        }
      ]
    },
    {
      "cell_type": "code",
      "metadata": {
        "id": "maUJtkswnb3H",
        "colab_type": "code",
        "colab": {}
      },
      "source": [
        "def clean_sent(sent):\n",
        "    #sent = sent.lower()\n",
        "    sent = re.sub(u'[_\"\\-;%()|+&=*%.,!?:#$@\\[\\]/]',' ',sent)\n",
        "    return sent\n",
        "def clean(df):\n",
        "    df['text'] = df.text.map(lambda x: ' '.join([ word for word in\n",
        "                                                         nltk.word_tokenize(clean_sent(x))]).encode('utf-8'))\n",
        "\n",
        "    #df['instructions'] = df.instructions.map(lambda x: ' '.join([ word for word in\n",
        "                                                         #nltk.word_tokenize(clean_sent(x))]).encode('utf-8'))\n",
        "def removeStopWords(df, stop):\n",
        "\tdf['text'] = df.text.map(lambda x: ' '.join([word for word in nltk.word_tokenize(x.decode('utf-8'))\n",
        "                                                         if word not in stop]).encode('utf-8'))\n",
        "\t#df['instructions'] = df.instructions.map(lambda x: ' '.join([word for word in nltk.word_tokenize(x.decode('utf-8'))\n",
        "                                                         #if word not in stop]).encode('utf-8'))"
      ],
      "execution_count": 0,
      "outputs": []
    },
    {
      "cell_type": "code",
      "metadata": {
        "id": "DKtwyh8mnooY",
        "colab_type": "code",
        "colab": {}
      },
      "source": [
        "#Calling Clean and Stop words on Amazon Product data DF\n",
        "clean(train1)\n",
        "removeStopWords(train1, stops1)"
      ],
      "execution_count": 0,
      "outputs": []
    },
    {
      "cell_type": "code",
      "metadata": {
        "id": "c7bnpZrWnsKk",
        "colab_type": "code",
        "outputId": "e22d7846-7dcf-4740-a4c8-cd355be20731",
        "colab": {
          "base_uri": "https://localhost:8080/",
          "height": 204
        }
      },
      "source": [
        "#Calling out the pre-processed data frame named train1\n",
        "train1.head()"
      ],
      "execution_count": 0,
      "outputs": [
        {
          "output_type": "execute_result",
          "data": {
            "text/html": [
              "<div>\n",
              "<style scoped>\n",
              "    .dataframe tbody tr th:only-of-type {\n",
              "        vertical-align: middle;\n",
              "    }\n",
              "\n",
              "    .dataframe tbody tr th {\n",
              "        vertical-align: top;\n",
              "    }\n",
              "\n",
              "    .dataframe thead th {\n",
              "        text-align: right;\n",
              "    }\n",
              "</style>\n",
              "<table border=\"1\" class=\"dataframe\">\n",
              "  <thead>\n",
              "    <tr style=\"text-align: right;\">\n",
              "      <th></th>\n",
              "      <th>text</th>\n",
              "    </tr>\n",
              "  </thead>\n",
              "  <tbody>\n",
              "    <tr>\n",
              "      <th>0</th>\n",
              "      <td>b'6 ounces penne'</td>\n",
              "    </tr>\n",
              "    <tr>\n",
              "      <th>1</th>\n",
              "      <td>b'2 cups Beechers Flagship Cheese Sauce recipe...</td>\n",
              "    </tr>\n",
              "    <tr>\n",
              "      <th>2</th>\n",
              "      <td>b'1 ounce Cheddar grated 1 4 cup'</td>\n",
              "    </tr>\n",
              "    <tr>\n",
              "      <th>3</th>\n",
              "      <td>b'1 ounce Gruyere cheese grated 1 4 cup'</td>\n",
              "    </tr>\n",
              "    <tr>\n",
              "      <th>4</th>\n",
              "      <td>b'1 4 1 2 teaspoon chipotle chili powder see N...</td>\n",
              "    </tr>\n",
              "  </tbody>\n",
              "</table>\n",
              "</div>"
            ],
            "text/plain": [
              "                                                text\n",
              "0                                  b'6 ounces penne'\n",
              "1  b'2 cups Beechers Flagship Cheese Sauce recipe...\n",
              "2                  b'1 ounce Cheddar grated 1 4 cup'\n",
              "3           b'1 ounce Gruyere cheese grated 1 4 cup'\n",
              "4  b'1 4 1 2 teaspoon chipotle chili powder see N..."
            ]
          },
          "metadata": {
            "tags": []
          },
          "execution_count": 11
        }
      ]
    },
    {
      "cell_type": "code",
      "metadata": {
        "id": "p7_aXALsS3c_",
        "colab_type": "code",
        "colab": {}
      },
      "source": [
        "#Writing to a CSV\n",
        "train1.to_csv(r'/gdrive/My Drive/Colab Notebooks/d_ingredients_quantity.csv', index=False, header=True)"
      ],
      "execution_count": 0,
      "outputs": []
    }
  ]
}