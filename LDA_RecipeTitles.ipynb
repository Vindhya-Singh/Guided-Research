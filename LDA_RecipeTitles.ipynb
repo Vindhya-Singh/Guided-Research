{
  "nbformat": 4,
  "nbformat_minor": 0,
  "metadata": {
    "colab": {
      "name": "Copy of DataLoader.ipynb",
      "provenance": [],
      "collapsed_sections": [],
      "toc_visible": true,
      "include_colab_link": true
    },
    "kernelspec": {
      "name": "python3",
      "display_name": "Python 3"
    }
  },
  "cells": [
    {
      "cell_type": "markdown",
      "metadata": {
        "id": "view-in-github",
        "colab_type": "text"
      },
      "source": [
        "<a href=\"https://colab.research.google.com/github/VindhyaSRajan/Guided-Research/blob/LSTM/LDA_RecipeTitles.ipynb\" target=\"_parent\"><img src=\"https://colab.research.google.com/assets/colab-badge.svg\" alt=\"Open In Colab\"/></a>"
      ]
    },
    {
      "cell_type": "code",
      "metadata": {
        "id": "39w3hAklvY7z",
        "colab_type": "code",
        "colab": {}
      },
      "source": [
        "from google.colab import drive\n",
        "drive.mount('/content/drive')"
      ],
      "execution_count": 0,
      "outputs": []
    },
    {
      "cell_type": "markdown",
      "metadata": {
        "id": "9POBtpx_iGkX",
        "colab_type": "text"
      },
      "source": [
        "#Imports and Installations"
      ]
    },
    {
      "cell_type": "code",
      "metadata": {
        "id": "tGaDydgSwAsM",
        "colab_type": "code",
        "colab": {}
      },
      "source": [
        "!pip install gensim\n",
        "!pip install warnings\n",
        "!pip install pyLDAvis"
      ],
      "execution_count": 0,
      "outputs": []
    },
    {
      "cell_type": "code",
      "metadata": {
        "id": "xC2GbSyXvmZv",
        "colab_type": "code",
        "outputId": "46f538c2-e294-4539-f35e-52eccc5bb320",
        "colab": {
          "base_uri": "https://localhost:8080/",
          "height": 50
        }
      },
      "source": [
        "import pandas as pd\n",
        "import logging\n",
        "import pyLDAvis.gensim\n",
        "import json\n",
        "import warnings\n",
        "warnings.filterwarnings('ignore')  # To ignore all warnings that arise here to enhance clarity\n",
        "\n",
        "#Used Gensim implementation of the LDA model\n",
        "from gensim.models.coherencemodel import CoherenceModel\n",
        "from gensim.models.ldamodel import LdaModel\n",
        "from gensim.corpora.dictionary import Dictionary\n",
        "from gensim.models import Phrases\n",
        "from numpy import array\n",
        "import nltk\n",
        "nltk.download('wordnet')\n",
        "import matplotlib.pyplot as plt\n",
        "\n",
        "#Useful for Tokenisation and Lemmatisation\n",
        "from nltk.stem.wordnet import WordNetLemmatizer\n",
        "from nltk.tokenize import RegexpTokenizer\n"
      ],
      "execution_count": 39,
      "outputs": [
        {
          "output_type": "stream",
          "text": [
            "[nltk_data] Downloading package wordnet to /root/nltk_data...\n",
            "[nltk_data]   Package wordnet is already up-to-date!\n"
          ],
          "name": "stdout"
        }
      ]
    },
    {
      "cell_type": "markdown",
      "metadata": {
        "id": "re6cEuM-w1hO",
        "colab_type": "text"
      },
      "source": [
        "##Loading the raw data"
      ]
    },
    {
      "cell_type": "code",
      "metadata": {
        "id": "rFkiWwzqvbp4",
        "colab_type": "code",
        "outputId": "5b02cb42-f08e-458b-e649-6cbbfd567f06",
        "colab": {
          "base_uri": "https://localhost:8080/",
          "height": 34
        }
      },
      "source": [
        "df_recipe = pd.read_csv('/content/drive/My Drive/Dataa/recipe_title_foodCategory_v3.csv', error_bad_lines= False)\n",
        "df_recipe.shape"
      ],
      "execution_count": 4,
      "outputs": [
        {
          "output_type": "execute_result",
          "data": {
            "text/plain": [
              "(47668, 3)"
            ]
          },
          "metadata": {
            "tags": []
          },
          "execution_count": 4
        }
      ]
    },
    {
      "cell_type": "code",
      "metadata": {
        "id": "9Isc59KNvpPv",
        "colab_type": "code",
        "outputId": "229da6e1-c674-4e99-ad38-71d5eea7947d",
        "colab": {
          "base_uri": "https://localhost:8080/",
          "height": 195
        }
      },
      "source": [
        "df_recipe.head()"
      ],
      "execution_count": 5,
      "outputs": [
        {
          "output_type": "execute_result",
          "data": {
            "text/html": [
              "<div>\n",
              "<style scoped>\n",
              "    .dataframe tbody tr th:only-of-type {\n",
              "        vertical-align: middle;\n",
              "    }\n",
              "\n",
              "    .dataframe tbody tr th {\n",
              "        vertical-align: top;\n",
              "    }\n",
              "\n",
              "    .dataframe thead th {\n",
              "        text-align: right;\n",
              "    }\n",
              "</style>\n",
              "<table border=\"1\" class=\"dataframe\">\n",
              "  <thead>\n",
              "    <tr style=\"text-align: right;\">\n",
              "      <th></th>\n",
              "      <th>Unnamed: 0</th>\n",
              "      <th>Recipe_Title</th>\n",
              "      <th>Food_Category</th>\n",
              "    </tr>\n",
              "  </thead>\n",
              "  <tbody>\n",
              "    <tr>\n",
              "      <th>0</th>\n",
              "      <td>14164</td>\n",
              "      <td>Hummus Pasta</td>\n",
              "      <td>Hummus</td>\n",
              "    </tr>\n",
              "    <tr>\n",
              "      <th>1</th>\n",
              "      <td>22552</td>\n",
              "      <td>Endive-and-Arugula Salad with Chile-Garlic Dre...</td>\n",
              "      <td>Salad</td>\n",
              "    </tr>\n",
              "    <tr>\n",
              "      <th>2</th>\n",
              "      <td>2346</td>\n",
              "      <td>Apple Crumb Cake Recipe</td>\n",
              "      <td>Cake</td>\n",
              "    </tr>\n",
              "    <tr>\n",
              "      <th>3</th>\n",
              "      <td>44716</td>\n",
              "      <td>Hamburger Lentil Potato Tomato Stew</td>\n",
              "      <td>Stew</td>\n",
              "    </tr>\n",
              "    <tr>\n",
              "      <th>4</th>\n",
              "      <td>27168</td>\n",
              "      <td>Healthy Oat Bran Muffins with Banana, Blueberr...</td>\n",
              "      <td>Muffins</td>\n",
              "    </tr>\n",
              "  </tbody>\n",
              "</table>\n",
              "</div>"
            ],
            "text/plain": [
              "   Unnamed: 0                                       Recipe_Title Food_Category\n",
              "0       14164                                       Hummus Pasta        Hummus\n",
              "1       22552  Endive-and-Arugula Salad with Chile-Garlic Dre...         Salad\n",
              "2        2346                            Apple Crumb Cake Recipe          Cake\n",
              "3       44716                Hamburger Lentil Potato Tomato Stew          Stew\n",
              "4       27168  Healthy Oat Bran Muffins with Banana, Blueberr...       Muffins"
            ]
          },
          "metadata": {
            "tags": []
          },
          "execution_count": 5
        }
      ]
    },
    {
      "cell_type": "markdown",
      "metadata": {
        "id": "S3As8yeiw4QZ",
        "colab_type": "text"
      },
      "source": [
        "##Pre-processing the Recipe Titles"
      ]
    },
    {
      "cell_type": "code",
      "metadata": {
        "id": "6Mj5mcBovzo4",
        "colab_type": "code",
        "outputId": "6259cd8b-7903-4187-a960-e730f548583f",
        "colab": {
          "base_uri": "https://localhost:8080/",
          "height": 50
        }
      },
      "source": [
        "# Convert to array\n",
        "documents =array(df_recipe['Recipe_Title'].astype(str))\n",
        "print(type(documents))\n",
        "print(len(documents))"
      ],
      "execution_count": 58,
      "outputs": [
        {
          "output_type": "stream",
          "text": [
            "<class 'numpy.ndarray'>\n",
            "47668\n"
          ],
          "name": "stdout"
        }
      ]
    },
    {
      "cell_type": "code",
      "metadata": {
        "id": "NcyeO7r2i5G5",
        "colab_type": "code",
        "colab": {}
      },
      "source": [
        "# Define function for tokenize and lemmatizing\n",
        "\n",
        "def preprocess_docs(documents):\n",
        "    tokenizer = RegexpTokenizer(r'\\w+')\n",
        "    for i in range(len(documents)):\n",
        "        documents[i] = documents[i].lower()  # All words to be in lowercase.\n",
        "        documents[i] = tokenizer.tokenize(documents[i])  # Tokenisation.\n",
        "\n",
        "    # Remove every token which is a number.\n",
        "    documents = [[token for token in doc if not token.isdigit()] for doc in documents]\n",
        "    \n",
        "    # Remove tokens that are single charactered.\n",
        "    documents = [[token for token in doc if len(token) > 3] for doc in documents]\n",
        "    \n",
        "    # Lemmatize all words in documents.\n",
        "    lemmatizer = WordNetLemmatizer()\n",
        "    documents = [[lemmatizer.lemmatize(token) for token in doc] for doc in documents]\n",
        "  \n",
        "    return documents"
      ],
      "execution_count": 0,
      "outputs": []
    },
    {
      "cell_type": "code",
      "metadata": {
        "id": "bmYRf61xi6gN",
        "colab_type": "code",
        "colab": {}
      },
      "source": [
        "# Perform function on our recipe titles aka documents\n",
        "documents = preprocess_docs(documents)"
      ],
      "execution_count": 0,
      "outputs": []
    },
    {
      "cell_type": "code",
      "metadata": {
        "id": "Qw0zYnOdi9Ux",
        "colab_type": "code",
        "colab": {}
      },
      "source": [
        "#For Biagram & Trigram Models \n",
        "bigram = Phrases(documents, min_count=10)\n",
        "trigram = Phrases(bigram[documents])"
      ],
      "execution_count": 0,
      "outputs": []
    },
    {
      "cell_type": "code",
      "metadata": {
        "id": "nzwnrPQXjNcx",
        "colab_type": "code",
        "colab": {}
      },
      "source": [
        "for i in range(len(documents)):\n",
        "    for token in bigram[documents[i]]:\n",
        "        if '_' in token:\n",
        "            # if token is a bigram, we'll add to the document list.\n",
        "            documents[i].append(token)\n",
        "    for token in trigram[documents[i]]:\n",
        "        if '_' in token:\n",
        "            # Similarly for tri-gram.\n",
        "            documents[i].append(token)\n"
      ],
      "execution_count": 0,
      "outputs": []
    },
    {
      "cell_type": "code",
      "metadata": {
        "id": "rAAWUgNzjUVX",
        "colab_type": "code",
        "colab": {
          "base_uri": "https://localhost:8080/",
          "height": 67
        },
        "outputId": "41e2f3bb-a61b-46f7-bda4-0b4b07d8d30c"
      },
      "source": [
        "#We do not want rare tokens, so removing it \n",
        "# Converting all the recipe titles aka document to dictionary\n",
        "dictionary = Dictionary(documents)\n",
        "dictionary.filter_extremes(no_below=10, no_above=0.2)\n",
        "\n",
        "#Create dictionary and corpus required for Topic Modeling\n",
        "corpus = [dictionary.doc2bow(doc) for doc in documents]\n",
        "print('Unique token in our corpus: %d' % len(dictionary))\n",
        "print('Unique Docs in the corpus: %d' % len(corpus))\n",
        "print(corpus[:1])"
      ],
      "execution_count": 47,
      "outputs": [
        {
          "output_type": "stream",
          "text": [
            "Unique token in our corpus: 1693\n",
            "Unique Docs in the corpus: 47668\n",
            "[[(0, 1), (1, 1)]]\n"
          ],
          "name": "stdout"
        }
      ]
    },
    {
      "cell_type": "code",
      "metadata": {
        "id": "ovOvx5wZxEpS",
        "colab_type": "code",
        "outputId": "ceeb9f3e-59de-4d6f-e516-f76db579b6fd",
        "colab": {
          "base_uri": "https://localhost:8080/",
          "height": 34
        }
      },
      "source": [
        "type(corpus)"
      ],
      "execution_count": 48,
      "outputs": [
        {
          "output_type": "execute_result",
          "data": {
            "text/plain": [
              "list"
            ]
          },
          "metadata": {
            "tags": []
          },
          "execution_count": 48
        }
      ]
    },
    {
      "cell_type": "markdown",
      "metadata": {
        "id": "_KNk2o6p0yZE",
        "colab_type": "text"
      },
      "source": [
        "##LDA on the Recipe Title of the Recipe 1M data"
      ]
    },
    {
      "cell_type": "code",
      "metadata": {
        "id": "dWRVqXiO0SnX",
        "colab_type": "code",
        "outputId": "c315ae88-86be-47b4-bb44-6f160aa35d96",
        "colab": {
          "base_uri": "https://localhost:8080/",
          "height": 54
        }
      },
      "source": [
        "# Set parameters.\n",
        "num_topics = 30\n",
        "chunksize = 500 \n",
        "passes = 20 \n",
        "iterations = 500\n",
        "eval_every = 1  \n",
        "\n",
        "# idx 2 word dictionary.\n",
        "temp = dictionary[0]  # only to \"load\" the dictionary.\n",
        "id2word = dictionary.id2token\n",
        "\n",
        "#Calling the gensim LDA model\n",
        "lda_model = LdaModel(corpus=corpus, id2word=id2word, chunksize=chunksize, \\\n",
        "                       alpha='auto', eta='auto', \\\n",
        "                       iterations=iterations, num_topics=num_topics, \\\n",
        "                       passes=passes, eval_every=eval_every)\n",
        "# Print the Keyword in the 5 topics\n",
        "print(lda_model.print_topics())"
      ],
      "execution_count": 49,
      "outputs": [
        {
          "output_type": "stream",
          "text": [
            "[(28, '0.160*\"pepper\" + 0.132*\"roasted_pepper\" + 0.059*\"stir\" + 0.058*\"roasted\" + 0.058*\"stir_fried\" + 0.041*\"white_wine\" + 0.031*\"beet\" + 0.030*\"mozzarella\" + 0.029*\"heirloom_tomato\" + 0.023*\"arugula\"'), (11, '0.123*\"bacon\" + 0.117*\"blue_cheese\" + 0.072*\"bacon_wrapped\" + 0.065*\"avocado\" + 0.061*\"salsa\" + 0.051*\"wrapped\" + 0.048*\"blue\" + 0.047*\"cilantro\" + 0.047*\"cheese\" + 0.023*\"crunchy\"'), (9, '0.101*\"dried_tomato\" + 0.071*\"basil\" + 0.064*\"olive\" + 0.053*\"yogurt\" + 0.052*\"crispy\" + 0.051*\"dried\" + 0.042*\"tomato\" + 0.035*\"healthy\" + 0.034*\"dough\" + 0.033*\"raisin\"'), (16, '0.105*\"white\" + 0.102*\"turkey\" + 0.095*\"white_bean\" + 0.066*\"simple\" + 0.061*\"upside_down\" + 0.057*\"best\" + 0.035*\"down\" + 0.035*\"upside\" + 0.030*\"bean\" + 0.030*\"marinade\"'), (24, '0.173*\"slow_cooker\" + 0.075*\"chocolate_chip\" + 0.065*\"slow\" + 0.064*\"mexican\" + 0.063*\"cooker\" + 0.061*\"chip\" + 0.043*\"warm\" + 0.040*\"french\" + 0.039*\"breakfast\" + 0.035*\"spiced\"'), (22, '0.086*\"roll\" + 0.082*\"fruit\" + 0.071*\"spring_roll\" + 0.062*\"crab\" + 0.058*\"mango\" + 0.053*\"quinoa\" + 0.041*\"vegetarian\" + 0.041*\"spring\" + 0.032*\"stuffing\" + 0.032*\"balsamic\"'), (7, '0.186*\"green\" + 0.178*\"bean\" + 0.153*\"green_bean\" + 0.084*\"italian\" + 0.060*\"cabbage\" + 0.033*\"mixed_green\" + 0.024*\"prosciutto\" + 0.024*\"cajun\" + 0.019*\"seared\" + 0.016*\"oamc\"'), (1, '0.187*\"cream\" + 0.165*\"black_bean\" + 0.099*\"sour_cream\" + 0.098*\"pound_cake\" + 0.090*\"black\" + 0.062*\"bean\" + 0.043*\"sour\" + 0.034*\"pound\" + 0.030*\"crust\" + 0.027*\"scone\"'), (17, '0.234*\"muffin\" + 0.110*\"fried\" + 0.094*\"gluten_free\" + 0.089*\"blueberry\" + 0.076*\"free\" + 0.049*\"bran_muffin\" + 0.040*\"berry\" + 0.035*\"gluten\" + 0.028*\"minute\" + 0.025*\"sugar_free\"'), (12, '0.241*\"cheese\" + 0.091*\"coconut\" + 0.075*\"cream\" + 0.055*\"buttermilk\" + 0.050*\"pastry\" + 0.047*\"cheddar\" + 0.034*\"puff_pastry\" + 0.029*\"chile\" + 0.028*\"fudge\" + 0.022*\"american\"'), (29, '0.381*\"pasta\" + 0.106*\"creamy\" + 0.085*\"smoked_salmon\" + 0.058*\"sausage\" + 0.053*\"smoked\" + 0.038*\"almond\" + 0.032*\"salmon\" + 0.029*\"mediterranean\" + 0.019*\"chop\" + 0.019*\"pasta_toss\"'), (3, '0.315*\"casserole\" + 0.090*\"broccoli\" + 0.064*\"breast\" + 0.052*\"roast\" + 0.039*\"glazed\" + 0.034*\"sesame\" + 0.031*\"wing\" + 0.023*\"cauliflower\" + 0.022*\"leek\" + 0.020*\"eggplant\"'), (20, '0.193*\"tomato\" + 0.191*\"easy\" + 0.124*\"noodle\" + 0.111*\"mushroom\" + 0.063*\"cheesy\" + 0.043*\"bake\" + 0.029*\"wild\" + 0.024*\"teriyaki\" + 0.019*\"classic\" + 0.018*\"penne\"'), (4, '0.494*\"recipe\" + 0.095*\"style\" + 0.057*\"mustard\" + 0.042*\"honey_mustard\" + 0.026*\"guacamole\" + 0.020*\"layer\" + 0.019*\"horseradish\" + 0.019*\"good\" + 0.015*\"deep_dish\" + 0.014*\"dish\"'), (21, '0.290*\"bread\" + 0.131*\"pudding\" + 0.090*\"banana\" + 0.085*\"peanut_butter\" + 0.071*\"butter\" + 0.050*\"peanut\" + 0.045*\"bread_machine\" + 0.044*\"sweet_sour\" + 0.022*\"pesto\" + 0.015*\"lamb\"'), (10, '0.178*\"pizza\" + 0.158*\"steak\" + 0.124*\"sandwich\" + 0.122*\"grilled\" + 0.034*\"cocktail\" + 0.033*\"pear\" + 0.027*\"veggie\" + 0.027*\"flank_steak\" + 0.027*\"marinated\" + 0.024*\"buffalo\"'), (2, '0.435*\"cake\" + 0.142*\"chocolate\" + 0.051*\"coffee_cake\" + 0.035*\"barbecue\" + 0.026*\"homemade\" + 0.024*\"coffee\" + 0.024*\"peach\" + 0.024*\"angel_hair\" + 0.023*\"ground_beef\" + 0.017*\"delicious\"'), (18, '0.354*\"soup\" + 0.248*\"beef\" + 0.100*\"stew\" + 0.063*\"baked\" + 0.030*\"stuffed\" + 0.015*\"skillet\" + 0.014*\"family_favorite\" + 0.014*\"favorite\" + 0.013*\"oven\" + 0.013*\"barley\"'), (14, '0.525*\"salad\" + 0.052*\"spinach\" + 0.041*\"dressing\" + 0.030*\"cucumber\" + 0.027*\"beef_tenderloin\" + 0.026*\"wine\" + 0.025*\"asparagus\" + 0.024*\"thai\" + 0.018*\"curried\" + 0.016*\"vinaigrette\"'), (8, '0.480*\"with\" + 0.282*\"sauce\" + 0.044*\"vegetable\" + 0.021*\"pecan\" + 0.014*\"spaghetti\" + 0.013*\"caramel\" + 0.012*\"bundt_cake\" + 0.012*\"fish\" + 0.011*\"vanilla\" + 0.007*\"crusted\"')]\n"
          ],
          "name": "stdout"
        }
      ]
    },
    {
      "cell_type": "code",
      "metadata": {
        "id": "1opWkzMP-28E",
        "colab_type": "code",
        "outputId": "e63b7d7e-d50f-46b0-9ef1-50560d4a6bb6",
        "colab": {
          "base_uri": "https://localhost:8080/",
          "height": 380
        }
      },
      "source": [
        "#This code block is to see as a data frame what each topic actually comprises of.\n",
        "word_dictionary = {};\n",
        "for i in range(num_topics):\n",
        "    words = lda_model.show_topic(i, topn = 10)\n",
        "    word_dictionary['Topic # ' + '{:02d}'.format(i+1)] = [i[0] for i in words]\n",
        "pd.DataFrame(word_dictionary)"
      ],
      "execution_count": 50,
      "outputs": [
        {
          "output_type": "execute_result",
          "data": {
            "text/html": [
              "<div>\n",
              "<style scoped>\n",
              "    .dataframe tbody tr th:only-of-type {\n",
              "        vertical-align: middle;\n",
              "    }\n",
              "\n",
              "    .dataframe tbody tr th {\n",
              "        vertical-align: top;\n",
              "    }\n",
              "\n",
              "    .dataframe thead th {\n",
              "        text-align: right;\n",
              "    }\n",
              "</style>\n",
              "<table border=\"1\" class=\"dataframe\">\n",
              "  <thead>\n",
              "    <tr style=\"text-align: right;\">\n",
              "      <th></th>\n",
              "      <th>Topic # 01</th>\n",
              "      <th>Topic # 02</th>\n",
              "      <th>Topic # 03</th>\n",
              "      <th>Topic # 04</th>\n",
              "      <th>Topic # 05</th>\n",
              "      <th>Topic # 06</th>\n",
              "      <th>Topic # 07</th>\n",
              "      <th>Topic # 08</th>\n",
              "      <th>Topic # 09</th>\n",
              "      <th>Topic # 10</th>\n",
              "      <th>Topic # 11</th>\n",
              "      <th>Topic # 12</th>\n",
              "      <th>Topic # 13</th>\n",
              "      <th>Topic # 14</th>\n",
              "      <th>Topic # 15</th>\n",
              "      <th>Topic # 16</th>\n",
              "      <th>Topic # 17</th>\n",
              "      <th>Topic # 18</th>\n",
              "      <th>Topic # 19</th>\n",
              "      <th>Topic # 20</th>\n",
              "      <th>Topic # 21</th>\n",
              "      <th>Topic # 22</th>\n",
              "      <th>Topic # 23</th>\n",
              "      <th>Topic # 24</th>\n",
              "      <th>Topic # 25</th>\n",
              "      <th>Topic # 26</th>\n",
              "      <th>Topic # 27</th>\n",
              "      <th>Topic # 28</th>\n",
              "      <th>Topic # 29</th>\n",
              "      <th>Topic # 30</th>\n",
              "    </tr>\n",
              "  </thead>\n",
              "  <tbody>\n",
              "    <tr>\n",
              "      <th>0</th>\n",
              "      <td>garlic</td>\n",
              "      <td>cream</td>\n",
              "      <td>cake</td>\n",
              "      <td>casserole</td>\n",
              "      <td>recipe</td>\n",
              "      <td>smoothie</td>\n",
              "      <td>chili</td>\n",
              "      <td>green</td>\n",
              "      <td>with</td>\n",
              "      <td>dried_tomato</td>\n",
              "      <td>pizza</td>\n",
              "      <td>bacon</td>\n",
              "      <td>cheese</td>\n",
              "      <td>taco</td>\n",
              "      <td>salad</td>\n",
              "      <td>pumpkin</td>\n",
              "      <td>white</td>\n",
              "      <td>muffin</td>\n",
              "      <td>soup</td>\n",
              "      <td>lemon</td>\n",
              "      <td>tomato</td>\n",
              "      <td>bread</td>\n",
              "      <td>roll</td>\n",
              "      <td>rice</td>\n",
              "      <td>slow_cooker</td>\n",
              "      <td>potato</td>\n",
              "      <td>apple</td>\n",
              "      <td>burger</td>\n",
              "      <td>pepper</td>\n",
              "      <td>pasta</td>\n",
              "    </tr>\n",
              "    <tr>\n",
              "      <th>1</th>\n",
              "      <td>pork</td>\n",
              "      <td>black_bean</td>\n",
              "      <td>chocolate</td>\n",
              "      <td>broccoli</td>\n",
              "      <td>style</td>\n",
              "      <td>cherry</td>\n",
              "      <td>spicy</td>\n",
              "      <td>bean</td>\n",
              "      <td>sauce</td>\n",
              "      <td>basil</td>\n",
              "      <td>steak</td>\n",
              "      <td>blue_cheese</td>\n",
              "      <td>coconut</td>\n",
              "      <td>whole_wheat</td>\n",
              "      <td>spinach</td>\n",
              "      <td>orange</td>\n",
              "      <td>turkey</td>\n",
              "      <td>fried</td>\n",
              "      <td>beef</td>\n",
              "      <td>salmon</td>\n",
              "      <td>easy</td>\n",
              "      <td>pudding</td>\n",
              "      <td>fruit</td>\n",
              "      <td>wild_rice</td>\n",
              "      <td>chocolate_chip</td>\n",
              "      <td>sweet_potato</td>\n",
              "      <td>pancake</td>\n",
              "      <td>onion</td>\n",
              "      <td>roasted_pepper</td>\n",
              "      <td>creamy</td>\n",
              "    </tr>\n",
              "    <tr>\n",
              "      <th>2</th>\n",
              "      <td>poppy_seed</td>\n",
              "      <td>sour_cream</td>\n",
              "      <td>coffee_cake</td>\n",
              "      <td>breast</td>\n",
              "      <td>mustard</td>\n",
              "      <td>strawberry</td>\n",
              "      <td>corn</td>\n",
              "      <td>green_bean</td>\n",
              "      <td>vegetable</td>\n",
              "      <td>olive</td>\n",
              "      <td>sandwich</td>\n",
              "      <td>bacon_wrapped</td>\n",
              "      <td>cream</td>\n",
              "      <td>zucchini</td>\n",
              "      <td>dressing</td>\n",
              "      <td>carrot</td>\n",
              "      <td>white_bean</td>\n",
              "      <td>gluten_free</td>\n",
              "      <td>stew</td>\n",
              "      <td>honey</td>\n",
              "      <td>noodle</td>\n",
              "      <td>banana</td>\n",
              "      <td>spring_roll</td>\n",
              "      <td>quick</td>\n",
              "      <td>slow</td>\n",
              "      <td>sweet</td>\n",
              "      <td>shrimp</td>\n",
              "      <td>goat_cheese</td>\n",
              "      <td>stir</td>\n",
              "      <td>smoked_salmon</td>\n",
              "    </tr>\n",
              "    <tr>\n",
              "      <th>3</th>\n",
              "      <td>fresh</td>\n",
              "      <td>pound_cake</td>\n",
              "      <td>barbecue</td>\n",
              "      <td>roast</td>\n",
              "      <td>honey_mustard</td>\n",
              "      <td>crock</td>\n",
              "      <td>ginger</td>\n",
              "      <td>italian</td>\n",
              "      <td>pecan</td>\n",
              "      <td>yogurt</td>\n",
              "      <td>grilled</td>\n",
              "      <td>avocado</td>\n",
              "      <td>buttermilk</td>\n",
              "      <td>squash</td>\n",
              "      <td>cucumber</td>\n",
              "      <td>cranberry</td>\n",
              "      <td>simple</td>\n",
              "      <td>blueberry</td>\n",
              "      <td>baked</td>\n",
              "      <td>asian</td>\n",
              "      <td>mushroom</td>\n",
              "      <td>peanut_butter</td>\n",
              "      <td>crab</td>\n",
              "      <td>tuna</td>\n",
              "      <td>mexican</td>\n",
              "      <td>roasted</td>\n",
              "      <td>wrap</td>\n",
              "      <td>parmesan</td>\n",
              "      <td>roasted</td>\n",
              "      <td>sausage</td>\n",
              "    </tr>\n",
              "    <tr>\n",
              "      <th>4</th>\n",
              "      <td>herb</td>\n",
              "      <td>black</td>\n",
              "      <td>homemade</td>\n",
              "      <td>glazed</td>\n",
              "      <td>guacamole</td>\n",
              "      <td>lime</td>\n",
              "      <td>pineapple</td>\n",
              "      <td>cabbage</td>\n",
              "      <td>spaghetti</td>\n",
              "      <td>crispy</td>\n",
              "      <td>cocktail</td>\n",
              "      <td>salsa</td>\n",
              "      <td>pastry</td>\n",
              "      <td>wheat</td>\n",
              "      <td>beef_tenderloin</td>\n",
              "      <td>walnut</td>\n",
              "      <td>upside_down</td>\n",
              "      <td>free</td>\n",
              "      <td>stuffed</td>\n",
              "      <td>hummus</td>\n",
              "      <td>cheesy</td>\n",
              "      <td>butter</td>\n",
              "      <td>mango</td>\n",
              "      <td>curry</td>\n",
              "      <td>cooker</td>\n",
              "      <td>french_onion</td>\n",
              "      <td>greek</td>\n",
              "      <td>turkey_burger</td>\n",
              "      <td>stir_fried</td>\n",
              "      <td>smoked</td>\n",
              "    </tr>\n",
              "    <tr>\n",
              "      <th>5</th>\n",
              "      <td>pork_chop</td>\n",
              "      <td>bean</td>\n",
              "      <td>coffee</td>\n",
              "      <td>sesame</td>\n",
              "      <td>layer</td>\n",
              "      <td>maple</td>\n",
              "      <td>mini</td>\n",
              "      <td>mixed_green</td>\n",
              "      <td>caramel</td>\n",
              "      <td>dried</td>\n",
              "      <td>pear</td>\n",
              "      <td>wrapped</td>\n",
              "      <td>cheddar</td>\n",
              "      <td>summer</td>\n",
              "      <td>wine</td>\n",
              "      <td>spread</td>\n",
              "      <td>best</td>\n",
              "      <td>bran_muffin</td>\n",
              "      <td>skillet</td>\n",
              "      <td>pickled</td>\n",
              "      <td>bake</td>\n",
              "      <td>peanut</td>\n",
              "      <td>quinoa</td>\n",
              "      <td>custard</td>\n",
              "      <td>chip</td>\n",
              "      <td>pickle</td>\n",
              "      <td>lettuce_wrap</td>\n",
              "      <td>brown</td>\n",
              "      <td>white_wine</td>\n",
              "      <td>almond</td>\n",
              "    </tr>\n",
              "    <tr>\n",
              "      <th>6</th>\n",
              "      <td>dill</td>\n",
              "      <td>sour</td>\n",
              "      <td>peach</td>\n",
              "      <td>wing</td>\n",
              "      <td>horseradish</td>\n",
              "      <td>pie</td>\n",
              "      <td>spice</td>\n",
              "      <td>prosciutto</td>\n",
              "      <td>bundt_cake</td>\n",
              "      <td>tomato</td>\n",
              "      <td>veggie</td>\n",
              "      <td>blue</td>\n",
              "      <td>puff_pastry</td>\n",
              "      <td>dairy_free</td>\n",
              "      <td>asparagus</td>\n",
              "      <td>lentil</td>\n",
              "      <td>down</td>\n",
              "      <td>berry</td>\n",
              "      <td>family_favorite</td>\n",
              "      <td>apricot</td>\n",
              "      <td>wild</td>\n",
              "      <td>bread_machine</td>\n",
              "      <td>vegetarian</td>\n",
              "      <td>bell_pepper</td>\n",
              "      <td>warm</td>\n",
              "      <td>dill</td>\n",
              "      <td>cinnamon</td>\n",
              "      <td>cheese</td>\n",
              "      <td>beet</td>\n",
              "      <td>salmon</td>\n",
              "    </tr>\n",
              "    <tr>\n",
              "      <th>7</th>\n",
              "      <td>from</td>\n",
              "      <td>pound</td>\n",
              "      <td>angel_hair</td>\n",
              "      <td>cauliflower</td>\n",
              "      <td>good</td>\n",
              "      <td>chipotle</td>\n",
              "      <td>dipping</td>\n",
              "      <td>cajun</td>\n",
              "      <td>fish</td>\n",
              "      <td>healthy</td>\n",
              "      <td>flank_steak</td>\n",
              "      <td>cilantro</td>\n",
              "      <td>chile</td>\n",
              "      <td>butternut_squash</td>\n",
              "      <td>thai</td>\n",
              "      <td>tortilla</td>\n",
              "      <td>upside</td>\n",
              "      <td>gluten</td>\n",
              "      <td>favorite</td>\n",
              "      <td>german</td>\n",
              "      <td>teriyaki</td>\n",
              "      <td>sweet_sour</td>\n",
              "      <td>spring</td>\n",
              "      <td>fennel</td>\n",
              "      <td>french</td>\n",
              "      <td>dill_pickle</td>\n",
              "      <td>vegan</td>\n",
              "      <td>goat</td>\n",
              "      <td>mozzarella</td>\n",
              "      <td>mediterranean</td>\n",
              "    </tr>\n",
              "    <tr>\n",
              "      <th>8</th>\n",
              "      <td>seed</td>\n",
              "      <td>crust</td>\n",
              "      <td>ground_beef</td>\n",
              "      <td>leek</td>\n",
              "      <td>deep_dish</td>\n",
              "      <td>beer</td>\n",
              "      <td>dipping_sauce</td>\n",
              "      <td>seared</td>\n",
              "      <td>vanilla</td>\n",
              "      <td>dough</td>\n",
              "      <td>marinated</td>\n",
              "      <td>cheese</td>\n",
              "      <td>fudge</td>\n",
              "      <td>whole</td>\n",
              "      <td>curried</td>\n",
              "      <td>artichoke</td>\n",
              "      <td>bean</td>\n",
              "      <td>minute</td>\n",
              "      <td>oven</td>\n",
              "      <td>meat</td>\n",
              "      <td>classic</td>\n",
              "      <td>pesto</td>\n",
              "      <td>stuffing</td>\n",
              "      <td>seafood</td>\n",
              "      <td>breakfast</td>\n",
              "      <td>tart</td>\n",
              "      <td>oatmeal</td>\n",
              "      <td>alfredo</td>\n",
              "      <td>heirloom_tomato</td>\n",
              "      <td>chop</td>\n",
              "    </tr>\n",
              "    <tr>\n",
              "      <th>9</th>\n",
              "      <td>ricotta</td>\n",
              "      <td>scone</td>\n",
              "      <td>delicious</td>\n",
              "      <td>eggplant</td>\n",
              "      <td>dish</td>\n",
              "      <td>dumpling</td>\n",
              "      <td>topping</td>\n",
              "      <td>oamc</td>\n",
              "      <td>crusted</td>\n",
              "      <td>raisin</td>\n",
              "      <td>buffalo</td>\n",
              "      <td>crunchy</td>\n",
              "      <td>american</td>\n",
              "      <td>super</td>\n",
              "      <td>vinaigrette</td>\n",
              "      <td>bowl</td>\n",
              "      <td>marinade</td>\n",
              "      <td>sugar_free</td>\n",
              "      <td>barley</td>\n",
              "      <td>brown_sugar</td>\n",
              "      <td>penne</td>\n",
              "      <td>lamb</td>\n",
              "      <td>balsamic</td>\n",
              "      <td>light</td>\n",
              "      <td>spiced</td>\n",
              "      <td>chef</td>\n",
              "      <td>cold</td>\n",
              "      <td>brown_rice</td>\n",
              "      <td>arugula</td>\n",
              "      <td>pasta_toss</td>\n",
              "    </tr>\n",
              "  </tbody>\n",
              "</table>\n",
              "</div>"
            ],
            "text/plain": [
              "   Topic # 01  Topic # 02  ...       Topic # 29     Topic # 30\n",
              "0      garlic       cream  ...           pepper          pasta\n",
              "1        pork  black_bean  ...   roasted_pepper         creamy\n",
              "2  poppy_seed  sour_cream  ...             stir  smoked_salmon\n",
              "3       fresh  pound_cake  ...          roasted        sausage\n",
              "4        herb       black  ...       stir_fried         smoked\n",
              "5   pork_chop        bean  ...       white_wine         almond\n",
              "6        dill        sour  ...             beet         salmon\n",
              "7        from       pound  ...       mozzarella  mediterranean\n",
              "8        seed       crust  ...  heirloom_tomato           chop\n",
              "9     ricotta       scone  ...          arugula     pasta_toss\n",
              "\n",
              "[10 rows x 30 columns]"
            ]
          },
          "metadata": {
            "tags": []
          },
          "execution_count": 50
        }
      ]
    },
    {
      "cell_type": "markdown",
      "metadata": {
        "id": "jKkHQk1G05sN",
        "colab_type": "text"
      },
      "source": [
        "##Evaluating the LDA Model"
      ]
    },
    {
      "cell_type": "code",
      "metadata": {
        "id": "Tp7qWIYv0ppq",
        "colab_type": "code",
        "outputId": "35872dc3-8437-41ec-a398-f091aa784970",
        "colab": {
          "base_uri": "https://localhost:8080/",
          "height": 50
        }
      },
      "source": [
        "# Compute Coherence Score using c_v\n",
        "coherence_model_lda = CoherenceModel(model=lda_model, texts=documents, dictionary=dictionary, coherence='c_v')\n",
        "coherence_lda = coherence_model_lda.get_coherence()\n",
        "print('\\nCoherence Score: ', coherence_lda)"
      ],
      "execution_count": 51,
      "outputs": [
        {
          "output_type": "stream",
          "text": [
            "\n",
            "Coherence Score:  0.5521176458812158\n"
          ],
          "name": "stdout"
        }
      ]
    },
    {
      "cell_type": "code",
      "metadata": {
        "id": "jgTRMI9NeCa6",
        "colab_type": "code",
        "colab": {}
      },
      "source": [
        "#Returns:List of LDA topic models and Coherence values corresponding to the LDA model with respective number of topics\n",
        "def coherence_v_calculation(dictionary, corpus, texts, limit, start=2, step=3):\n",
        "   \n",
        "    coherence_v = [] #initialising the coherence values and model lists\n",
        "    m_list = []\n",
        "    for num_topics in range(start, limit, step):\n",
        "        model=LdaModel(corpus=corpus, id2word=dictionary, num_topics=num_topics)\n",
        "        m_list.append(model)\n",
        "        coherencemodel = CoherenceModel(model=model, texts=texts, dictionary=dictionary, coherence='c_v')\n",
        "        coherence_v.append(coherencemodel.get_coherence())\n",
        "\n",
        "    return m_list, coherence_v"
      ],
      "execution_count": 0,
      "outputs": []
    },
    {
      "cell_type": "code",
      "metadata": {
        "id": "OlBflMTGeHHq",
        "colab_type": "code",
        "outputId": "fcbdb7a3-27fb-49fa-cd34-ac743ff7dc09",
        "colab": {
          "base_uri": "https://localhost:8080/",
          "height": 296
        }
      },
      "source": [
        "#Model list and plot Coherence score against a number of topics\n",
        "m_list, coherence_v = coherence_v_calculation(dictionary=dictionary, corpus=corpus, texts=documents, start=2, limit=40, step=6)\n",
        "# Show graph\n",
        "\n",
        "limit=40; start=2; step=6;\n",
        "x = range(start, limit, step)\n",
        "\n",
        "#Now let's plot!\n",
        "\n",
        "plt.plot(x, coherence_v)\n",
        "plt.xlabel(\"Number of Topics\")\n",
        "plt.ylabel(\"Coherence score\")\n",
        "plt.legend((\"coherence_v\"), loc='best')\n",
        "plt.show()\n",
        "plt.savefig('Coherence score against a number of topics- Recipe_Title.png', bbox_inches='tight',dpi = 200)"
      ],
      "execution_count": 53,
      "outputs": [
        {
          "output_type": "display_data",
          "data": {
            "image/png": "[encoded data removed]",
            "text/plain": [
              "<Figure size 432x288 with 1 Axes>"
            ]
          },
          "metadata": {
            "tags": [],
            "needs_background": "light"
          }
        },
        {
          "output_type": "display_data",
          "data": {
            "text/plain": [
              "<Figure size 432x288 with 0 Axes>"
            ]
          },
          "metadata": {
            "tags": []
          }
        }
      ]
    },
    {
      "cell_type": "code",
      "metadata": {
        "id": "Ge6ooNWkhzgd",
        "colab_type": "code",
        "colab": {
          "base_uri": "https://localhost:8080/",
          "height": 881
        },
        "outputId": "e375a1fc-33a0-4a4e-e7f5-14f5cd52a478"
      },
      "source": [
        "#For each cluster, we'll pick the top food category, eg: Salad, Pasta etc.\n",
        "lda_display = pyLDAvis.gensim.prepare(lda_model, corpus, dictionary=dictionary, sort_topics=False)\n",
        "pyLDAvis.display(lda_display)"
      ],
      "execution_count": 55,
      "outputs": [
        {
          "output_type": "execute_result",
          "data": {
            "text/html": [
              "\n",
              "<link rel=\"stylesheet\" type=\"text/css\" href=\"https://cdn.rawgit.com/bmabey/pyLDAvis/files/ldavis.v1.0.0.css\">\n",
              "\n",
              "\n",
              "<div id=\"ldavis_el1201398474225938081195406492\"></div>\n",
              "<script type=\"text/javascript\">\n",
              "\n",
              "var ldavis_el1201398474225938081195406492_data = {\"mdsDat\": {\"x\": [0.04974085768171723, -0.2690345305735862, 0.056073077760681246, 0.03998473950176505, 0.047150918383783415, 0.039581263411547225, 0.03987464788544517, -0.15750977051465964, 0.04084739650135264, 0.07278101330102126, 0.04026668157941265, -0.15676606463846832, -0.29427517618294685, 0.039955265702411966, 0.040654534442548185, 0.039862482276570244, -0.12930926984530863, 0.04737483155404639, 0.040510950675593446, 0.07571917161850159, 0.07342875485115982, 0.002011437246687827, 0.03925314557308412, 0.039693425906938064, 0.05571406610300847, 0.07671964668848337, 0.03994172650013873, -0.17151786608549516, 0.07178374784594582, 0.06948889484861932], \"y\": [-0.0041092467527756365, 0.17909536048786476, -0.003095793297348878, -0.0016591023661106418, -0.0027952920285737167, -0.0019015337825516202, -0.0017560553056265476, 0.29551166749236696, -0.0010940324185813176, -0.010069796652778323, -0.001476940187745366, -0.251624383110811, -0.18210586315810431, -0.00169536021781736, -0.0012230531899675456, -0.0017732637632336017, 0.18241191515140923, -0.0031464366703340156, -0.001323217017045395, -0.007499027480959097, -0.009874768396997788, 0.04488589404276421, -0.002135983112626721, -0.0018725926319865713, -0.0032732516307743156, -0.009642465546740807, -0.0017174724379265718, -0.17906549427581578, -0.009199944070167622, -0.006774467671004607], \"topics\": [1, 2, 3, 4, 5, 6, 7, 8, 9, 10, 11, 12, 13, 14, 15, 16, 17, 18, 19, 20, 21, 22, 23, 24, 25, 26, 27, 28, 29, 30], \"cluster\": [1, 1, 1, 1, 1, 1, 1, 1, 1, 1, 1, 1, 1, 1, 1, 1, 1, 1, 1, 1, 1, 1, 1, 1, 1, 1, 1, 1, 1, 1], \"Freq\": [2.707965612411499, 2.7431771755218506, 4.5775370597839355, 3.3810954093933105, 3.7310094833374023, 2.687030553817749, 2.956829309463501, 2.191427707672119, 10.167764663696289, 2.0306177139282227, 4.196869373321533, 2.169416904449463, 2.3142359256744385, 2.7848434448242188, 6.686873912811279, 2.8897817134857178, 2.1178693771362305, 2.3846843242645264, 5.585649013519287, 2.7351269721984863, 3.6619975566864014, 4.629536151885986, 2.0605950355529785, 2.472801446914673, 2.507477283477783, 2.7826123237609863, 2.858877420425415, 2.6279571056365967, 1.9041404724121094, 3.4542076587677]}, \"tinfo\": {\"Term\": [\"with\", \"salad\", \"sauce\", \"cake\", \"recipe\", \"soup\", \"pasta\", \"bread\", \"beef\", \"casserole\", \"potato\", \"chili\", \"pizza\", \"tomato\", \"easy\", \"cheese\", \"steak\", \"cream\", \"apple\", \"muffin\", \"salmon\", \"lemon\", \"chocolate\", \"pudding\", \"bean\", \"rice\", \"sandwich\", \"sweet_potato\", \"black_bean\", \"grilled\", \"garlic\", \"pork\", \"poppy_seed\", \"fresh\", \"herb\", \"pork_chop\", \"from\", \"seed\", \"ricotta\", \"meatball\", \"rib\", \"indian\", \"poppy\", \"shepherd\", \"pistachio\", \"mashed_potato\", \"tender\", \"short_rib\", \"port\", \"linguine\", \"lemony\", \"heart\", \"strawberry_rhubarb\", \"south\", \"saffron\", \"salata\", \"short\", \"mashed\", \"from_scratch\", \"version\", \"dill\", \"black_bean\", \"sour_cream\", \"pound_cake\", \"black\", \"pound\", \"crust\", \"scone\", \"tofu\", \"chunky\", \"jalapeno\", \"goulash\", \"molasses\", \"eggnog\", \"biscuit\", \"whipped_cream\", \"sirloin\", \"currant\", \"tossed\", \"matcha\", \"drop\", \"savoury\", \"vanilla_bean\", \"tartare\", \"drumstick\", \"thin\", \"belgian\", \"cinnamon_swirl\", \"sour_cream_coffee_cake\", \"cream\", \"sour\", \"bean\", \"cake\", \"coffee_cake\", \"barbecue\", \"homemade\", \"coffee\", \"peach\", \"angel_hair\", \"ground_beef\", \"delicious\", \"angel\", \"parsley\", \"ground\", \"mayonnaise\", \"hair\", \"bite\", \"icing\", \"whiskey\", \"carb\", \"ultimate\", \"truffle\", \"mocha\", \"peppercorn\", \"ball\", \"tropical_fruit\", \"bar\", \"snack\", \"ribbon\", \"jello\", \"boiled\", \"lower\", \"chocolate\", \"casserole\", \"broccoli\", \"breast\", \"roast\", \"glazed\", \"sesame\", \"wing\", \"cauliflower\", \"leek\", \"eggplant\", \"yellow\", \"corned_beef\", \"monkey_bread\", \"cornbread\", \"dinner\", \"beef_stroganoff\", \"quesadilla\", \"spanish\", \"yellow_squash\", \"king\", \"corned\", \"french_toast\", \"martha_stewart\", \"monkey\", \"original\", \"asiago\", \"mama\", \"crawfish\", \"juicy\", \"martha\", \"recipe\", \"style\", \"mustard\", \"honey_mustard\", \"guacamole\", \"layer\", \"horseradish\", \"good\", \"deep_dish\", \"dish\", \"three\", \"christmas\", \"hamburger\", \"gourmet\", \"date\", \"brie\", \"deep\", \"kabob\", \"veal\", \"creole\", \"waldorf\", \"tamale\", \"croquette\", \"marshmallow\", \"adobo\", \"prime\", \"turkish\", \"marsala\", \"magic\", \"minestrone\", \"honey\", \"smoothie\", \"cherry\", \"strawberry\", \"crock\", \"lime\", \"maple\", \"pie\", \"chipotle\", \"beer\", \"dumpling\", \"enchilada\", \"cheesecake\", \"hand_pie\", \"swiss\", \"loaf\", \"stewed\", \"baby\", \"shallot\", \"sponge\", \"frozen\", \"swiss_chard\", \"tagine\", \"perfect\", \"fashioned\", \"finger\", \"sponge_cake\", \"farmer_market\", \"pollo\", \"fish_taco\", \"margarita\", \"chili\", \"spicy\", \"corn\", \"ginger\", \"pineapple\", \"mini\", \"spice\", \"dipping\", \"dipping_sauce\", \"topping\", \"thyme\", \"cooking_light\", \"harvest\", \"lasagna\", \"plum\", \"fiesta\", \"gingerbread\", \"chili_carne\", \"pierogies\", \"pineapple_upside\", \"buckwheat\", \"streusel_topping\", \"five\", \"crostini\", \"pumpkin_spice\", \"grit\", \"squid\", \"rubbed\", \"cooking\", \"five_spice\", \"green\", \"green_bean\", \"italian\", \"cabbage\", \"mixed_green\", \"prosciutto\", \"cajun\", \"seared\", \"oamc\", \"papaya\", \"tuscan\", \"special\", \"cannellini_bean\", \"melon\", \"lobster\", \"club\", \"green_papaya\", \"fava_bean\", \"shiitake_mushroom\", \"prosciutto_wrapped\", \"turnip\", \"italian_wedding\", \"lover\", \"breadcrumb\", \"coleslaw\", \"peppered\", \"cannellini\", \"amies\", \"bechamel\", \"seared_scallop\", \"bean\", \"with\", \"sauce\", \"vegetable\", \"pecan\", \"spaghetti\", \"caramel\", \"bundt_cake\", \"fish\", \"vanilla\", \"crusted\", \"chorizo\", \"southwestern\", \"brownie\", \"angel_food\", \"bundt\", \"chive\", \"wedding\", \"food\", \"another\", \"clam\", \"vickys\", \"authentic\", \"mike\", \"oyster\", \"brandied\", \"devil_food\", \"chiffon\", \"habanero\", \"butterscotch\", \"vodka\", \"dried_tomato\", \"basil\", \"olive\", \"yogurt\", \"crispy\", \"dried\", \"healthy\", \"dough\", \"raisin\", \"pizza_dough\", \"caper\", \"braised\", \"caramelized_onion\", \"crumb\", \"beef_brisket\", \"grape\", \"cashew\", \"caramelized\", \"dried_cherry\", \"holiday\", \"brisket\", \"thick\", \"romaine\", \"mayo\", \"panko_crusted\", \"flavored\", \"leg\", \"copycat\", \"black_olive\", \"julie\", \"tomato\", \"pizza\", \"steak\", \"sandwich\", \"grilled\", \"cocktail\", \"pear\", \"flank_steak\", \"veggie\", \"marinated\", \"buffalo\", \"yummy\", \"flank\", \"cottage_cheese\", \"vietnamese\", \"poached\", \"weight_watcher\", \"pull_apart\", \"puff\", \"skirt_steak\", \"filling\", \"cottage\", \"diabetic\", \"emeril\", \"pink\", \"philly\", \"mississippi\", \"watcher\", \"primavera\", \"weight\", \"pull\", \"bacon\", \"blue_cheese\", \"bacon_wrapped\", \"avocado\", \"salsa\", \"wrapped\", \"blue\", \"cilantro\", \"crunchy\", \"cordon_bleu\", \"relish\", \"chopped\", \"grapefruit\", \"scallop\", \"grill\", \"caribbean\", \"acorn_squash\", \"thigh\", \"open_faced\", \"bleu\", \"chimichurri\", \"california\", \"open\", \"cordon\", \"filet_mignon\", \"breadstick\", \"salted\", \"open_face\", \"great\", \"gorgonzola\", \"cheese\", \"coconut\", \"buttermilk\", \"pastry\", \"cheddar\", \"puff_pastry\", \"chile\", \"fudge\", \"american\", \"frosting\", \"soft\", \"green_chile\", \"shell\", \"coconut_milk\", \"pork_tenderloin\", \"filled\", \"jerk\", \"traditional\", \"aunt\", \"yorkshire_pudding\", \"golden\", \"guinness\", \"jelly\", \"prune\", \"saute\", \"picnic\", \"macadamia\", \"shaved\", \"deluxe\", \"jamaican\", \"pinwheel\", \"cheese\", \"cream\", \"taco\", \"whole_wheat\", \"zucchini\", \"squash\", \"wheat\", \"dairy_free\", \"summer\", \"butternut_squash\", \"whole\", \"super\", \"kale\", \"crockpot\", \"microwave\", \"double\", \"mixed\", \"dairy\", \"super_easy\", \"shredded\", \"your\", \"point\", \"milk\", \"butternut\", \"dessert\", \"green_chilies\", \"country\", \"miso\", \"smoky\", \"kabocha_squash\", \"cracker\", \"tasty\", \"salad\", \"spinach\", \"dressing\", \"cucumber\", \"beef_tenderloin\", \"wine\", \"asparagus\", \"thai\", \"curried\", \"vinaigrette\", \"raspberry\", \"feta\", \"chinese\", \"citrus\", \"tenderloin\", \"chickpea\", \"caesar\", \"lettuce\", \"sauteed\", \"fajitas\", \"salsa_verde\", \"doughnut\", \"soba_noodle\", \"just\", \"tropical\", \"patty\", \"sherry\", \"celery\", \"verde\", \"watermelon\", \"pumpkin\", \"orange\", \"carrot\", \"cranberry\", \"walnut\", \"spread\", \"lentil\", \"tortilla\", \"artichoke\", \"bowl\", \"pita\", \"macaroni\", \"tarragon\", \"basic\", \"mandarin_orange\", \"savory\", \"hearty\", \"crouton\", \"appetizer\", \"autumn\", \"crisp\", \"swirl\", \"mandarin\", \"kraft\", \"broiled\", \"crunch\", \"sheet\", \"nutty\", \"skinny\", \"more\", \"white\", \"white_bean\", \"simple\", \"upside_down\", \"best\", \"down\", \"upside\", \"marinade\", \"ever\", \"best_ever\", \"japanese\", \"salisbury_steak\", \"southwest\", \"barbecued\", \"moist\", \"soda_bread\", \"party\", \"very\", \"texas\", \"daikon_radish\", \"toffee\", \"cuban\", \"pita_chip\", \"japanese_style\", \"hungarian\", \"salisbury\", \"brazilian\", \"candied\", \"provolone\", \"kahlua\", \"turkey\", \"bean\", \"muffin\", \"fried\", \"gluten_free\", \"blueberry\", \"free\", \"bran_muffin\", \"berry\", \"gluten\", \"minute\", \"sugar_free\", \"bran\", \"toasted\", \"blackberry\", \"deep_fried\", \"black_forest\", \"cornmeal\", \"gluten_dairy\", \"cupcake\", \"cocoa\", \"simply\", \"cola\", \"rainbow\", \"mousse\", \"heart_healthy\", \"marbled\", \"souffle\", \"festive\", \"recipe_elanaspantry\", \"elanaspantry\", \"turtle\", \"sugar\", \"soup\", \"beef\", \"stew\", \"baked\", \"stuffed\", \"skillet\", \"family_favorite\", \"favorite\", \"oven\", \"barley\", \"oven_fried\", \"florentine\", \"family\", \"slaw\", \"pennsylvania_dutch\", \"cumin\", \"dutch\", \"topped\", \"portuguese\", \"never_fail\", \"carne\", \"pizzaiola\", \"easter\", \"paprika\", \"oven_baked\", \"momma\", \"surprise\", \"tip\", \"beef_tip\", \"fail\", \"lemon\", \"asian\", \"hummus\", \"pickled\", \"apricot\", \"german\", \"meat\", \"brown_sugar\", \"grandma\", \"dijon\", \"rosemary\", \"poached_salmon\", \"glaze\", \"strip\", \"gingered\", \"leftover\", \"wonton\", \"cinnamon_raisin\", \"stock\", \"rolled\", \"scaloppine\", \"sugar_snap\", \"honey_dijon\", \"hoisin\", \"georgia\", \"string\", \"wasabi\", \"mole\", \"buttered\", \"strip_steak\", \"honey\", \"salmon\", \"sugar\", \"easy\", \"noodle\", \"mushroom\", \"cheesy\", \"bake\", \"wild\", \"teriyaki\", \"classic\", \"penne\", \"aioli\", \"wild_mushroom\", \"tortellini\", \"pancetta\", \"polenta\", \"egg\", \"awesome\", \"tartar\", \"easy_peasy\", \"creamed\", \"world_best\", \"amish\", \"hollandaise\", \"world\", \"fettuccine\", \"stick\", \"wilted_spinach\", \"poached_egg\", \"buttery\", \"homestyle\", \"peasy\", \"tomato\", \"bread\", \"pudding\", \"banana\", \"peanut_butter\", \"butter\", \"peanut\", \"bread_machine\", \"sweet_sour\", \"pesto\", \"lamb\", \"machine\", \"breaded\", \"pea\", \"rhubarb\", \"cup\", \"cutlet\", \"dark_chocolate\", \"wheat_germ\", \"meringue\", \"lemon_meringue\", \"home\", \"sticky\", \"shake\", \"calorie\", \"flat\", \"dark\", \"sourdough\", \"fondue\", \"liqueur\", \"nana\", \"sour\", \"roll\", \"fruit\", \"spring_roll\", \"crab\", \"mango\", \"quinoa\", \"vegetarian\", \"spring\", \"stuffing\", \"balsamic\", \"bourbon\", \"orzo\", \"couscous\", \"split\", \"chilled\", \"prawn\", \"black_eyed\", \"root_vegetable\", \"vinegar\", \"udon_noodle\", \"root\", \"balsamic_vinegar\", \"parsnip\", \"triple\", \"tandoori\", \"chutney\", \"make\", \"dipped\", \"croissant\", \"make_ahead\", \"rice\", \"wild_rice\", \"quick\", \"tuna\", \"curry\", \"custard\", \"bell_pepper\", \"fennel\", \"seafood\", \"light\", \"ranch\", \"quick_easy\", \"portobello_mushroom\", \"cooky\", \"over\", \"supreme\", \"layered\", \"tangy\", \"portobello\", \"easiest\", \"bell\", \"todd_wilbur\", \"halibut\", \"ragu\", \"eggless\", \"sauerkraut\", \"house\", \"purpose\", \"frito\", \"island\", \"slow_cooker\", \"chocolate_chip\", \"slow\", \"mexican\", \"cooker\", \"chip\", \"warm\", \"french\", \"breakfast\", \"spiced\", \"moroccan\", \"pine_nut\", \"mint\", \"round_steak\", \"slow_cooked\", \"streusel\", \"cookie\", \"beefy\", \"nut\", \"pine\", \"round\", \"indian_spiced\", \"using\", \"cooked\", \"flour\", \"amazing\", \"like\", \"cool\", \"meal\", \"velvet\", \"chocolate\", \"potato\", \"sweet_potato\", \"sweet\", \"french_onion\", \"pickle\", \"dill_pickle\", \"tart\", \"chef\", \"chef_john\", \"rich\", \"chilli\", \"butter_pickle\", \"diet\", \"famous\", \"fillet\", \"loaded\", \"skewer\", \"john\", \"gold\", \"salmon_fillet\", \"polish\", \"south_beach\", \"udon\", \"beach\", \"winter\", \"5fix\", \"really\", \"bolognese\", \"skin\", \"mom\", \"roasted\", \"dill\", \"apple\", \"pancake\", \"shrimp\", \"wrap\", \"greek\", \"lettuce_wrap\", \"cinnamon\", \"vegan\", \"oatmeal\", \"cold\", \"apple_cider\", \"garden\", \"steamed\", \"soft_taco\", \"cider\", \"tomato_basil\", \"whole_grain\", \"tahini\", \"fluffy\", \"pulled_pork\", \"better_than\", \"ramen_noodle\", \"ramen\", \"olive_garden\", \"puffy\", \"pulled\", \"grain\", \"octopus\", \"brussels_sprout\", \"rustic\", \"burger\", \"onion\", \"goat_cheese\", \"parmesan\", \"turkey_burger\", \"brown\", \"goat\", \"alfredo\", \"brown_rice\", \"sorbet\", \"southern\", \"herbed\", \"hazelnut\", \"sage\", \"pressure_cooker\", \"wedge\", \"hash_brown\", \"paula_deen\", \"burrito\", \"hash\", \"kickin\", \"four\", \"tomatillo\", \"diane\", \"ring\", \"flax\", \"paste\", \"pickled_onion\", \"better\", \"pressure\", \"turkey\", \"cheese\", \"pepper\", \"roasted_pepper\", \"stir\", \"stir_fried\", \"white_wine\", \"beet\", \"mozzarella\", \"heirloom_tomato\", \"arugula\", \"made\", \"syrup\", \"pepperoni_pizza\", \"zesty\", \"liver\", \"omelette\", \"english_muffin\", \"pepperoni\", \"maple_syrup\", \"blackened\", \"heirloom\", \"english\", \"pickled_beet\", \"middle_eastern\", \"endive\", \"south_african\", \"tapioca_pudding\", \"cheeseburger\", \"delight\", \"okra\", \"satay\", \"roasted\", \"pasta\", \"creamy\", \"smoked_salmon\", \"sausage\", \"smoked\", \"almond\", \"mediterranean\", \"chop\", \"pasta_toss\", \"gravy\", \"irish\", \"korean\", \"pasta_fagioli\", \"scallion\", \"toss\", \"pomegranate\", \"trout\", \"sunshine\", \"persian\", \"creme\", \"creme_fraiche\", \"lamb_chop\", \"cacciatore\", \"farfalle\", \"fagioli\", \"sunday\", \"broccoli_rabe\", \"bill\", \"italian_sausage\", \"jambalaya\", \"salmon\"], \"Freq\": [9767.0, 7019.0, 5737.0, 3982.0, 3688.0, 3956.0, 2632.0, 2685.0, 2769.0, 2127.0, 1631.0, 1520.0, 1497.0, 1581.0, 1397.0, 1524.0, 1325.0, 1376.0, 1172.0, 1115.0, 1305.0, 1127.0, 1419.0, 1215.0, 1247.0, 902.0, 1038.0, 916.0, 907.0, 1020.0, 826.2197265625, 571.3775024414062, 328.9265441894531, 310.0962219238281, 301.3899841308594, 299.7715148925781, 167.1454620361328, 165.89926147460938, 124.20154571533203, 121.89677429199219, 119.11762237548828, 113.05797576904297, 112.50723266601562, 101.42241668701172, 93.2271499633789, 90.28046417236328, 84.56661224365234, 82.0277328491211, 74.18354034423828, 70.9065933227539, 61.50278854370117, 51.66752243041992, 49.19778060913086, 46.8290901184082, 41.309593200683594, 40.40778350830078, 40.106903076171875, 38.997440338134766, 37.55496597290039, 37.30014419555664, 229.17417907714844, 907.1834106445312, 542.6965942382812, 539.4440307617188, 495.80035400390625, 185.6293487548828, 163.125732421875, 146.45164489746094, 117.05314636230469, 106.62202453613281, 99.28751373291016, 93.31040954589844, 70.43389129638672, 68.59017181396484, 66.8972396850586, 50.5112190246582, 29.517786026000977, 27.082181930541992, 20.847614288330078, 19.32826805114746, 18.795963287353516, 17.99418830871582, 16.961259841918945, 16.677072525024414, 16.198575973510742, 14.53864574432373, 12.550398826599121, 10.538459777832031, 3.5768163204193115, 1027.369384765625, 234.7270050048828, 337.4456787109375, 3982.39306640625, 463.3576965332031, 324.2175598144531, 240.7914276123047, 219.40316772460938, 218.2949981689453, 217.4656524658203, 208.6294708251953, 154.5847625732422, 146.12423706054688, 119.7780990600586, 99.25577545166016, 86.84905242919922, 72.73413848876953, 69.7903823852539, 68.51976013183594, 65.85807037353516, 62.896358489990234, 60.36301803588867, 60.19869613647461, 53.73468017578125, 52.31751251220703, 47.436092376708984, 45.9769401550293, 39.56941223144531, 38.1204833984375, 36.60502243041992, 35.06338882446289, 33.249141693115234, 32.355159759521484, 1303.4693603515625, 2127.254150390625, 606.7845458984375, 431.8647155761719, 354.47662353515625, 262.46295166015625, 232.5950927734375, 208.30630493164062, 158.81732177734375, 152.0483856201172, 138.0381317138672, 122.61215209960938, 119.3812026977539, 106.90740203857422, 96.36092376708984, 94.33361053466797, 90.87063598632812, 73.51288604736328, 71.98178100585938, 67.86644744873047, 62.80544662475586, 59.6932373046875, 55.84452819824219, 52.43584442138672, 48.16033172607422, 45.05348205566406, 43.98670196533203, 44.16399002075195, 43.16289138793945, 42.62092971801758, 40.46809768676758, 3688.58251953125, 708.3834838867188, 422.97003173828125, 314.82763671875, 191.7626495361328, 146.2805938720703, 141.3997039794922, 138.39027404785156, 108.36769104003906, 107.0265121459961, 104.29885864257812, 94.45276641845703, 89.96560668945312, 82.99468231201172, 78.14459991455078, 74.20208740234375, 66.67193603515625, 62.97748947143555, 55.08884811401367, 42.4925537109375, 42.020179748535156, 41.292781829833984, 39.39667892456055, 36.95104217529297, 36.793827056884766, 34.17228698730469, 33.659202575683594, 33.67693328857422, 27.14631462097168, 27.05744171142578, 43.85566329956055, 456.5062561035156, 349.6899108886719, 347.4554443359375, 342.6238708496094, 296.6103820800781, 241.18466186523438, 219.9005889892578, 214.41073608398438, 196.44166564941406, 195.0540313720703, 179.1958465576172, 109.76337432861328, 106.28060150146484, 97.32530212402344, 95.13079071044922, 94.21298217773438, 86.97537231445312, 84.73362731933594, 75.82254028320312, 73.5715560913086, 67.93695831298828, 62.45209884643555, 62.18392562866211, 57.81522750854492, 55.33164978027344, 54.241432189941406, 51.5468864440918, 50.845680236816406, 49.03205871582031, 48.215301513671875, 1520.178955078125, 806.3164672851562, 606.6760864257812, 398.4727478027344, 332.4798278808594, 268.89617919921875, 225.57192993164062, 159.54750061035156, 132.84161376953125, 127.31739807128906, 91.37517547607422, 78.3311538696289, 77.3573989868164, 73.50524139404297, 71.17565155029297, 64.85926818847656, 56.446311950683594, 53.196075439453125, 49.135337829589844, 43.11623764038086, 38.142059326171875, 37.44401931762695, 36.144378662109375, 34.73251724243164, 33.618492126464844, 32.97037887573242, 31.918333053588867, 31.873159408569336, 30.454578399658203, 26.119186401367188, 815.65087890625, 668.9907836914062, 369.54058837890625, 263.7345275878906, 143.79649353027344, 104.93987274169922, 104.28007507324219, 85.00936126708984, 72.24916076660156, 69.5113296508789, 55.68564224243164, 55.35867691040039, 54.47988510131836, 40.90571975708008, 37.893741607666016, 37.49383544921875, 36.405616760253906, 36.12470245361328, 35.08092498779297, 32.531394958496094, 31.879322052001953, 30.05168914794922, 29.44346809387207, 28.721773147583008, 27.253366470336914, 27.232460021972656, 24.133148193359375, 22.783451080322266, 20.13058090209961, 20.155126571655273, 780.7490844726562, 9767.111328125, 5737.423828125, 902.4082641601562, 418.6651306152344, 289.341796875, 256.8936462402344, 248.44337463378906, 246.8463592529297, 231.87344360351562, 149.3700408935547, 127.15324401855469, 125.23262023925781, 92.82072448730469, 89.29193115234375, 83.19830322265625, 83.02698516845703, 82.79975891113281, 82.09178924560547, 81.1584243774414, 65.52397155761719, 65.16169738769531, 64.75481414794922, 57.28635787963867, 57.36638259887695, 53.69691467285156, 47.99992752075195, 39.67378616333008, 38.52791976928711, 37.89315414428711, 35.236106872558594, 409.04052734375, 289.52874755859375, 258.52227783203125, 213.98060607910156, 210.30731201171875, 205.83291625976562, 141.28611755371094, 138.31666564941406, 132.30438232421875, 129.81236267089844, 120.111572265625, 113.5141372680664, 110.15243530273438, 103.02043151855469, 100.70411682128906, 87.29520416259766, 78.40637969970703, 71.7814712524414, 65.05518341064453, 55.76149368286133, 53.83796691894531, 51.72590255737305, 50.08492660522461, 46.833927154541016, 46.143253326416016, 41.64170837402344, 39.86078643798828, 38.00117492675781, 34.32826614379883, 32.57917404174805, 170.2492218017578, 1497.505126953125, 1325.599853515625, 1038.5474853515625, 1020.5787353515625, 287.88812255859375, 276.4671325683594, 229.52035522460938, 229.6736602783203, 228.77597045898438, 199.3925018310547, 134.8583526611328, 114.76274108886719, 112.34219360351562, 102.26530456542969, 94.69200897216797, 80.88264465332031, 78.48463439941406, 73.36245727539062, 71.26956176757812, 71.16836547851562, 51.7996940612793, 50.40875244140625, 49.972557067871094, 47.87216567993164, 45.171138763427734, 43.10368728637695, 41.961307525634766, 41.532470703125, 40.44388198852539, 39.48325729370117, 532.3527221679688, 505.7245178222656, 311.8402099609375, 282.9443664550781, 266.6469421386719, 221.95741271972656, 207.49639892578125, 202.3773651123047, 101.67503356933594, 100.89459228515625, 89.62686920166016, 88.58809661865234, 67.66751861572266, 66.77141571044922, 62.13028335571289, 61.647193908691406, 57.63857650756836, 57.144752502441406, 53.729644775390625, 50.265377044677734, 45.210147857666016, 45.077125549316406, 43.84425354003906, 38.68865203857422, 36.08262252807617, 34.94218063354492, 34.569400787353516, 33.9588508605957, 33.170719146728516, 33.06715393066406, 201.8806915283203, 422.9339599609375, 255.17955017089844, 231.68800354003906, 216.5966033935547, 155.2025909423828, 133.70831298828125, 127.91222381591797, 103.24507904052734, 95.61967468261719, 84.01063537597656, 78.9012451171875, 69.21977996826172, 64.42427062988281, 62.47588348388672, 61.11689376831055, 59.05020523071289, 57.85972213745117, 53.973506927490234, 52.08418655395508, 47.66096878051758, 44.352115631103516, 43.07006072998047, 36.51799392700195, 35.892276763916016, 35.66116714477539, 35.373870849609375, 34.12740707397461, 30.826963424682617, 30.381000518798828, 27.83362579345703, 1116.7493896484375, 348.37969970703125, 818.4529418945312, 542.1272583007812, 319.8150634765625, 316.03277587890625, 289.340576171875, 234.08187866210938, 234.34286499023438, 231.21913146972656, 230.26083374023438, 144.0114288330078, 120.77645111083984, 120.22794342041016, 107.01915740966797, 107.17227172851562, 101.4906005859375, 100.12799072265625, 95.18360137939453, 94.43009948730469, 84.48359680175781, 83.83026885986328, 83.09849548339844, 82.40117645263672, 81.48138427734375, 80.59528350830078, 79.67096710205078, 76.41856384277344, 73.90604400634766, 56.291404724121094, 46.77611541748047, 45.73543930053711, 7019.560546875, 691.9032592773438, 552.5603637695312, 402.1930847167969, 365.42218017578125, 351.6944580078125, 334.1013488769531, 316.1544189453125, 246.08619689941406, 219.1512908935547, 197.93075561523438, 179.13885498046875, 176.59523010253906, 170.99058532714844, 160.74095153808594, 158.0762481689453, 133.7015838623047, 131.28335571289062, 122.86003112792969, 119.4307861328125, 90.37486267089844, 82.2652587890625, 73.49934387207031, 65.09696960449219, 64.5384292602539, 64.13435363769531, 62.217498779296875, 59.729793548583984, 56.10995864868164, 49.65715408325195, 785.2033081054688, 688.0667114257812, 515.0831298828125, 419.50811767578125, 394.4555358886719, 345.02825927734375, 261.4985656738281, 251.15086364746094, 223.97042846679688, 148.0508270263672, 143.861083984375, 141.98336791992188, 129.5728302001953, 126.23890686035156, 109.11555480957031, 108.68499755859375, 96.55774688720703, 79.32877349853516, 69.80620574951172, 55.85957717895508, 55.53926467895508, 54.70036315917969, 45.29435729980469, 44.41069030761719, 40.27891540527344, 35.570587158203125, 33.13248825073242, 31.34613037109375, 28.133386611938477, 26.4185848236084, 446.65643310546875, 400.811279296875, 281.03448486328125, 258.9984436035156, 242.81265258789062, 148.83734130859375, 147.20506286621094, 128.20985412597656, 96.61959075927734, 91.11006927490234, 87.6028060913086, 85.619873046875, 80.906494140625, 79.19731903076172, 74.99555206298828, 66.3294906616211, 65.6915283203125, 57.83784484863281, 56.88304901123047, 55.60960006713867, 53.684242248535156, 52.260292053222656, 50.152103424072266, 35.24097442626953, 32.70271301269531, 28.67562484741211, 26.15390968322754, 25.571205139160156, 22.884065628051758, 21.968294143676758, 431.4635925292969, 128.88734436035156, 1114.8741455078125, 523.3558349609375, 447.7483825683594, 425.8256530761719, 361.3349609375, 231.6536102294922, 189.286376953125, 164.9112548828125, 134.23284912109375, 118.27021026611328, 111.18472290039062, 81.79952239990234, 79.86885833740234, 77.9102783203125, 51.079986572265625, 46.860687255859375, 44.557518005371094, 37.96180725097656, 34.72317886352539, 34.47881317138672, 26.824859619140625, 25.46964454650879, 25.40443229675293, 23.69330596923828, 22.903573989868164, 21.65776252746582, 21.48922348022461, 21.280935287475586, 21.280935287475586, 19.945093154907227, 66.01988983154297, 3956.70654296875, 2769.818115234375, 1111.7735595703125, 698.6747436523438, 332.712890625, 164.29925537109375, 159.45582580566406, 157.64230346679688, 148.51162719726562, 143.4311065673828, 128.23562622070312, 71.97408294677734, 66.44173431396484, 63.411354064941406, 61.23434829711914, 60.694427490234375, 58.88455581665039, 57.18880844116211, 56.89596939086914, 50.118560791015625, 42.80965042114258, 41.66415786743164, 41.489036560058594, 41.455345153808594, 40.7424201965332, 39.283023834228516, 34.72602462768555, 32.899620056152344, 32.73478698730469, 32.580013275146484, 1127.24560546875, 264.25030517578125, 257.1986999511719, 241.2604217529297, 209.09060668945312, 175.72164916992188, 147.67140197753906, 142.86891174316406, 141.7528839111328, 137.0665740966797, 134.53469848632812, 102.92750549316406, 102.62379455566406, 71.39288330078125, 55.48637008666992, 54.719417572021484, 50.87345504760742, 42.13008117675781, 38.21855163574219, 31.37922477722168, 30.879911422729492, 28.698318481445312, 22.804386138916016, 21.505523681640625, 20.2867374420166, 19.558813095092773, 19.388622283935547, 18.7004337310791, 18.165815353393555, 17.391956329345703, 439.6941833496094, 1085.6754150390625, 113.8667984008789, 1397.057861328125, 908.7042846679688, 809.9121704101562, 460.8854675292969, 311.54083251953125, 214.42401123046875, 173.8885955810547, 142.00450134277344, 129.23583984375, 82.5499496459961, 80.47791290283203, 71.99022674560547, 65.25979614257812, 63.56462478637695, 62.42610549926758, 60.21609115600586, 53.42781448364258, 52.96807861328125, 50.670928955078125, 48.836585998535156, 45.990299224853516, 41.18882369995117, 38.51689147949219, 37.733890533447266, 37.21928024291992, 33.6010856628418, 31.952978134155273, 27.62517738342285, 27.48772430419922, 26.486804962158203, 1411.3231201171875, 2684.889404296875, 1215.24658203125, 834.5882568359375, 784.7298583984375, 659.861572265625, 463.12152099609375, 416.9136962890625, 404.310791015625, 200.5810089111328, 141.2113037109375, 139.29000854492188, 100.13320922851562, 96.6356430053711, 95.9459457397461, 76.64484405517578, 45.68317794799805, 45.445491790771484, 42.99779510498047, 39.40424346923828, 39.35609436035156, 37.05741500854492, 36.273799896240234, 34.56102752685547, 33.0638313293457, 31.8562068939209, 24.99370574951172, 23.992801666259766, 22.1046085357666, 21.60273551940918, 21.641761779785156, 140.5901336669922, 354.7711486816406, 337.665283203125, 292.9970397949219, 254.33750915527344, 237.14984130859375, 217.8443603515625, 168.73193359375, 167.8984832763672, 133.04788208007812, 129.8415069580078, 120.7726821899414, 102.08802795410156, 97.48169708251953, 84.52047729492188, 73.39177703857422, 71.64627075195312, 68.0438003540039, 61.83098602294922, 59.33334732055664, 56.40342712402344, 54.62538146972656, 49.564491271972656, 49.36516571044922, 41.04179000854492, 38.99259567260742, 38.52492141723633, 36.305423736572266, 35.3867073059082, 35.48525619506836, 34.89638900756836, 901.8994750976562, 444.0810241699219, 413.6702880859375, 376.38958740234375, 329.6963806152344, 329.5644226074219, 159.4504852294922, 155.142822265625, 154.3668212890625, 134.32473754882812, 117.60960388183594, 107.8332290649414, 92.97410583496094, 91.62166595458984, 89.34626007080078, 78.23609924316406, 75.5499267578125, 68.65697479248047, 64.12203216552734, 62.98740768432617, 62.91721725463867, 50.99364471435547, 37.42502975463867, 35.00434494018555, 32.93566131591797, 32.27143859863281, 28.97199058532715, 28.052305221557617, 26.909591674804688, 26.63503074645996, 867.7291870117188, 376.6651611328125, 325.99713134765625, 318.5962219238281, 314.99493408203125, 304.0504150390625, 214.53024291992188, 201.18856811523438, 196.09849548339844, 175.48599243164062, 143.8311767578125, 132.348388671875, 108.25106811523438, 95.84370422363281, 88.35801696777344, 83.51927185058594, 78.91549682617188, 76.86453247070312, 70.64356231689453, 64.38297271728516, 59.40770721435547, 54.613441467285156, 49.82965087890625, 46.26982879638672, 40.95216751098633, 40.642425537109375, 39.35332107543945, 33.15129852294922, 27.222217559814453, 25.091890335083008, 115.27008819580078, 1630.9051513671875, 916.6121215820312, 821.3629150390625, 211.84764099121094, 173.05694580078125, 71.73736572265625, 61.81343078613281, 60.651512145996094, 60.05793380737305, 56.4420280456543, 52.187469482421875, 50.576480865478516, 47.93825912475586, 47.407291412353516, 45.463294982910156, 43.258460998535156, 42.925018310546875, 41.86386489868164, 37.345455169677734, 37.02422332763672, 35.14334487915039, 35.14192581176758, 31.005577087402344, 28.642444610595703, 28.322023391723633, 23.417932510375977, 23.045949935913086, 22.16933822631836, 20.544374465942383, 19.85881233215332, 521.476318359375, 74.50780487060547, 1172.5384521484375, 747.212158203125, 676.5062255859375, 405.6105041503906, 326.6508483886719, 226.24713134765625, 182.3968048095703, 177.99276733398438, 132.7889862060547, 131.97447204589844, 110.2007064819336, 95.74833679199219, 90.30137634277344, 81.29497528076172, 80.32933807373047, 76.8993148803711, 70.36477661132812, 66.76175689697266, 64.97501373291016, 62.5361213684082, 50.47243118286133, 49.502525329589844, 47.599308013916016, 46.73904037475586, 45.12343215942383, 45.129234313964844, 42.980838775634766, 36.019168853759766, 33.521759033203125, 29.177183151245117, 810.292724609375, 661.3489990234375, 503.54779052734375, 337.3006591796875, 284.9570617675781, 217.8317108154297, 172.59487915039062, 155.3890380859375, 148.32022094726562, 96.96075439453125, 96.26042938232422, 85.53307342529297, 77.90751647949219, 62.275978088378906, 58.559234619140625, 57.65868377685547, 57.9052848815918, 57.18610382080078, 55.280662536621094, 52.756248474121094, 42.809818267822266, 42.21229553222656, 41.62043380737305, 39.70549774169922, 36.59575271606445, 33.372276306152344, 32.92627716064453, 31.750591278076172, 31.098661422729492, 27.99742317199707, 133.19921875, 205.43673706054688, 610.3297729492188, 501.6154479980469, 224.3229217529297, 220.6767578125, 154.71804809570312, 116.91476440429688, 115.83876037597656, 110.6126708984375, 88.93986511230469, 83.56201934814453, 78.87784576416016, 78.89054107666016, 77.92455291748047, 73.48047637939453, 68.35203552246094, 64.04312133789062, 63.9728889465332, 58.52240753173828, 55.70270538330078, 44.657981872558594, 43.08570098876953, 40.326515197753906, 38.006752014160156, 36.201072692871094, 35.672061920166016, 35.09645080566406, 31.044538497924805, 30.849075317382812, 30.361291885375977, 30.06329345703125, 222.34693908691406, 2632.18994140625, 730.3131713867188, 586.1590576171875, 403.6423034667969, 364.05755615234375, 265.8232421875, 199.35780334472656, 130.61244201660156, 128.03616333007812, 112.31534576416016, 89.26905822753906, 81.56829071044922, 64.77017974853516, 54.65011978149414, 46.411224365234375, 44.19626235961914, 41.20425796508789, 39.91941833496094, 37.575340270996094, 37.810054779052734, 37.584835052490234, 35.31157684326172, 33.754364013671875, 32.903934478759766, 32.387603759765625, 31.05659294128418, 30.467735290527344, 29.383028030395508, 23.54908561706543, 21.006275177001953, 219.67918395996094], \"Total\": [9767.0, 7019.0, 5737.0, 3982.0, 3688.0, 3956.0, 2632.0, 2685.0, 2769.0, 2127.0, 1631.0, 1520.0, 1497.0, 1581.0, 1397.0, 1524.0, 1325.0, 1376.0, 1172.0, 1115.0, 1305.0, 1127.0, 1419.0, 1215.0, 1247.0, 902.0, 1038.0, 916.0, 907.0, 1020.0, 826.3710327148438, 571.528564453125, 329.0768737792969, 310.2468566894531, 301.5404052734375, 299.92193603515625, 167.2953338623047, 166.04920959472656, 124.35113525390625, 122.046875, 119.26708221435547, 113.20762634277344, 112.65670013427734, 101.57201385498047, 93.37648010253906, 90.4301528930664, 84.71601867675781, 82.17736053466797, 74.33241271972656, 71.05558013916016, 61.651920318603516, 51.81679153442383, 49.3469123840332, 46.97824478149414, 41.45860290527344, 40.55592346191406, 40.25598907470703, 39.14640426635742, 37.703880310058594, 37.449066162109375, 303.9779357910156, 907.3355712890625, 542.8484497070312, 539.595703125, 495.9521484375, 185.78025817871094, 163.2767791748047, 146.6027069091797, 117.20381164550781, 106.77233123779297, 99.4379653930664, 93.46065521240234, 70.58350372314453, 68.73982238769531, 67.04753112792969, 50.66135787963867, 29.667245864868164, 27.231494903564453, 20.996768951416016, 19.477130889892578, 18.945520401000977, 18.14311981201172, 17.1104793548584, 16.8260555267334, 16.34791374206543, 14.687675476074219, 12.698766708374023, 10.687979698181152, 3.7256484031677246, 1376.051513671875, 375.6174011230469, 1247.5361328125, 3982.546630859375, 463.5088195800781, 324.3678894042969, 240.94175720214844, 219.55364990234375, 218.44534301757812, 217.6157684326172, 208.7799530029297, 154.73464965820312, 146.27420043945312, 119.92769622802734, 99.4056396484375, 86.9985122680664, 72.88340759277344, 69.93975067138672, 68.66889953613281, 66.00732421875, 63.04574203491211, 60.512123107910156, 60.34759521484375, 53.88373565673828, 52.466529846191406, 47.58537292480469, 46.125953674316406, 39.71842956542969, 38.26948547363281, 36.75382614135742, 35.21207809448242, 33.39793014526367, 32.50346374511719, 1419.0418701171875, 2127.40625, 606.9356689453125, 432.0154724121094, 354.6272888183594, 262.6131591796875, 232.74534606933594, 208.45652770996094, 158.96734619140625, 152.1982421875, 138.1881866455078, 122.7615737915039, 119.53117370605469, 107.05712127685547, 96.51033782958984, 94.48318481445312, 91.0206069946289, 73.66205596923828, 72.13133239746094, 68.0152359008789, 62.95447540283203, 59.842681884765625, 55.99345397949219, 52.584903717041016, 48.30929183959961, 45.20195388793945, 44.13485336303711, 44.31298065185547, 43.31126403808594, 42.76940155029297, 40.616764068603516, 3688.734619140625, 708.5347290039062, 423.12054443359375, 314.9776611328125, 191.91261291503906, 146.43038940429688, 141.54922485351562, 138.5397491455078, 108.51753234863281, 107.17605590820312, 104.44837188720703, 94.6019287109375, 90.1150131225586, 83.14341735839844, 78.29401397705078, 74.35101318359375, 66.82128143310547, 63.12660598754883, 55.237667083740234, 42.64139175415039, 42.16913986206055, 41.441680908203125, 39.544857025146484, 37.09956741333008, 36.942169189453125, 34.320194244384766, 33.80757522583008, 33.82565689086914, 27.29437255859375, 27.205991744995117, 483.84564208984375, 456.6569519042969, 349.84033203125, 347.60614013671875, 342.7745666503906, 296.760986328125, 241.3346710205078, 220.05062866210938, 214.56089782714844, 196.5916748046875, 195.20396423339844, 179.34608459472656, 109.91263580322266, 106.4296646118164, 97.47480010986328, 95.28014373779297, 94.36229705810547, 87.12491607666016, 84.8826675415039, 75.97148132324219, 73.7207260131836, 68.08611297607422, 62.600502014160156, 62.333316802978516, 57.96464157104492, 55.480709075927734, 54.390262603759766, 51.69562530517578, 50.994361877441406, 49.18083190917969, 48.36390686035156, 1520.330322265625, 806.4675903320312, 606.8269653320312, 398.6231994628906, 332.6302185058594, 269.04620361328125, 225.72178649902344, 159.69735717773438, 132.99142456054688, 127.46674346923828, 91.52420806884766, 78.47999572753906, 77.50601959228516, 73.65430450439453, 71.32478332519531, 65.00809478759766, 56.594810485839844, 53.34519577026367, 49.28312301635742, 43.26508331298828, 38.290462493896484, 37.59159851074219, 36.29301834106445, 34.88068771362305, 33.76691818237305, 33.1181640625, 32.06632995605469, 32.0218505859375, 30.603052139282227, 26.268049240112305, 815.802734375, 669.1421508789062, 369.6919250488281, 263.8853454589844, 143.94642639160156, 105.08997344970703, 104.43006134033203, 85.1594467163086, 72.39862060546875, 69.6607437133789, 55.83534240722656, 55.50798797607422, 54.62924575805664, 41.05514907836914, 38.04351806640625, 37.64295959472656, 36.55408477783203, 36.27371597290039, 35.23039627075195, 32.68120193481445, 32.028133392333984, 30.200044631958008, 29.59229850769043, 28.8710880279541, 27.401992797851562, 27.381196975708008, 24.281814575195312, 22.931617736816406, 20.27924346923828, 20.304458618164062, 1247.5361328125, 9767.2666015625, 5737.5771484375, 902.5593872070312, 418.8155517578125, 289.49188232421875, 257.04364013671875, 248.59327697753906, 246.996337890625, 232.02325439453125, 149.51971435546875, 127.30233764648438, 125.3820571899414, 92.9697265625, 89.4413833618164, 83.34740447998047, 83.17582702636719, 82.94833374023438, 82.24113464355469, 81.30638122558594, 65.67293548583984, 65.31029510498047, 64.90335083007812, 57.434696197509766, 57.51542282104492, 53.84467697143555, 48.1486930847168, 39.822265625, 38.676025390625, 38.041996002197266, 35.384578704833984, 409.1911926269531, 289.6794128417969, 258.6728820800781, 214.13104248046875, 210.45779418945312, 205.98324584960938, 141.43638610839844, 138.46656799316406, 132.45468139648438, 129.96253967285156, 120.2613296508789, 113.66425323486328, 110.30250549316406, 103.1702651977539, 100.85400390625, 87.44491577148438, 78.55609130859375, 71.93134307861328, 65.20482635498047, 55.910892486572266, 53.98736572265625, 51.87472915649414, 50.23382568359375, 46.98321533203125, 46.292198181152344, 41.79071807861328, 40.00962829589844, 38.15056610107422, 34.477108001708984, 32.72737121582031, 1581.87255859375, 1497.65673828125, 1325.75146484375, 1038.698974609375, 1020.7304077148438, 288.0389099121094, 276.6175537109375, 229.6707305908203, 229.82424926757812, 228.9263153076172, 199.542724609375, 135.00808715820312, 114.91259002685547, 112.49182891845703, 102.4149398803711, 94.84185028076172, 81.03245544433594, 78.63356018066406, 73.51213836669922, 71.41938781738281, 71.31800842285156, 51.94892120361328, 50.55790710449219, 50.12102127075195, 48.02126693725586, 45.32004928588867, 43.2514762878418, 42.110595703125, 41.681514739990234, 40.59314727783203, 39.63175582885742, 532.5040893554688, 505.8757019042969, 311.99090576171875, 283.09515380859375, 266.7974548339844, 222.10781860351562, 207.64686584472656, 202.52761840820312, 101.8249740600586, 101.04459381103516, 89.77617645263672, 88.73754119873047, 67.8168716430664, 66.921142578125, 62.279483795166016, 61.79648971557617, 57.7879753112793, 57.2944450378418, 53.87894058227539, 50.414791107177734, 45.359127044677734, 45.22630310058594, 43.993350982666016, 38.83784103393555, 36.23176956176758, 35.09133529663086, 34.718048095703125, 34.10757064819336, 33.319671630859375, 33.216651916503906, 1524.5157470703125, 423.0846862792969, 255.3296661376953, 231.8382568359375, 216.74679565429688, 155.3527374267578, 133.8583526611328, 128.0618896484375, 103.3943099975586, 95.76947784423828, 84.15989685058594, 79.05116271972656, 69.36914825439453, 64.57366180419922, 62.625423431396484, 61.265933990478516, 59.19899368286133, 58.00889205932617, 54.122581481933594, 52.23326110839844, 47.81019592285156, 44.500938415527344, 43.21858596801758, 36.666629791259766, 36.041011810302734, 35.809783935546875, 35.52253723144531, 34.275814056396484, 30.97509765625, 30.52952003479004, 27.981929779052734, 1524.5157470703125, 1376.051513671875, 818.6048583984375, 542.2786254882812, 319.9661560058594, 316.1838684082031, 289.4914855957031, 234.232177734375, 234.4935760498047, 231.3701934814453, 230.41163635253906, 144.161865234375, 120.92675018310547, 120.37830352783203, 107.16898345947266, 107.32246398925781, 101.64067840576172, 100.27781677246094, 95.33392333984375, 94.5802001953125, 84.63323974609375, 83.98005676269531, 83.24861907958984, 82.55147552490234, 81.6312255859375, 80.74475860595703, 79.8210678100586, 76.568603515625, 74.05584716796875, 56.44090270996094, 46.925743103027344, 45.88522720336914, 7019.71435546875, 692.0546264648438, 552.7113037109375, 402.3436584472656, 365.5726318359375, 351.8449401855469, 334.2518615722656, 316.3049621582031, 246.2364501953125, 219.30169677734375, 198.08103942871094, 179.2892303466797, 176.7454833984375, 171.1405029296875, 160.8909149169922, 158.22630310058594, 133.85154724121094, 131.43316650390625, 123.00969696044922, 119.58074188232422, 90.5239486694336, 82.41465759277344, 73.64884185791016, 65.24557495117188, 64.6878433227539, 64.28388977050781, 62.366329193115234, 59.87913513183594, 56.25888442993164, 49.80647277832031, 785.3541259765625, 688.217529296875, 515.233642578125, 419.6584777832031, 394.6056823730469, 345.1785583496094, 261.6485290527344, 251.30072021484375, 224.1202850341797, 148.20028686523438, 144.0105743408203, 142.13282775878906, 129.72216796875, 126.3883285522461, 109.26477813720703, 108.83443450927734, 96.70711517333984, 79.47747039794922, 69.95484924316406, 56.00809860229492, 55.68817901611328, 54.84907150268555, 45.443382263183594, 44.55885696411133, 40.42778015136719, 35.71913528442383, 33.280757904052734, 31.494640350341797, 28.281152725219727, 26.566669464111328, 446.80816650390625, 400.9627380371094, 281.1856384277344, 259.14923095703125, 242.9638671875, 148.9878692626953, 147.3555450439453, 128.36038208007812, 96.77003479003906, 91.26070404052734, 87.75308990478516, 85.77008056640625, 81.05664825439453, 79.34770965576172, 75.145751953125, 66.47931671142578, 65.8413314819336, 57.987709045410156, 57.0331916809082, 55.759220123291016, 53.83391571044922, 52.409908294677734, 50.30199432373047, 35.39091873168945, 32.85231018066406, 28.825016021728516, 26.30327033996582, 25.72068214416504, 23.03292465209961, 22.11726951599121, 564.9622192382812, 1247.5361328125, 1115.02587890625, 523.507080078125, 447.899658203125, 425.97674560546875, 361.48602294921875, 231.80429077148438, 189.4369659423828, 165.0617218017578, 134.38299560546875, 118.42022705078125, 111.33480834960938, 81.94952392578125, 80.018798828125, 78.06011962890625, 51.22924041748047, 47.010189056396484, 44.707027435302734, 38.110870361328125, 34.87237548828125, 34.62793731689453, 26.973329544067383, 25.618534088134766, 25.55396842956543, 23.842466354370117, 23.051862716674805, 21.806554794311523, 21.637670516967773, 21.4294490814209, 21.4294490814209, 20.093442916870117, 180.1815948486328, 3956.859619140625, 2769.972900390625, 1111.9248046875, 698.8256225585938, 332.86334228515625, 164.44900512695312, 159.6044921875, 157.7919464111328, 148.66143798828125, 143.58078002929688, 128.3853759765625, 72.12274169921875, 66.59036254882812, 63.56021499633789, 61.3829231262207, 60.84334945678711, 59.033267974853516, 57.337764739990234, 57.04450988769531, 50.26699447631836, 42.95833206176758, 41.81229019165039, 41.63761520385742, 41.60403060913086, 40.89071273803711, 39.430721282958984, 34.874576568603516, 33.04778289794922, 32.882789611816406, 32.727760314941406, 1127.3968505859375, 264.4005126953125, 257.3485412597656, 241.41049194335938, 209.24037170410156, 175.87109375, 147.82115173339844, 143.01856994628906, 141.90231323242188, 137.2159423828125, 134.68438720703125, 103.07698059082031, 102.77322387695312, 71.5418472290039, 55.634613037109375, 54.86838912963867, 51.021728515625, 42.27884292602539, 38.36709976196289, 31.527416229248047, 31.027761459350586, 28.846782684326172, 22.951980590820312, 21.653945922851562, 20.434650421142578, 19.706466674804688, 19.537107467651367, 18.848535537719727, 18.313873291015625, 17.5398006439209, 483.84564208984375, 1305.655029296875, 180.1815948486328, 1397.2091064453125, 908.8553466796875, 810.0631713867188, 461.03582763671875, 311.6909484863281, 214.57383728027344, 174.03814697265625, 142.1539764404297, 129.3851776123047, 82.6986312866211, 80.62759399414062, 72.13929748535156, 65.40814971923828, 63.7135009765625, 62.575435638427734, 60.36480712890625, 53.576683044433594, 53.11632537841797, 50.819671630859375, 48.985382080078125, 46.13882064819336, 41.33692932128906, 38.66539764404297, 37.88250732421875, 37.36787033081055, 33.7498779296875, 32.10174560546875, 27.773101806640625, 27.63552474975586, 26.63450813293457, 1581.87255859375, 2685.042724609375, 1215.3988037109375, 834.740234375, 784.881591796875, 660.0133056640625, 463.2730407714844, 417.0651550292969, 404.4618835449219, 200.73199462890625, 141.36190795898438, 139.44053649902344, 100.28335571289062, 96.78585815429688, 96.09622192382812, 76.7945556640625, 45.8327522277832, 45.595279693603516, 43.14665603637695, 39.553958892822266, 39.5058708190918, 37.20681381225586, 36.42351531982422, 34.709938049316406, 33.21318817138672, 32.00586700439453, 25.143001556396484, 24.142431259155273, 22.253353118896484, 21.75066566467285, 21.790266036987305, 375.6174011230469, 354.92156982421875, 337.81585693359375, 293.147216796875, 254.48782348632812, 237.300048828125, 217.99424743652344, 168.88172912597656, 168.0484161376953, 133.19757080078125, 129.99142456054688, 120.92212677001953, 102.23746490478516, 97.6312484741211, 84.66968536376953, 73.54100036621094, 71.79498291015625, 68.19293212890625, 61.980079650878906, 59.48248291015625, 56.55253982543945, 54.774356842041016, 49.713157653808594, 49.513954162597656, 41.19074249267578, 39.14069366455078, 38.673858642578125, 36.45452117919922, 35.53439712524414, 35.63371276855469, 35.04533004760742, 902.0509643554688, 444.2315979003906, 413.82110595703125, 376.5404052734375, 329.846923828125, 329.7149963378906, 159.6007080078125, 155.29286193847656, 154.5164031982422, 134.47459411621094, 117.7596206665039, 107.98281860351562, 93.12335205078125, 91.77118682861328, 89.49597930908203, 78.38546752929688, 75.69957733154297, 68.80648040771484, 64.27116394042969, 63.13640594482422, 63.06672286987305, 51.14279556274414, 37.574100494384766, 35.15298843383789, 33.08418655395508, 32.420074462890625, 29.120758056640625, 28.200557708740234, 27.057939529418945, 26.783931732177734, 867.8812866210938, 376.8169860839844, 326.14849853515625, 318.74755859375, 315.146240234375, 304.20196533203125, 214.6813507080078, 201.33985900878906, 196.2495880126953, 175.63706970214844, 143.98179626464844, 132.49899291992188, 108.40185546875, 95.99402618408203, 88.5083999633789, 83.66954040527344, 79.0655288696289, 77.01470947265625, 70.79360961914062, 64.5330810546875, 59.5577507019043, 54.7631721496582, 49.979087829589844, 46.419639587402344, 41.1018180847168, 40.79224395751953, 39.503257751464844, 33.30099105834961, 27.371828079223633, 25.241300582885742, 1419.0418701171875, 1631.05712890625, 916.7637939453125, 821.5145874023438, 211.9978790283203, 173.2073974609375, 71.88706970214844, 61.96293258666992, 60.800968170166016, 60.20699691772461, 56.59165573120117, 52.3365592956543, 50.72526168823242, 48.08717727661133, 47.556583404541016, 45.6131591796875, 43.407527923583984, 43.07440185546875, 42.012821197509766, 37.494388580322266, 37.17408752441406, 35.29224395751953, 35.29106903076172, 31.154470443725586, 28.790964126586914, 28.47157859802246, 23.566139221191406, 23.19398307800293, 22.318201065063477, 20.69307518005371, 20.007482528686523, 744.1250610351562, 303.9779357910156, 1172.6900634765625, 747.3634033203125, 676.6574096679688, 405.7613830566406, 326.8014221191406, 226.39723205566406, 182.5473175048828, 178.14283752441406, 132.9390411376953, 132.12423706054688, 110.35025024414062, 95.8980484008789, 90.45100402832031, 81.44426727294922, 80.47860717773438, 77.0487060546875, 70.51451873779297, 66.9107666015625, 65.12435150146484, 62.6853141784668, 50.6218147277832, 49.65171432495117, 47.74833297729492, 46.88840103149414, 45.27128601074219, 45.278324127197266, 43.130157470703125, 36.166954040527344, 33.671199798583984, 29.326030731201172, 810.4439086914062, 661.5000610351562, 503.6986083984375, 337.450927734375, 285.10736083984375, 217.98179626464844, 172.7448272705078, 155.53854370117188, 148.47006225585938, 97.11026000976562, 96.40989685058594, 85.6825942993164, 78.05670166015625, 62.42502212524414, 58.70835876464844, 57.80702209472656, 58.05488204956055, 57.335201263427734, 55.4296875, 52.90557098388672, 42.95793151855469, 42.36101531982422, 41.76935958862305, 39.853267669677734, 36.74436950683594, 33.520751953125, 33.07450866699219, 31.89907455444336, 31.247291564941406, 28.14573860168457, 564.9622192382812, 1524.5157470703125, 610.48193359375, 501.7669677734375, 224.4741668701172, 220.82777404785156, 154.86892700195312, 117.06574249267578, 115.98927307128906, 110.7628173828125, 89.09064483642578, 83.71258544921875, 79.02825164794922, 79.04100799560547, 78.07501983642578, 73.6307144165039, 68.50240325927734, 64.19343566894531, 64.12310791015625, 58.6725959777832, 55.85252380371094, 44.80750274658203, 43.235740661621094, 40.476539611816406, 38.15687561035156, 36.35100555419922, 35.82179260253906, 35.24653244018555, 31.194486618041992, 30.99853515625, 30.51088523864746, 30.213172912597656, 744.1250610351562, 2632.342529296875, 730.4647216796875, 586.310302734375, 403.7933349609375, 364.2084045410156, 265.9739990234375, 199.50804138183594, 130.76255798339844, 128.18589782714844, 112.46541595458984, 89.4189224243164, 81.71784973144531, 64.91956329345703, 54.799598693847656, 46.560359954833984, 44.34559631347656, 41.353206634521484, 40.067962646484375, 37.72362518310547, 37.95942306518555, 37.73394012451172, 35.46082305908203, 33.90318298339844, 33.05209732055664, 32.53644561767578, 31.205434799194336, 30.61677360534668, 29.531543731689453, 23.698211669921875, 21.154613494873047, 1305.655029296875], \"Category\": [\"Default\", \"Default\", \"Default\", \"Default\", \"Default\", \"Default\", \"Default\", \"Default\", \"Default\", \"Default\", \"Default\", \"Default\", \"Default\", \"Default\", \"Default\", \"Default\", \"Default\", \"Default\", \"Default\", \"Default\", \"Default\", \"Default\", \"Default\", \"Default\", \"Default\", \"Default\", \"Default\", \"Default\", \"Default\", \"Default\", \"Topic1\", \"Topic1\", \"Topic1\", \"Topic1\", \"Topic1\", \"Topic1\", \"Topic1\", \"Topic1\", \"Topic1\", \"Topic1\", \"Topic1\", \"Topic1\", \"Topic1\", \"Topic1\", \"Topic1\", \"Topic1\", \"Topic1\", \"Topic1\", \"Topic1\", \"Topic1\", \"Topic1\", \"Topic1\", \"Topic1\", \"Topic1\", \"Topic1\", \"Topic1\", \"Topic1\", \"Topic1\", \"Topic1\", \"Topic1\", \"Topic1\", \"Topic2\", \"Topic2\", \"Topic2\", \"Topic2\", \"Topic2\", \"Topic2\", \"Topic2\", \"Topic2\", \"Topic2\", \"Topic2\", \"Topic2\", \"Topic2\", \"Topic2\", \"Topic2\", \"Topic2\", \"Topic2\", \"Topic2\", \"Topic2\", \"Topic2\", \"Topic2\", \"Topic2\", \"Topic2\", \"Topic2\", \"Topic2\", \"Topic2\", \"Topic2\", \"Topic2\", \"Topic2\", \"Topic2\", \"Topic2\", \"Topic2\", \"Topic3\", \"Topic3\", \"Topic3\", \"Topic3\", \"Topic3\", \"Topic3\", \"Topic3\", \"Topic3\", \"Topic3\", \"Topic3\", \"Topic3\", \"Topic3\", \"Topic3\", \"Topic3\", \"Topic3\", \"Topic3\", \"Topic3\", \"Topic3\", \"Topic3\", \"Topic3\", \"Topic3\", \"Topic3\", \"Topic3\", \"Topic3\", \"Topic3\", \"Topic3\", \"Topic3\", \"Topic3\", \"Topic3\", \"Topic3\", \"Topic3\", \"Topic4\", \"Topic4\", \"Topic4\", \"Topic4\", \"Topic4\", \"Topic4\", \"Topic4\", \"Topic4\", \"Topic4\", \"Topic4\", \"Topic4\", \"Topic4\", \"Topic4\", \"Topic4\", \"Topic4\", \"Topic4\", \"Topic4\", \"Topic4\", \"Topic4\", \"Topic4\", \"Topic4\", \"Topic4\", \"Topic4\", \"Topic4\", \"Topic4\", \"Topic4\", \"Topic4\", \"Topic4\", \"Topic4\", \"Topic4\", \"Topic5\", \"Topic5\", \"Topic5\", \"Topic5\", \"Topic5\", \"Topic5\", \"Topic5\", \"Topic5\", \"Topic5\", \"Topic5\", \"Topic5\", \"Topic5\", \"Topic5\", \"Topic5\", \"Topic5\", \"Topic5\", \"Topic5\", \"Topic5\", \"Topic5\", \"Topic5\", \"Topic5\", \"Topic5\", \"Topic5\", \"Topic5\", \"Topic5\", \"Topic5\", \"Topic5\", \"Topic5\", \"Topic5\", \"Topic5\", \"Topic5\", \"Topic6\", \"Topic6\", \"Topic6\", \"Topic6\", \"Topic6\", \"Topic6\", \"Topic6\", \"Topic6\", \"Topic6\", \"Topic6\", \"Topic6\", \"Topic6\", \"Topic6\", \"Topic6\", \"Topic6\", \"Topic6\", \"Topic6\", \"Topic6\", \"Topic6\", \"Topic6\", \"Topic6\", \"Topic6\", \"Topic6\", \"Topic6\", \"Topic6\", \"Topic6\", \"Topic6\", \"Topic6\", \"Topic6\", \"Topic6\", \"Topic7\", \"Topic7\", \"Topic7\", \"Topic7\", \"Topic7\", \"Topic7\", \"Topic7\", \"Topic7\", \"Topic7\", \"Topic7\", \"Topic7\", \"Topic7\", \"Topic7\", \"Topic7\", \"Topic7\", \"Topic7\", \"Topic7\", \"Topic7\", \"Topic7\", \"Topic7\", \"Topic7\", \"Topic7\", \"Topic7\", \"Topic7\", \"Topic7\", \"Topic7\", \"Topic7\", \"Topic7\", \"Topic7\", \"Topic7\", \"Topic8\", \"Topic8\", \"Topic8\", \"Topic8\", \"Topic8\", \"Topic8\", \"Topic8\", \"Topic8\", \"Topic8\", \"Topic8\", \"Topic8\", \"Topic8\", \"Topic8\", \"Topic8\", \"Topic8\", \"Topic8\", \"Topic8\", \"Topic8\", \"Topic8\", \"Topic8\", \"Topic8\", \"Topic8\", \"Topic8\", \"Topic8\", \"Topic8\", \"Topic8\", \"Topic8\", \"Topic8\", \"Topic8\", \"Topic8\", \"Topic8\", \"Topic9\", \"Topic9\", \"Topic9\", \"Topic9\", \"Topic9\", \"Topic9\", \"Topic9\", \"Topic9\", \"Topic9\", \"Topic9\", \"Topic9\", \"Topic9\", \"Topic9\", \"Topic9\", \"Topic9\", \"Topic9\", \"Topic9\", \"Topic9\", \"Topic9\", \"Topic9\", \"Topic9\", \"Topic9\", \"Topic9\", \"Topic9\", \"Topic9\", \"Topic9\", \"Topic9\", \"Topic9\", \"Topic9\", \"Topic9\", \"Topic10\", \"Topic10\", \"Topic10\", \"Topic10\", \"Topic10\", \"Topic10\", \"Topic10\", \"Topic10\", \"Topic10\", \"Topic10\", \"Topic10\", \"Topic10\", \"Topic10\", \"Topic10\", \"Topic10\", \"Topic10\", \"Topic10\", \"Topic10\", \"Topic10\", \"Topic10\", \"Topic10\", \"Topic10\", \"Topic10\", \"Topic10\", \"Topic10\", \"Topic10\", \"Topic10\", \"Topic10\", \"Topic10\", \"Topic10\", \"Topic10\", \"Topic11\", \"Topic11\", \"Topic11\", \"Topic11\", \"Topic11\", \"Topic11\", \"Topic11\", \"Topic11\", \"Topic11\", \"Topic11\", \"Topic11\", \"Topic11\", \"Topic11\", \"Topic11\", \"Topic11\", \"Topic11\", \"Topic11\", \"Topic11\", \"Topic11\", \"Topic11\", \"Topic11\", \"Topic11\", \"Topic11\", \"Topic11\", \"Topic11\", \"Topic11\", \"Topic11\", \"Topic11\", \"Topic11\", \"Topic11\", \"Topic12\", \"Topic12\", \"Topic12\", \"Topic12\", \"Topic12\", \"Topic12\", \"Topic12\", \"Topic12\", \"Topic12\", \"Topic12\", \"Topic12\", \"Topic12\", \"Topic12\", \"Topic12\", \"Topic12\", \"Topic12\", \"Topic12\", \"Topic12\", \"Topic12\", \"Topic12\", \"Topic12\", \"Topic12\", \"Topic12\", \"Topic12\", \"Topic12\", \"Topic12\", \"Topic12\", \"Topic12\", \"Topic12\", \"Topic12\", \"Topic12\", \"Topic13\", \"Topic13\", \"Topic13\", \"Topic13\", \"Topic13\", \"Topic13\", \"Topic13\", \"Topic13\", \"Topic13\", \"Topic13\", \"Topic13\", \"Topic13\", \"Topic13\", \"Topic13\", \"Topic13\", \"Topic13\", \"Topic13\", \"Topic13\", \"Topic13\", \"Topic13\", \"Topic13\", \"Topic13\", \"Topic13\", \"Topic13\", \"Topic13\", \"Topic13\", \"Topic13\", \"Topic13\", \"Topic13\", \"Topic13\", \"Topic13\", \"Topic13\", \"Topic14\", \"Topic14\", \"Topic14\", \"Topic14\", \"Topic14\", \"Topic14\", \"Topic14\", \"Topic14\", \"Topic14\", \"Topic14\", \"Topic14\", \"Topic14\", \"Topic14\", \"Topic14\", \"Topic14\", \"Topic14\", \"Topic14\", \"Topic14\", \"Topic14\", \"Topic14\", \"Topic14\", \"Topic14\", \"Topic14\", \"Topic14\", \"Topic14\", \"Topic14\", \"Topic14\", \"Topic14\", \"Topic14\", \"Topic14\", \"Topic15\", \"Topic15\", \"Topic15\", \"Topic15\", \"Topic15\", \"Topic15\", \"Topic15\", \"Topic15\", \"Topic15\", \"Topic15\", \"Topic15\", \"Topic15\", \"Topic15\", \"Topic15\", \"Topic15\", \"Topic15\", \"Topic15\", \"Topic15\", \"Topic15\", \"Topic15\", \"Topic15\", \"Topic15\", \"Topic15\", \"Topic15\", \"Topic15\", \"Topic15\", \"Topic15\", \"Topic15\", \"Topic15\", \"Topic15\", \"Topic16\", \"Topic16\", \"Topic16\", \"Topic16\", \"Topic16\", \"Topic16\", \"Topic16\", \"Topic16\", \"Topic16\", \"Topic16\", \"Topic16\", \"Topic16\", \"Topic16\", \"Topic16\", \"Topic16\", \"Topic16\", \"Topic16\", \"Topic16\", \"Topic16\", \"Topic16\", \"Topic16\", \"Topic16\", \"Topic16\", \"Topic16\", \"Topic16\", \"Topic16\", \"Topic16\", \"Topic16\", \"Topic16\", \"Topic16\", \"Topic17\", \"Topic17\", \"Topic17\", \"Topic17\", \"Topic17\", \"Topic17\", \"Topic17\", \"Topic17\", \"Topic17\", \"Topic17\", \"Topic17\", \"Topic17\", \"Topic17\", \"Topic17\", \"Topic17\", \"Topic17\", \"Topic17\", \"Topic17\", \"Topic17\", \"Topic17\", \"Topic17\", \"Topic17\", \"Topic17\", \"Topic17\", \"Topic17\", \"Topic17\", \"Topic17\", \"Topic17\", \"Topic17\", \"Topic17\", \"Topic17\", \"Topic17\", \"Topic18\", \"Topic18\", \"Topic18\", \"Topic18\", \"Topic18\", \"Topic18\", \"Topic18\", \"Topic18\", \"Topic18\", \"Topic18\", \"Topic18\", \"Topic18\", \"Topic18\", \"Topic18\", \"Topic18\", \"Topic18\", \"Topic18\", \"Topic18\", \"Topic18\", \"Topic18\", \"Topic18\", \"Topic18\", \"Topic18\", \"Topic18\", \"Topic18\", \"Topic18\", \"Topic18\", \"Topic18\", \"Topic18\", \"Topic18\", \"Topic18\", \"Topic19\", \"Topic19\", \"Topic19\", \"Topic19\", \"Topic19\", \"Topic19\", \"Topic19\", \"Topic19\", \"Topic19\", \"Topic19\", \"Topic19\", \"Topic19\", \"Topic19\", \"Topic19\", \"Topic19\", \"Topic19\", \"Topic19\", \"Topic19\", \"Topic19\", \"Topic19\", \"Topic19\", \"Topic19\", \"Topic19\", \"Topic19\", \"Topic19\", \"Topic19\", \"Topic19\", \"Topic19\", \"Topic19\", \"Topic19\", \"Topic20\", \"Topic20\", \"Topic20\", \"Topic20\", \"Topic20\", \"Topic20\", \"Topic20\", \"Topic20\", \"Topic20\", \"Topic20\", \"Topic20\", \"Topic20\", \"Topic20\", \"Topic20\", \"Topic20\", \"Topic20\", \"Topic20\", \"Topic20\", \"Topic20\", \"Topic20\", \"Topic20\", \"Topic20\", \"Topic20\", \"Topic20\", \"Topic20\", \"Topic20\", \"Topic20\", \"Topic20\", \"Topic20\", \"Topic20\", \"Topic20\", \"Topic20\", \"Topic20\", \"Topic21\", \"Topic21\", \"Topic21\", \"Topic21\", \"Topic21\", \"Topic21\", \"Topic21\", \"Topic21\", \"Topic21\", \"Topic21\", \"Topic21\", \"Topic21\", \"Topic21\", \"Topic21\", \"Topic21\", \"Topic21\", \"Topic21\", \"Topic21\", \"Topic21\", \"Topic21\", \"Topic21\", \"Topic21\", \"Topic21\", \"Topic21\", \"Topic21\", \"Topic21\", \"Topic21\", \"Topic21\", \"Topic21\", \"Topic21\", \"Topic21\", \"Topic22\", \"Topic22\", \"Topic22\", \"Topic22\", \"Topic22\", \"Topic22\", \"Topic22\", \"Topic22\", \"Topic22\", \"Topic22\", \"Topic22\", \"Topic22\", \"Topic22\", \"Topic22\", \"Topic22\", \"Topic22\", \"Topic22\", \"Topic22\", \"Topic22\", \"Topic22\", \"Topic22\", \"Topic22\", \"Topic22\", \"Topic22\", \"Topic22\", \"Topic22\", \"Topic22\", \"Topic22\", \"Topic22\", \"Topic22\", \"Topic22\", \"Topic23\", \"Topic23\", \"Topic23\", \"Topic23\", \"Topic23\", \"Topic23\", \"Topic23\", \"Topic23\", \"Topic23\", \"Topic23\", \"Topic23\", \"Topic23\", \"Topic23\", \"Topic23\", \"Topic23\", \"Topic23\", \"Topic23\", \"Topic23\", \"Topic23\", \"Topic23\", \"Topic23\", \"Topic23\", \"Topic23\", \"Topic23\", \"Topic23\", \"Topic23\", \"Topic23\", \"Topic23\", \"Topic23\", \"Topic23\", \"Topic24\", \"Topic24\", \"Topic24\", \"Topic24\", \"Topic24\", \"Topic24\", \"Topic24\", \"Topic24\", \"Topic24\", \"Topic24\", \"Topic24\", \"Topic24\", \"Topic24\", \"Topic24\", \"Topic24\", \"Topic24\", \"Topic24\", \"Topic24\", \"Topic24\", \"Topic24\", \"Topic24\", \"Topic24\", \"Topic24\", \"Topic24\", \"Topic24\", \"Topic24\", \"Topic24\", \"Topic24\", \"Topic24\", \"Topic24\", \"Topic25\", \"Topic25\", \"Topic25\", \"Topic25\", \"Topic25\", \"Topic25\", \"Topic25\", \"Topic25\", \"Topic25\", \"Topic25\", \"Topic25\", \"Topic25\", \"Topic25\", \"Topic25\", \"Topic25\", \"Topic25\", \"Topic25\", \"Topic25\", \"Topic25\", \"Topic25\", \"Topic25\", \"Topic25\", \"Topic25\", \"Topic25\", \"Topic25\", \"Topic25\", \"Topic25\", \"Topic25\", \"Topic25\", \"Topic25\", \"Topic25\", \"Topic26\", \"Topic26\", \"Topic26\", \"Topic26\", \"Topic26\", \"Topic26\", \"Topic26\", \"Topic26\", \"Topic26\", \"Topic26\", \"Topic26\", \"Topic26\", \"Topic26\", \"Topic26\", \"Topic26\", \"Topic26\", \"Topic26\", \"Topic26\", \"Topic26\", \"Topic26\", \"Topic26\", \"Topic26\", \"Topic26\", \"Topic26\", \"Topic26\", \"Topic26\", \"Topic26\", \"Topic26\", \"Topic26\", \"Topic26\", \"Topic26\", \"Topic26\", \"Topic27\", \"Topic27\", \"Topic27\", \"Topic27\", \"Topic27\", \"Topic27\", \"Topic27\", \"Topic27\", \"Topic27\", \"Topic27\", \"Topic27\", \"Topic27\", \"Topic27\", \"Topic27\", \"Topic27\", \"Topic27\", \"Topic27\", \"Topic27\", \"Topic27\", \"Topic27\", \"Topic27\", \"Topic27\", \"Topic27\", \"Topic27\", \"Topic27\", \"Topic27\", \"Topic27\", \"Topic27\", \"Topic27\", \"Topic27\", \"Topic28\", \"Topic28\", \"Topic28\", \"Topic28\", \"Topic28\", \"Topic28\", \"Topic28\", \"Topic28\", \"Topic28\", \"Topic28\", \"Topic28\", \"Topic28\", \"Topic28\", \"Topic28\", \"Topic28\", \"Topic28\", \"Topic28\", \"Topic28\", \"Topic28\", \"Topic28\", \"Topic28\", \"Topic28\", \"Topic28\", \"Topic28\", \"Topic28\", \"Topic28\", \"Topic28\", \"Topic28\", \"Topic28\", \"Topic28\", \"Topic28\", \"Topic28\", \"Topic29\", \"Topic29\", \"Topic29\", \"Topic29\", \"Topic29\", \"Topic29\", \"Topic29\", \"Topic29\", \"Topic29\", \"Topic29\", \"Topic29\", \"Topic29\", \"Topic29\", \"Topic29\", \"Topic29\", \"Topic29\", \"Topic29\", \"Topic29\", \"Topic29\", \"Topic29\", \"Topic29\", \"Topic29\", \"Topic29\", \"Topic29\", \"Topic29\", \"Topic29\", \"Topic29\", \"Topic29\", \"Topic29\", \"Topic29\", \"Topic29\", \"Topic30\", \"Topic30\", \"Topic30\", \"Topic30\", \"Topic30\", \"Topic30\", \"Topic30\", \"Topic30\", \"Topic30\", \"Topic30\", \"Topic30\", \"Topic30\", \"Topic30\", \"Topic30\", \"Topic30\", \"Topic30\", \"Topic30\", \"Topic30\", \"Topic30\", \"Topic30\", \"Topic30\", \"Topic30\", \"Topic30\", \"Topic30\", \"Topic30\", \"Topic30\", \"Topic30\", \"Topic30\", \"Topic30\", \"Topic30\", \"Topic30\"], \"logprob\": [30.0, 29.0, 28.0, 27.0, 26.0, 25.0, 24.0, 23.0, 22.0, 21.0, 20.0, 19.0, 18.0, 17.0, 16.0, 15.0, 14.0, 13.0, 12.0, 11.0, 10.0, 9.0, 8.0, 7.0, 6.0, 5.0, 4.0, 3.0, 2.0, 1.0, -1.8798999786376953, -2.248800039291382, -2.8010001182556152, -2.8598999977111816, -2.888400077819824, -2.8938000202178955, -3.4779000282287598, -3.4853999614715576, -3.774899959564209, -3.793600082397461, -3.816699981689453, -3.8689000606536865, -3.873800039291382, -3.9774999618530273, -4.061800003051758, -4.093900203704834, -4.159299850463867, -4.189700126647949, -4.290299892425537, -4.335400104522705, -4.477700233459473, -4.6519999504089355, -4.701000213623047, -4.75029993057251, -4.875699996948242, -4.897799968719482, -4.905300140380859, -4.933300018310547, -4.9710001945495605, -4.977799892425537, -3.1623001098632812, -1.799399971961975, -2.313199996948242, -2.319200038909912, -2.403599977493286, -3.385999917984009, -3.515199899673462, -3.622999906539917, -3.847100019454956, -3.9403998851776123, -4.01170015335083, -4.073800086975098, -4.355000019073486, -4.3815999031066895, -4.406599998474121, -4.6875, -5.224699974060059, -5.310800075531006, -5.572500228881836, -5.648200035095215, -5.67609977722168, -5.719699859619141, -5.778800010681152, -5.7957000732421875, -5.82480001449585, -5.9328999519348145, -6.079999923706055, -6.254700183868408, -7.335299968719482, -1.6749999523162842, -3.1512999534606934, -2.788300037384033, -0.832099974155426, -2.983299970626831, -3.340399980545044, -3.6377999782562256, -3.7309000492095947, -3.7358999252319336, -3.7397000789642334, -3.7811999320983887, -4.080999851226807, -4.13730001449585, -4.336100101470947, -4.524099826812744, -4.657599925994873, -4.835000038146973, -4.876299858093262, -4.894599914550781, -4.934299945831299, -4.980299949645996, -5.021399974822998, -5.024099826812744, -5.137700080871582, -5.164400100708008, -5.262400150299072, -5.293600082397461, -5.443699836730957, -5.480999946594238, -5.521599769592285, -5.564599990844727, -5.617700099945068, -5.644999980926514, -1.9490000009536743, -1.1562000513076782, -2.410599946975708, -2.750699996948242, -2.948199987411499, -3.248699903488159, -3.369499921798706, -3.47979998588562, -3.7511000633239746, -3.794600009918213, -3.8912999629974365, -4.009799957275391, -4.036499977111816, -4.1468000411987305, -4.250699996948242, -4.271999835968018, -4.3094000816345215, -4.521299839019775, -4.542399883270264, -4.60129976272583, -4.678800106048584, -4.729599952697754, -4.796199798583984, -4.8592000007629395, -4.944300174713135, -5.011000156402588, -5.034900188446045, -5.030900001525879, -5.053800106048584, -5.066500186920166, -5.118299961090088, -0.7042999863624573, -2.354300022125244, -2.869999885559082, -3.165299892425537, -3.6610000133514404, -3.93179988861084, -3.9656999111175537, -3.9872000217437744, -4.231800079345703, -4.244200229644775, -4.269999980926514, -4.369200229644775, -4.417900085449219, -4.498499870300293, -4.558700084686279, -4.610499858856201, -4.71750020980835, -4.774499893188477, -4.908299922943115, -5.168000221252441, -5.179100036621094, -5.196599960327148, -5.243599891662598, -5.307700157165527, -5.311999797821045, -5.385900020599365, -5.401000022888184, -5.4004998207092285, -5.616000175476074, -5.61929988861084, -5.13640022277832, -2.465399980545044, -2.7320001125335693, -2.7383999824523926, -2.7523999214172363, -2.8966000080108643, -3.1034998893737793, -3.1958999633789062, -3.2211999893188477, -3.3087000846862793, -3.3157999515533447, -3.400599956512451, -3.890700101852417, -3.9230000972747803, -4.011000156402588, -4.03380012512207, -4.043499946594238, -4.1234002113342285, -4.149499893188477, -4.2606000900268555, -4.290800094604492, -4.370500087738037, -4.454599857330322, -4.458899974822998, -4.531799793243408, -4.575699806213379, -4.595600128173828, -4.646599769592285, -4.660200119018555, -4.696599960327148, -4.713399887084961, -1.3581000566482544, -1.9922000169754028, -2.276700019836426, -2.6970999240875244, -2.8780999183654785, -3.090399980545044, -3.2660999298095703, -3.6124000549316406, -3.795599937438965, -3.8380000591278076, -4.1697998046875, -4.323800086975098, -4.336299896240234, -4.387400150299072, -4.419600009918213, -4.512499809265137, -4.651400089263916, -4.710700035095215, -4.79010009765625, -4.92080020904541, -5.043399810791016, -5.0619001388549805, -5.0971999168396, -5.13700008392334, -5.169600009918213, -5.1890997886657715, -5.221499919891357, -5.2230000495910645, -5.268499851226807, -5.422100067138672, -1.6812000274658203, -1.8794000148773193, -2.472899913787842, -2.8101999759674072, -3.416800022125244, -3.731800079345703, -3.738100051879883, -3.9423999786376953, -4.105000019073486, -4.143700122833252, -4.3653998374938965, -4.371300220489502, -4.38730001449585, -4.673900127410889, -4.750400066375732, -4.761000156402588, -4.79040002822876, -4.7982001304626465, -4.827499866485596, -4.9029998779296875, -4.9232001304626465, -4.9822001457214355, -5.002699851989746, -5.027500152587891, -5.079999923706055, -5.0808000564575195, -5.201600074768066, -5.259099960327148, -5.382900238037109, -5.381700038909912, -1.7249000072479248, -0.7330999970436096, -1.2651000022888184, -3.114799976348877, -3.8828001022338867, -4.252200126647949, -4.371200084686279, -4.404600143432617, -4.411099910736084, -4.473599910736084, -4.913400173187256, -5.074399948120117, -5.089700222015381, -5.389200210571289, -5.4278998374938965, -5.498600006103516, -5.500699996948242, -5.503399848937988, -5.51200008392334, -5.523399829864502, -5.737400054931641, -5.743000030517578, -5.749199867248535, -5.871799945831299, -5.8703999519348145, -5.936500072479248, -6.048600196838379, -6.239099979400635, -6.268400192260742, -6.285099983215332, -6.357800006866455, -2.295099973678589, -2.640700101852417, -2.753999948501587, -2.9430999755859375, -2.960400104522705, -2.9818999767303467, -3.3582000732421875, -3.3794000148773193, -3.423799991607666, -3.4428999423980713, -3.5204999446868896, -3.5769999027252197, -3.607100009918213, -3.6740000247955322, -3.6967999935150146, -3.8396999835968018, -3.947000026702881, -4.035299777984619, -4.133699893951416, -4.287899971008301, -4.322999954223633, -4.36299991607666, -4.395199775695801, -4.462299823760986, -4.477200031280518, -4.579800128936768, -4.623600006103516, -4.671299934387207, -4.7729997634887695, -4.825300216674805, -3.1717000007629395, -1.7233999967575073, -1.8452999591827393, -2.089400053024292, -2.106800079345703, -3.3724000453948975, -3.412899971008301, -3.5989999771118164, -3.598299980163574, -3.6022000312805176, -3.7397000789642334, -4.13070011138916, -4.292099952697754, -4.313399791717529, -4.407400131225586, -4.484300136566162, -4.641900062561035, -4.671999931335449, -4.739500045776367, -4.768499851226807, -4.769899845123291, -5.087600231170654, -5.114799976348877, -5.123499870300293, -5.166399955749512, -5.2245001792907715, -5.271299839019775, -5.2982001304626465, -5.308499813079834, -5.335000038146973, -5.359099864959717, -2.0978000164031982, -2.1491000652313232, -2.6326000690460205, -2.72979998588562, -2.789099931716919, -2.972599983215332, -3.0399999618530273, -3.0648999214172363, -3.7532999515533447, -3.760999917984009, -3.8794000148773193, -3.8910999298095703, -4.1605000495910645, -4.173799991607666, -4.245800018310547, -4.253600120544434, -4.320899963378906, -4.329500198364258, -4.39109992980957, -4.457699775695801, -4.563700199127197, -4.566699981689453, -4.594399929046631, -4.7195000648498535, -4.789299964904785, -4.821400165557861, -4.832099914550781, -4.849899768829346, -4.8734002113342285, -4.876500129699707, -3.0673999786376953, -2.3924999237060547, -2.897700071334839, -2.99429988861084, -3.0617001056671143, -3.3949999809265137, -3.5439999103546143, -3.5882999897003174, -3.8025999069213867, -3.879300117492676, -4.008699893951416, -4.071499824523926, -4.202400207519531, -4.274199962615967, -4.304900169372559, -4.326900005340576, -4.361299991607666, -4.381700038909912, -4.451200008392334, -4.486800193786621, -4.5756001472473145, -4.647500038146973, -4.6768999099731445, -4.841899871826172, -4.8592000007629395, -4.865600109100342, -4.873700141906738, -4.909599781036377, -5.011300086975098, -5.025899887084961, -5.113399982452393, -1.4214999675750732, -2.586400032043457, -1.9174000024795532, -2.3292999267578125, -2.857100009918213, -2.86899995803833, -2.957200050354004, -3.169100046157837, -3.1679999828338623, -3.1814000606536865, -3.1856000423431396, -3.654900074005127, -3.830899953842163, -3.835400104522705, -3.9518001079559326, -3.9504001140594482, -4.004799842834473, -4.0183000564575195, -4.068999767303467, -4.076900005340576, -4.188199996948242, -4.196000099182129, -4.204800128936768, -4.213200092315674, -4.224400043487549, -4.235400199890137, -4.2469000816345215, -4.288599967956543, -4.322000026702881, -4.594299793243408, -4.779399871826172, -4.8018999099731445, -0.6442999839782715, -2.9612998962402344, -3.186199903488159, -3.5037999153137207, -3.5996999740600586, -3.638000011444092, -3.689300060272217, -3.744499921798706, -3.9951000213623047, -4.111000061035156, -4.212800025939941, -4.312600135803223, -4.326900005340576, -4.359099864959717, -4.421000003814697, -4.437699794769287, -4.605100154876709, -4.6234002113342285, -4.689700126647949, -4.7179999351501465, -4.996799945831299, -5.090799808502197, -5.203499794006348, -5.324900150299072, -5.333499908447266, -5.339799880981445, -5.370100021362305, -5.410900115966797, -5.473400115966797, -5.595600128173828, -1.9958000183105469, -2.1278998851776123, -2.4175000190734863, -2.6226999759674072, -2.684299945831299, -2.81820011138916, -3.095400094985962, -3.135699987411499, -3.2502999305725098, -3.6642000675201416, -3.6928999423980713, -3.7060999870300293, -3.797499895095825, -3.8236000537872314, -3.969399929046631, -3.973299980163574, -4.091599941253662, -4.2881999015808105, -4.416100025177002, -4.638899803161621, -4.644700050354004, -4.659900188446045, -4.848599910736084, -4.868299961090088, -4.966000080108643, -5.0903000831604, -5.161300182342529, -5.216700077056885, -5.32480001449585, -5.387700080871582, -2.2492001056671143, -2.3575000762939453, -2.7125000953674316, -2.7941999435424805, -2.8587000370025635, -3.3482000827789307, -3.3592000007629395, -3.497299909591675, -3.7802000045776367, -3.838900089263916, -3.878200054168701, -3.901099920272827, -3.95770001411438, -3.979099988937378, -4.033599853515625, -4.156400203704834, -4.165999889373779, -4.293399810791016, -4.309999942779541, -4.332699775695801, -4.3678998947143555, -4.394800186157227, -4.435999870300293, -4.78879976272583, -4.86359977722168, -4.994999885559082, -5.086999893188477, -5.109600067138672, -5.220600128173828, -5.26140022277832, -2.283799886703491, -3.4921000003814697, -1.4531999826431274, -2.209399938583374, -2.3654000759124756, -2.415600061416626, -2.579900026321411, -3.024399995803833, -3.2263998985290527, -3.364300012588501, -3.5701000690460205, -3.696700096130371, -3.758500099182129, -4.065400123596191, -4.089300155639648, -4.114099979400635, -4.536300182342529, -4.622499942779541, -4.672900199890137, -4.833099842071533, -4.922299861907959, -4.929299831390381, -5.180300235748291, -5.2322001457214355, -5.234799861907959, -5.304500102996826, -5.338399887084961, -5.3942999839782715, -5.402100086212158, -5.411900043487549, -5.411900043487549, -5.4766998291015625, -4.279699802398682, -1.037600040435791, -1.3942999839782715, -2.3071000576019287, -2.7716000080108643, -3.5134999752044678, -4.219099998474121, -4.249000072479248, -4.260499954223633, -4.320099830627441, -4.355000019073486, -4.466899871826172, -5.04449987411499, -5.124499797821045, -5.171199798583984, -5.206099987030029, -5.215000152587891, -5.245200157165527, -5.274400234222412, -5.279600143432617, -5.406400203704834, -5.564000129699707, -5.59119987487793, -5.595399856567383, -5.596199989318848, -5.613500118255615, -5.650000095367432, -5.7733001708984375, -5.827300071716309, -5.832399845123291, -5.837100028991699, -1.579300045967102, -3.029900074005127, -3.0569000244140625, -3.1208999156951904, -3.2639999389648438, -3.4379000663757324, -3.611799955368042, -3.64490008354187, -3.6526999473571777, -3.686300039291382, -3.7049999237060547, -3.9728000164031982, -3.9756999015808105, -4.338600158691406, -4.59060001373291, -4.604599952697754, -4.6774001121521, -4.866000175476074, -4.963500022888184, -5.160600185394287, -5.176700115203857, -5.249899864196777, -5.479800224304199, -5.53849983215332, -5.596799850463867, -5.633399963378906, -5.642099857330322, -5.678199768066406, -5.707200050354004, -5.750800132751465, -2.520699977874756, -1.6167999505996704, -3.871799945831299, -1.656499981880188, -2.0866000652313232, -2.20169997215271, -2.765500068664551, -3.157099962234497, -3.5306999683380127, -3.7402000427246094, -3.9428000450134277, -4.0370001792907715, -4.485199928283691, -4.5106000900268555, -4.622099876403809, -4.720200061798096, -4.746600151062012, -4.764599800109863, -4.8007001876831055, -4.920300006866455, -4.928899765014648, -4.973299980163574, -5.0100998878479, -5.070199966430664, -5.1803998947143555, -5.247499942779541, -5.268099784851074, -5.281799793243408, -5.384099960327148, -5.4344000816345215, -5.579899787902832, -5.58489990234375, -5.622000217437744, -1.646299958229065, -1.2376999855041504, -2.030400037765503, -2.406100034713745, -2.4677000045776367, -2.6410000324249268, -2.9951000213623047, -3.1001999378204346, -3.1308999061584473, -3.8317999839782715, -4.182799816131592, -4.196499824523926, -4.526599884033203, -4.562099933624268, -4.569300174713135, -4.793900012969971, -5.311299800872803, -5.3165998458862305, -5.3719000816345215, -5.459199905395508, -5.460400104522705, -5.520599842071533, -5.541999816894531, -5.5903000831604, -5.6346001625061035, -5.671800136566162, -5.914400100708008, -5.9552998542785645, -6.037300109863281, -6.060200214385986, -6.0584001541137695, -4.18720006942749, -2.4521000385284424, -2.501499891281128, -2.643399953842163, -2.784899950027466, -2.8548998832702637, -2.9398000240325928, -3.1953001022338867, -3.200200080871582, -3.4328999519348145, -3.4572999477386475, -3.5297000408172607, -3.6977999210357666, -3.7439000606536865, -3.8866000175476074, -4.0278000831604, -4.0518999099731445, -4.103499889373779, -4.19920015335083, -4.2403998374938965, -4.291100025177002, -4.3231000900268555, -4.420300006866455, -4.4243998527526855, -4.609000205993652, -4.660200119018555, -4.672299861907959, -4.731599807739258, -4.757299900054932, -4.754499912261963, -4.771200180053711, -1.7015000581741333, -2.4100000858306885, -2.4809000492095947, -2.5752999782562256, -2.7077999114990234, -2.708199977874756, -3.4342000484466553, -3.4616000652313232, -3.466599941253662, -3.6057000160217285, -3.738600015640259, -3.8254001140594482, -3.973599910736084, -3.988300085067749, -4.013400077819824, -4.146200180053711, -4.18120002746582, -4.276800155639648, -4.345200061798096, -4.36299991607666, -4.364099979400635, -4.5742998123168945, -4.883600234985352, -4.950500011444092, -5.01140022277832, -5.031799793243408, -5.139599800109863, -5.171899795532227, -5.213500022888184, -5.223700046539307, -1.753999948501587, -2.5885000228881836, -2.7330000400543213, -2.75600004196167, -2.7672998905181885, -2.8027000427246094, -3.151400089263916, -3.21560001373291, -3.241300106048584, -3.352299928665161, -3.5511999130249023, -3.634399890899658, -3.835400104522705, -3.957200050354004, -4.03849983215332, -4.094799995422363, -4.151500225067139, -4.177800178527832, -4.262199878692627, -4.355000019073486, -4.435500144958496, -4.519599914550781, -4.611299991607666, -4.685400009155273, -4.807499885559082, -4.815100193023682, -4.847300052642822, -5.018799781799316, -5.21589994430542, -5.297299861907959, -3.772599935531616, -1.2271000146865845, -1.8033000230789185, -1.9129999876022339, -3.2681000232696533, -3.470400094985962, -4.35099983215332, -4.499899864196777, -4.518899917602539, -4.52869987487793, -4.590799808502197, -4.6691999435424805, -4.700500011444092, -4.7540998458862305, -4.765200138092041, -4.80709981918335, -4.856800079345703, -4.864500045776367, -4.889599800109863, -5.003799915313721, -5.012400150299072, -5.064599990844727, -5.064599990844727, -5.189799785614014, -5.269100189208984, -5.280399799346924, -5.4704999923706055, -5.486499786376953, -5.525300025939941, -5.601399898529053, -5.635300159454346, -2.367300033569336, -4.3130998611450195, -1.5841000080108643, -2.0346999168395996, -2.1340999603271484, -2.6456000804901123, -2.8620998859405518, -3.2293999195098877, -3.4449000358581543, -3.4693000316619873, -3.7623000144958496, -3.768399953842163, -3.948699951171875, -4.089300155639648, -4.147900104522705, -4.252999782562256, -4.264900207519531, -4.308499813079834, -4.397299766540527, -4.449900150299072, -4.4770002365112305, -4.5152997970581055, -4.729599952697754, -4.749000072479248, -4.7881999015808105, -4.80649995803833, -4.841599941253662, -4.8414998054504395, -4.8902997970581055, -5.066999912261963, -5.138800144195557, -5.277599811553955, -1.8694000244140625, -2.072499990463257, -2.345099925994873, -2.745800018310547, -2.9144999980926514, -3.1830999851226807, -3.4158999919891357, -3.520900011062622, -3.5673999786376953, -3.992500066757202, -3.999799966812134, -4.1178998947143555, -4.211299896240234, -4.435200214385986, -4.496799945831299, -4.51230001449585, -4.507999897003174, -4.520500183105469, -4.5543999671936035, -4.601099967956543, -4.809999942779541, -4.824100017547607, -4.838200092315674, -4.885300159454346, -4.966899871826172, -5.059100151062012, -5.072500228881836, -5.10890007019043, -5.1296000480651855, -5.2347002029418945, -3.674999952316284, -3.2416999340057373, -1.8306000232696533, -2.0267999172210693, -2.8315999507904053, -2.847899913787842, -3.203000068664551, -3.4832000732421875, -3.4923999309539795, -3.538599967956543, -3.756700038909912, -3.819000005722046, -3.876699924468994, -3.8766000270843506, -3.8889000415802, -3.9475998878479004, -4.019999980926514, -4.085100173950195, -4.08620023727417, -4.17519998550415, -4.224599838256836, -4.4456000328063965, -4.481400012969971, -4.547599792480469, -4.606900215148926, -4.6554999351501465, -4.670300006866455, -4.686500072479248, -4.809199810028076, -4.815499782562256, -4.831500053405762, -4.841300010681152, -2.840399980545044, -0.9646000266075134, -2.2467000484466553, -2.466599941253662, -2.8396999835968018, -2.9428999423980713, -3.2574000358581543, -3.545099973678589, -3.9679999351501465, -3.9879000186920166, -4.118899822235107, -4.348499774932861, -4.438799858093262, -4.669400215148926, -4.839200019836426, -5.002699851989746, -5.051599979400635, -5.121699810028076, -5.153299808502197, -5.213900089263916, -5.207600116729736, -5.213600158691406, -5.276000022888184, -5.321100234985352, -5.34660005569458, -5.362400054931641, -5.404399871826172, -5.423500061035156, -5.459799766540527, -5.681099891662598, -5.795400142669678, -3.447999954223633], \"loglift\": [30.0, 29.0, 28.0, 27.0, 26.0, 25.0, 24.0, 23.0, 22.0, 21.0, 20.0, 19.0, 18.0, 17.0, 16.0, 15.0, 14.0, 13.0, 12.0, 11.0, 10.0, 9.0, 8.0, 7.0, 6.0, 5.0, 4.0, 3.0, 2.0, 1.0, 3.608799934387207, 3.6087000370025635, 3.6085000038146973, 3.6085000038146973, 3.6085000038146973, 3.6085000038146973, 3.608099937438965, 3.608099937438965, 3.607800006866455, 3.6077001094818115, 3.6077001094818115, 3.607599973678589, 3.607599973678589, 3.6075000762939453, 3.6073999404907227, 3.607300043106079, 3.6071999073028564, 3.6071999073028564, 3.6070001125335693, 3.6068999767303467, 3.606600046157837, 3.606100082397461, 3.6059000492095947, 3.605799913406372, 3.6054000854492188, 3.605299949645996, 3.605299949645996, 3.6052000522613525, 3.6050000190734863, 3.6050000190734863, 3.3264999389648438, 3.595900058746338, 3.5957999229431152, 3.5957999229431152, 3.5957000255584717, 3.5952000617980957, 3.595099925994873, 3.5950000286102295, 3.5947999954223633, 3.594599962234497, 3.5945000648498535, 3.594399929046631, 3.593899965286255, 3.593899965286255, 3.5938000679016113, 3.593100070953369, 3.5910000801086426, 3.59060001373291, 3.588900089263916, 3.588399887084961, 3.588099956512451, 3.5878000259399414, 3.5873000621795654, 3.5871999263763428, 3.586899995803833, 3.585900068283081, 3.5843000411987305, 3.5820000171661377, 3.555299997329712, 3.303800106048584, 3.1259000301361084, 2.2885000705718994, 3.0840001106262207, 3.083699941635132, 3.0834999084472656, 3.083400011062622, 3.0833001136779785, 3.0833001136779785, 3.0833001136779785, 3.0833001136779785, 3.0829999446868896, 3.0829999446868896, 3.0827999114990234, 3.0824999809265137, 3.0822999477386475, 3.0820000171661377, 3.081899881362915, 3.0817999839782715, 3.081700086593628, 3.0815999507904053, 3.0815000534057617, 3.0815000534057617, 3.081199884414673, 3.081199884414673, 3.080899953842163, 3.0808000564575195, 3.080199956893921, 3.0801000595092773, 3.0799999237060547, 3.0797998905181885, 3.0794999599456787, 3.079400062561035, 2.9990999698638916, 3.386899948120117, 3.386699914932251, 3.3866000175476074, 3.3864998817443848, 3.386399984359741, 3.3863000869750977, 3.386199951171875, 3.385999917984009, 3.385999917984009, 3.3859000205993652, 3.3857998847961426, 3.385699987411499, 3.3856000900268555, 3.3854000568389893, 3.3854000568389893, 3.3852999210357666, 3.3849000930786133, 3.3849000930786133, 3.3847999572753906, 3.3845999240875244, 3.384500026702881, 3.3842999935150146, 3.3840999603271484, 3.3838999271392822, 3.383699893951416, 3.3835999965667725, 3.3835999965667725, 3.383500099182129, 3.383500099182129, 3.3833000659942627, 3.2883999347686768, 3.288300037384033, 3.288100004196167, 3.2880001068115234, 3.2876999378204346, 3.2874999046325684, 3.287400007247925, 3.287400007247925, 3.287100076675415, 3.287100076675415, 3.287100076675415, 3.286900043487549, 3.286799907684326, 3.2867000102996826, 3.286600112915039, 3.2864999771118164, 3.28629994392395, 3.286099910736084, 3.285799980163574, 3.2850000858306885, 3.2850000858306885, 3.284899950027466, 3.2846999168395996, 3.2844998836517334, 3.2844998836517334, 3.2841999530792236, 3.28410005569458, 3.28410005569458, 3.283099889755249, 3.2829999923706055, 0.8876000046730042, 3.6164000034332275, 3.616300106048584, 3.616300106048584, 3.616300106048584, 3.6161999702453613, 3.6161000728607178, 3.6161000728607178, 3.615999937057495, 3.615999937057495, 3.615999937057495, 3.6159000396728516, 3.6154000759124756, 3.615299940109253, 3.6152000427246094, 3.6152000427246094, 3.6152000427246094, 3.615000009536743, 3.615000009536743, 3.614799976348877, 3.6147000789642334, 3.614500045776367, 3.6143999099731445, 3.614300012588501, 3.6142001152038574, 3.614000082015991, 3.614000082015991, 3.6138999462127686, 3.613800048828125, 3.6136999130249023, 3.6136999130249023, 3.5209999084472656, 3.520900011062622, 3.5208001136779785, 3.520699977874756, 3.5206000804901123, 3.5204999446868896, 3.520400047302246, 3.5201001167297363, 3.51990008354187, 3.51990008354187, 3.519399881362915, 3.519200086593628, 3.5190999507904053, 3.5190000534057617, 3.5190000534057617, 3.5188000202178955, 3.518399953842163, 3.5183000564575195, 3.5179998874664307, 3.5176000595092773, 3.517199993133545, 3.5171000957489014, 3.516900062561035, 3.5167999267578125, 3.5165998935699463, 3.5165998935699463, 3.516400098800659, 3.516400098800659, 3.516200065612793, 3.515399932861328, 3.8203999996185303, 3.8203999996185303, 3.820199966430664, 3.819999933242798, 3.8196001052856445, 3.819200038909912, 3.819200038909912, 3.8189001083374023, 3.8185999393463135, 3.81850004196167, 3.8178999423980713, 3.8178999423980713, 3.8178999423980713, 3.816999912261963, 3.816699981689453, 3.8166000843048096, 3.816499948501587, 3.816499948501587, 3.8164000511169434, 3.815999984741211, 3.815999984741211, 3.815700054168701, 3.8155999183654785, 3.8153998851776123, 3.815200090408325, 3.815200090408325, 3.814500093460083, 3.8141000270843506, 3.8132998943328857, 3.813199996948242, 3.351900100708008, 2.285900115966797, 2.285900115966797, 2.285799980163574, 2.285599946975708, 2.285399913787842, 2.285399913787842, 2.2853000164031982, 2.2853000164031982, 2.2853000164031982, 2.284899950027466, 2.2848000526428223, 2.2848000526428223, 2.2843000888824463, 2.2843000888824463, 2.2841999530792236, 2.2841999530792236, 2.2841999530792236, 2.28410005569458, 2.28410005569458, 2.2836999893188477, 2.2836999893188477, 2.2836999893188477, 2.283400058746338, 2.283400058746338, 2.2832000255584717, 2.282900094985962, 2.2822000980377197, 2.282099962234497, 2.2820000648498535, 2.2816998958587646, 3.8965001106262207, 3.8963000774383545, 3.896199941635132, 3.8961000442504883, 3.8961000442504883, 3.8961000442504883, 3.8958001136779785, 3.895699977874756, 3.895699977874756, 3.895699977874756, 3.8956000804901123, 3.8954999446868896, 3.8954999446868896, 3.895400047302246, 3.8952999114990234, 3.8951001167297363, 3.89490008354187, 3.894700050354004, 3.8945000171661377, 3.894200086593628, 3.8940999507904053, 3.8940000534057617, 3.893899917602539, 3.8935999870300293, 3.8935999870300293, 3.8933000564575195, 3.8931000232696533, 3.892899990081787, 3.8924999237060547, 3.8922998905181885, 1.6677000522613525, 3.1707000732421875, 3.1707000732421875, 3.1707000732421875, 3.1707000732421875, 3.170300006866455, 3.170300006866455, 3.1702001094818115, 3.1702001094818115, 3.1702001094818115, 3.170099973678589, 3.1696999073028564, 3.1695001125335693, 3.1695001125335693, 3.1693999767303467, 3.169300079345703, 3.1689999103546143, 3.1689000129699707, 3.168800115585327, 3.1686999797821045, 3.1686999797821045, 3.1679999828338623, 3.1679000854492188, 3.1679000854492188, 3.1677000522613525, 3.1675000190734863, 3.1673998832702637, 3.16729998588562, 3.1672000885009766, 3.167099952697754, 3.167099952697754, 3.830399990081787, 3.830399990081787, 3.830199956893921, 3.830199956893921, 3.8301000595092773, 3.8299999237060547, 3.8299999237060547, 3.8299999237060547, 3.829200029373169, 3.829200029373169, 3.8289999961853027, 3.8289999961853027, 3.8285000324249268, 3.8285000324249268, 3.8282999992370605, 3.8282999992370605, 3.8280999660491943, 3.8280999660491943, 3.827899932861328, 3.827699899673462, 3.827399969100952, 3.827399969100952, 3.8273000717163086, 3.826900005340576, 3.8266000747680664, 3.8264999389648438, 3.8264000415802, 3.8262999057769775, 3.826200008392334, 3.826200008392334, 1.809000015258789, 3.765700101852417, 3.765500068664551, 3.765399932861328, 3.765399932861328, 3.7651000022888184, 3.765000104904175, 3.764899969100952, 3.7646000385284424, 3.7644999027252197, 3.7643001079559326, 3.76419997215271, 3.7639000415802, 3.7637999057769775, 3.763700008392334, 3.763700008392334, 3.7636001110076904, 3.7634999752044678, 3.7632999420166016, 3.763200044631958, 3.763000011444092, 3.762700080871582, 3.7625999450683594, 3.76200008392334, 3.76200008392334, 3.761899948120117, 3.761899948120117, 3.7618000507354736, 3.7613000869750977, 3.761199951171875, 3.7607998847961426, 3.4547998905181885, 2.392400026321411, 3.5808000564575195, 3.580699920654297, 3.5804998874664307, 3.5804998874664307, 3.5804998874664307, 3.5803000926971436, 3.5803000926971436, 3.5803000926971436, 3.5803000926971436, 3.579900026321411, 3.579699993133545, 3.579699993133545, 3.5796000957489014, 3.5796000957489014, 3.5794999599456787, 3.5794999599456787, 3.579400062561035, 3.579400062561035, 3.579200029373169, 3.579200029373169, 3.579200029373169, 3.579200029373169, 3.5790998935699463, 3.5790998935699463, 3.5790998935699463, 3.5789999961853027, 3.5789999961853027, 3.5782999992370605, 3.5778000354766846, 3.577699899673462, 2.7049999237060547, 2.7047998905181885, 2.7047998905181885, 2.7046000957489014, 2.7046000957489014, 2.7046000957489014, 2.7046000957489014, 2.7044999599456787, 2.704400062561035, 2.7042999267578125, 2.7042999267578125, 2.704200029373169, 2.704200029373169, 2.7040998935699463, 2.7040998935699463, 2.7040998935699463, 2.703900098800659, 2.703900098800659, 2.7037999629974365, 2.7037999629974365, 2.703399896621704, 2.703200101852417, 2.703000068664551, 2.702699899673462, 2.702699899673462, 2.702699899673462, 2.7026000022888184, 2.702500104904175, 2.702399969100952, 2.7019999027252197, 3.543800115585327, 3.543800115585327, 3.5436999797821045, 3.543600082397461, 3.543600082397461, 3.543600082397461, 3.5434000492095947, 3.5434000492095947, 3.543299913406372, 3.5429999828338623, 3.5429999828338623, 3.5429000854492188, 3.542799949645996, 3.542799949645996, 3.54259991645813, 3.54259991645813, 3.5423998832702637, 3.542099952697754, 3.5418999195098877, 3.541300058364868, 3.541300058364868, 3.541300058364868, 3.5406999588012695, 3.5406999588012695, 3.540299892425537, 3.539799928665161, 3.5394999980926514, 3.539299964904785, 3.538800001144409, 3.5383999347686768, 3.8543999195098877, 3.8543999195098877, 3.8541998863220215, 3.8541998863220215, 3.854099988937378, 3.8536999225616455, 3.8536999225616455, 3.853600025177002, 3.8531999588012695, 3.853100061416626, 3.8529999256134033, 3.8529999256134033, 3.8529000282287598, 3.8529000282287598, 3.852799892425537, 3.8524999618530273, 3.8524999618530273, 3.8522000312805176, 3.852099895477295, 3.852099895477295, 3.8519999980926514, 3.851900100708008, 3.851799964904785, 3.8505001068115234, 3.8501999378204346, 3.849600076675415, 3.849100112915039, 3.848900079727173, 3.848299980163574, 3.8480000495910645, 3.585200071334839, 1.5848000049591064, 3.7360000610351562, 3.73580002784729, 3.73580002784729, 3.7356998920440674, 3.7356998920440674, 3.7355000972747803, 3.735300064086914, 3.7351999282836914, 3.734999895095825, 3.734800100326538, 3.734800100326538, 3.734299898147583, 3.7342000007629395, 3.7342000007629395, 3.7332000732421875, 3.7328999042510986, 3.732800006866455, 3.7321999073028564, 3.731800079345703, 3.731800079345703, 3.730600118637085, 3.730299949645996, 3.7302000522613525, 3.72979998588562, 3.729599952697754, 3.729300022125244, 3.7291998863220215, 3.729099988937378, 3.729099988937378, 3.7286999225616455, 2.732100009918213, 2.8849000930786133, 2.8849000930786133, 2.8847999572753906, 2.8847999572753906, 2.884500026702881, 2.8840999603271484, 2.884000062942505, 2.884000062942505, 2.884000062942505, 2.8838999271392822, 2.8838000297546387, 2.8828999996185303, 2.882699966430664, 2.8826000690460205, 2.882499933242798, 2.882499933242798, 2.8824000358581543, 2.8824000358581543, 2.8824000358581543, 2.881999969482422, 2.881500005722046, 2.8814001083374023, 2.8814001083374023, 2.8814001083374023, 2.8812999725341797, 2.881200075149536, 2.88070011138916, 2.880500078201294, 2.880500078201294, 2.8803999423980713, 3.598900079727173, 3.598400115966797, 3.598400115966797, 3.598400115966797, 3.598299980163574, 3.598099946975708, 3.5980000495910645, 3.597899913787842, 3.597899913787842, 3.597899913787842, 3.597899913787842, 3.5975000858306885, 3.5975000858306885, 3.59689998626709, 3.596299886703491, 3.596299886703491, 3.596100091934204, 3.5954999923706055, 3.595099925994873, 3.5943000316619873, 3.5941998958587646, 3.5938000679016113, 3.5924999713897705, 3.592099905014038, 3.5917000770568848, 3.5915000438690186, 3.591399908065796, 3.591099977493286, 3.59089994430542, 3.5905001163482666, 3.5032999515533447, 3.4144999980926514, 3.1401000022888184, 3.3071000576019287, 3.306999921798706, 3.306999921798706, 3.30679988861084, 3.3066999912261963, 3.30649995803833, 3.306299924850464, 3.3060998916625977, 3.305999994277954, 3.3053998947143555, 3.305299997329712, 3.3050999641418457, 3.3048999309539795, 3.304800033569336, 3.304800033569336, 3.3046998977661133, 3.3043999671936035, 3.3043999671936035, 3.3041999340057373, 3.3041000366210938, 3.3039000034332275, 3.3036000728607178, 3.303299903869629, 3.3032000064849854, 3.3032000064849854, 3.3027000427246094, 3.302500009536743, 3.301800012588501, 3.301800012588501, 3.3015999794006348, 3.1930999755859375, 3.072700023651123, 3.0725998878479004, 3.072499990463257, 3.072499990463257, 3.072499990463257, 3.0724000930786133, 3.0724000930786133, 3.0722999572753906, 3.072000026702881, 3.0715999603271484, 3.0715999603271484, 3.071199893951416, 3.071199893951416, 3.0710999965667725, 3.0708000659942627, 3.0694000720977783, 3.0694000720977783, 3.0692999362945557, 3.0689001083374023, 3.0689001083374023, 3.068700075149536, 3.0685999393463135, 3.0683999061584473, 3.06820011138916, 3.068000078201294, 3.066800117492676, 3.066499948501587, 3.065999984741211, 3.0659000873565674, 3.0659000873565674, 2.0899999141693115, 3.8817999362945557, 3.881700038909912, 3.881700038909912, 3.8815999031066895, 3.881500005722046, 3.881500005722046, 3.8812999725341797, 3.8812999725341797, 3.8810999393463135, 3.88100004196167, 3.8808999061584473, 3.88070011138916, 3.8805999755859375, 3.8803999423980713, 3.8801000118255615, 3.8801000118255615, 3.880000114440918, 3.8798000812530518, 3.879699945449829, 3.879499912261963, 3.879499912261963, 3.879199981689453, 3.879199981689453, 3.8785998821258545, 3.8784000873565674, 3.8782999515533447, 3.8780999183654785, 3.878000020980835, 3.878000020980835, 3.8778998851776123, 3.699700117111206, 3.69950008392334, 3.69950008392334, 3.699399948120117, 3.699399948120117, 3.699399948120117, 3.698899984359741, 3.698899984359741, 3.6988000869750977, 3.698699951171875, 3.698499917984009, 3.6984000205993652, 3.698199987411499, 3.698199987411499, 3.6981000900268555, 3.6979000568389893, 3.6977999210357666, 3.6975998878479004, 3.697499990463257, 3.697499990463257, 3.6974000930786133, 3.696899890899658, 3.6958000659942627, 3.6956000328063965, 3.6953001022338867, 3.695199966430664, 3.694700002670288, 3.694499969482422, 3.6942999362945557, 3.694200038909912, 3.685699939727783, 3.685499906539917, 3.6854000091552734, 3.6854000091552734, 3.6854000091552734, 3.6854000091552734, 3.6851999759674072, 3.6851000785827637, 3.6851000785827637, 3.684999942779541, 3.684799909591675, 3.684799909591675, 3.684499979019165, 3.684299945831299, 3.6842000484466553, 3.6840999126434326, 3.684000015258789, 3.6839001178741455, 3.683799982070923, 3.6835999488830566, 3.6833999156951904, 3.683199882507324, 3.6828999519348145, 3.6826999187469482, 3.6821999549865723, 3.6821999549865723, 3.6821000576019287, 3.6814000606536865, 3.6803998947143555, 3.680000066757202, 1.1754000186920166, 3.581700086593628, 3.5815999507904053, 3.5815999507904053, 3.5810999870300293, 3.580899953842163, 3.579699993133545, 3.579400062561035, 3.5792999267578125, 3.5792999267578125, 3.5790998935699463, 3.578900098800659, 3.5787999629974365, 3.578700065612793, 3.5785999298095703, 3.5785000324249268, 3.5782999992370605, 3.5782999992370605, 3.578200101852417, 3.5778000354766846, 3.577699899673462, 3.5776000022888184, 3.577500104904175, 3.5769999027252197, 3.5766000747680664, 3.5764999389648438, 3.575500011444092, 3.5754001140594482, 3.5750999450683594, 3.5745999813079834, 3.5743000507354736, 3.2262001037597656, 2.1756999492645264, 3.5546000003814697, 3.554500102996826, 3.554500102996826, 3.5543999671936035, 3.55430006980896, 3.5541000366210938, 3.5539000034332275, 3.5539000034332275, 3.5536000728607178, 3.5536000728607178, 3.5534000396728516, 3.5532000064849854, 3.553100109100342, 3.5529000759124756, 3.5529000759124756, 3.552799940109253, 3.5525999069213867, 3.552500009536743, 3.5524001121520996, 3.5524001121520996, 3.551800012588501, 3.5517001152038574, 3.5515999794006348, 3.5515999794006348, 3.551500082015991, 3.5513999462127686, 3.551300048828125, 3.550600051879883, 3.550299882888794, 3.5497000217437744, 3.6387999057769775, 3.638700008392334, 3.638700008392334, 3.6384999752044678, 3.638400077819824, 3.6382999420166016, 3.6380999088287354, 3.638000011444092, 3.638000011444092, 3.637399911880493, 3.637399911880493, 3.637200117111206, 3.6370999813079834, 3.6366000175476074, 3.636399984359741, 3.636399984359741, 3.636399984359741, 3.636399984359741, 3.6363000869750977, 3.6361000537872314, 3.635499954223633, 3.6354000568389893, 3.6354000568389893, 3.635200023651123, 3.6349000930786133, 3.634500026702881, 3.634500026702881, 3.6342999935150146, 3.634200096130371, 3.633699893951416, 2.1940999031066895, 1.6346999406814575, 3.960900068283081, 3.9607999324798584, 3.9605000019073486, 3.9605000019073486, 3.960200071334839, 3.9598000049591064, 3.9598000049591064, 3.9598000049591064, 3.959399938583374, 3.9593000411987305, 3.959199905395508, 3.959199905395508, 3.959199905395508, 3.9591000080108643, 3.958899974822998, 3.9588000774383545, 3.9588000774383545, 3.9586000442504883, 3.9584999084472656, 3.9577999114990234, 3.95770001411438, 3.95740008354187, 3.957200050354004, 3.9570000171661377, 3.9570000171661377, 3.956899881362915, 3.9563000202178955, 3.9563000202178955, 3.956199884414673, 3.956199884414673, 2.753200054168701, 3.365499973297119, 3.3654000759124756, 3.365299940109253, 3.3652000427246094, 3.3652000427246094, 3.365000009536743, 3.364799976348877, 3.3643999099731445, 3.3643999099731445, 3.3642001152038574, 3.3638999462127686, 3.3636999130249023, 3.363300085067749, 3.362799882888794, 3.3624000549316406, 3.3622000217437744, 3.361999988555908, 3.3619000911712646, 3.361599922180176, 3.361599922180176, 3.361599922180176, 3.3613998889923096, 3.3612000942230225, 3.3610999584198, 3.3610000610351562, 3.36080002784729, 3.3606998920440674, 3.3605000972747803, 3.359299898147583, 3.3585000038146973, 1.583299994468689]}, \"token.table\": {\"Topic\": [26, 12, 5, 21, 28, 30, 25, 13, 8, 21, 3, 9, 3, 9, 16, 27, 27, 20, 16, 29, 4, 20, 15, 13, 9, 16, 12, 21, 6, 12, 12, 21, 19, 3, 23, 23, 22, 3, 3, 17, 19, 16, 10, 26, 2, 8, 17, 8, 19, 10, 4, 15, 19, 25, 6, 29, 2, 24, 24, 18, 17, 17, 28, 27, 30, 2, 3, 2, 2, 23, 18, 10, 18, 29, 12, 12, 12, 18, 3, 26, 23, 16, 10, 18, 18, 9, 17, 22, 22, 8, 22, 12, 25, 4, 5, 10, 4, 30, 16, 28, 28, 20, 9, 27, 7, 11, 9, 9, 28, 28, 22, 26, 20, 13, 14, 14, 9, 21, 8, 30, 15, 8, 3, 12, 22, 17, 8, 8, 10, 9, 10, 10, 3, 12, 19, 16, 10, 4, 4, 15, 13, 12, 13, 28, 29, 6, 21, 26, 26, 6, 15, 9, 13, 7, 7, 23, 26, 12, 15, 25, 6, 9, 3, 25, 25, 30, 12, 9, 5, 2, 23, 27, 12, 27, 20, 2, 15, 9, 21, 8, 11, 18, 13, 13, 3, 3, 18, 27, 8, 25, 25, 25, 7, 7, 24, 25, 10, 12, 12, 7, 4, 4, 4, 18, 11, 11, 14, 23, 23, 14, 16, 4, 2, 13, 21, 30, 30, 30, 5, 16, 10, 6, 14, 23, 5, 7, 16, 10, 16, 12, 2, 9, 17, 15, 19, 22, 18, 2, 15, 24, 24, 22, 17, 14, 14, 22, 22, 5, 5, 5, 18, 3, 29, 13, 14, 9, 11, 28, 26, 20, 1, 26, 26, 4, 23, 7, 7, 5, 14, 10, 15, 17, 15, 10, 10, 10, 2, 2, 6, 19, 24, 19, 21, 21, 21, 24, 2, 4, 18, 11, 6, 29, 29, 29, 17, 30, 19, 15, 19, 19, 26, 30, 6, 6, 8, 19, 24, 18, 15, 21, 7, 12, 13, 26, 11, 6, 9, 6, 7, 7, 11, 11, 22, 10, 28, 19, 25, 27, 22, 9, 28, 18, 25, 26, 4, 1, 18, 24, 1, 1, 13, 6, 23, 13, 27, 1, 20, 20, 7, 7, 20, 20, 4, 18, 18, 18, 28, 28, 26, 13, 5, 12, 2, 5, 27, 20, 10, 12, 30, 12, 27, 8, 8, 13, 14, 8, 12, 11, 7, 3, 3, 5, 13, 9, 3, 24, 5, 6, 7, 28, 28, 28, 10, 1, 18, 16, 29, 29, 1, 28, 20, 10, 21, 22, 3, 21, 5, 20, 20, 5, 5, 24, 20, 17, 3, 1, 25, 30, 24, 8, 30, 8, 2, 13, 30, 17, 17, 3, 13, 13, 26, 4, 10, 15, 5, 14, 17, 14, 28, 4, 30, 16, 22, 30, 7, 5, 24, 4, 20, 10, 20, 22, 1, 16, 15, 27, 24, 25, 6, 1, 22, 29, 26, 6, 8, 8, 3, 13, 16, 22, 29, 5, 23, 23, 4, 16, 16, 23, 6, 29, 18, 6, 17, 11, 5, 5, 4, 4, 1, 1, 2, 10, 3, 25, 20, 1, 30, 8, 22, 25, 14, 29, 9, 14, 5, 7, 25, 18, 14, 11, 14, 8, 3, 17, 2, 20, 26, 19, 4, 4, 16, 25, 18, 29, 18, 21, 5, 22, 19, 21, 25, 16, 8, 27, 27, 29, 10, 27, 29, 28, 12, 12, 12, 16, 4, 23, 19, 19, 19, 24, 9, 27, 21, 10, 8, 19, 28, 3, 23, 17, 30, 30, 30, 28, 13, 15, 28, 22, 3, 22, 22, 11, 21, 9, 21, 19, 29, 3, 8, 29, 29, 6, 30, 22, 11, 26, 20, 29, 28, 13, 6, 7, 25, 25, 7, 7, 11, 13, 1, 16, 17, 11, 10, 19, 7, 11, 21, 20, 14, 21, 26, 6, 30, 1, 1, 1, 1, 13, 1, 24, 24, 19, 26, 2, 2, 23, 28, 28, 11, 5, 8, 8, 17, 13, 22, 11, 13, 27, 11, 11, 27, 27, 16, 7, 24, 4, 24, 24, 23, 24, 18, 10, 27, 27, 24, 15, 26, 5, 18, 12, 22, 1, 3, 24, 26, 1, 28, 4, 26, 29, 29, 23, 20, 10, 23, 23, 20, 25, 25, 7, 27, 1, 28, 15, 1, 17, 17, 20, 30, 26, 12, 15, 12, 11, 29, 9, 24, 30, 13, 15, 16, 2, 30, 12, 20, 2, 24, 8, 8, 1, 4, 22, 6, 13, 16, 13, 1, 15, 8, 1, 1, 14, 27, 17, 18, 2, 26, 19, 26, 16, 11, 19, 25, 25, 25, 30, 30, 14, 6, 3, 15, 17, 13, 27, 28, 18, 19, 2, 22, 2, 2, 22, 1, 29, 26, 28, 17, 9, 9, 4, 8, 7, 25, 7, 15, 23, 6, 6, 16, 23, 23, 14, 7, 11, 27, 19, 6, 21, 22, 29, 29, 20, 6, 1, 25, 7, 20, 20, 20, 19, 23, 5, 18, 20, 18, 20, 14, 30, 30, 14, 14, 24, 19, 26, 26, 22, 16, 6, 6, 29, 14, 6, 27, 5, 23, 24, 29, 16, 26, 21, 2, 14, 1, 15, 21, 17, 15, 10, 12, 2, 5, 7, 19, 18, 24, 17, 2, 28, 10, 21, 27, 19, 7, 21, 16, 30, 2, 13, 23, 15, 3, 30, 3, 24, 17, 28, 28, 5, 8, 18, 8, 26, 23, 3, 17, 17, 25, 9, 2, 5, 27, 9, 23, 11, 25, 15, 1, 17, 9, 11, 15, 23, 9, 5, 16, 25, 20, 11, 15, 9, 28, 11, 11, 14, 22, 2, 3, 17, 17, 29, 14, 27, 14, 21, 21, 24, 21, 15, 4, 26, 9, 20, 21, 21, 27, 12, 4, 4, 10, 13, 14, 11, 29, 14], \"Freq\": [0.9759765863418579, 1.003669023513794, 1.0015654563903809, 1.0036442279815674, 0.9965375661849976, 1.0000977516174316, 1.005092978477478, 0.996186375617981, 1.0029820203781128, 0.9969912171363831, 0.998125433921814, 0.9950650930404663, 0.9971703886985779, 0.9962317943572998, 1.000645399093628, 1.000264286994934, 0.9968259930610657, 0.9988512396812439, 0.9994633197784424, 0.9989825487136841, 0.9969444870948792, 0.9984852075576782, 0.9992464780807495, 0.9977351427078247, 1.0014891624450684, 0.9998553991317749, 0.9996638894081116, 0.9939566254615784, 0.9985662698745728, 0.9990533590316772, 1.00002920627594, 1.0009915828704834, 1.0002495050430298, 0.987698495388031, 1.0000659227371216, 1.005769968032837, 1.0003111362457275, 1.0070891380310059, 0.9988658428192139, 0.9956179261207581, 0.9959550499916077, 0.9969274997711182, 1.0011067390441895, 1.0072604417800903, 0.270132452249527, 0.6260339617729187, 0.10340382158756256, 0.9862300753593445, 1.0000097751617432, 1.0014475584030151, 0.9997736215591431, 0.9984335899353027, 1.003564476966858, 0.9998090267181396, 0.9969903230667114, 0.9994384050369263, 1.02372145652771, 0.9989420175552368, 0.9962362051010132, 0.9976933598518372, 1.0001487731933594, 0.9971433281898499, 0.9920859932899475, 0.9877164959907532, 0.9820008277893066, 0.9992910623550415, 1.000861406326294, 1.0000964403152466, 0.9996301531791687, 0.9971708059310913, 0.9955251812934875, 0.9861615896224976, 0.9997650980949402, 1.0026404857635498, 0.9917724132537842, 0.9968847632408142, 1.0002456903457642, 1.0000545978546143, 0.9880852103233337, 0.9857425093650818, 1.0006439685821533, 0.9986485242843628, 1.0029538869857788, 0.9969927668571472, 1.0008442401885986, 1.0028846263885498, 0.9884702563285828, 0.999984085559845, 0.9998437762260437, 1.004465103149414, 0.9971744418144226, 0.9973971843719482, 0.9987282156944275, 0.99996417760849, 0.9952789545059204, 1.0002340078353882, 1.0001059770584106, 0.9798550605773926, 0.9894186854362488, 1.000083565711975, 0.9968339800834656, 0.9998701810836792, 1.0003256797790527, 1.0097650289535522, 0.9924142360687256, 0.9972801804542542, 0.9958318471908569, 0.9976134896278381, 0.9994522929191589, 0.9922480583190918, 0.9999798536300659, 1.0054161548614502, 0.9828614592552185, 0.9987088441848755, 0.9933196306228638, 0.9983999729156494, 0.998896062374115, 1.0081696510314941, 1.0004345178604126, 1.002855658531189, 1.0011091232299805, 0.9958817958831787, 0.9998627305030823, 0.994996190071106, 0.993581235408783, 1.0108596086502075, 0.988394021987915, 0.9884815216064453, 0.9978269934654236, 0.9998302459716797, 1.000954508781433, 0.9972574710845947, 0.999274492263794, 1.0032932758331299, 1.0009700059890747, 0.9995465278625488, 0.9929211139678955, 0.9998090267181396, 1.000205397605896, 1.0020184516906738, 1.0011682510375977, 0.13250109553337097, 0.7326917052268982, 0.1344689279794693, 0.9937653541564941, 1.0007948875427246, 0.9999222755432129, 1.0032734870910645, 0.9965618848800659, 1.00045645236969, 0.9985697269439697, 1.0044631958007812, 1.0010582208633423, 0.9997827410697937, 0.9935290217399597, 0.9926435351371765, 0.9935693144798279, 0.9920825958251953, 1.0014400482177734, 0.9993360638618469, 0.9973858594894409, 0.997886061668396, 0.9182251691818237, 0.08104059845209122, 1.0004856586456299, 1.0018157958984375, 1.0029577016830444, 0.9976250529289246, 0.9936372637748718, 1.0021322965621948, 1.0084331035614014, 0.9940530061721802, 0.997394859790802, 0.9970017671585083, 0.9934046864509583, 1.0291935205459595, 0.9991790056228638, 1.004980206489563, 0.9989168047904968, 0.9829195141792297, 0.999864935874939, 1.003659725189209, 0.9997998476028442, 0.9911161661148071, 0.9974783062934875, 0.9989022612571716, 1.0009887218475342, 0.9990596771240234, 0.985329806804657, 0.990959882736206, 0.9995359778404236, 0.9991711974143982, 0.980294406414032, 0.9938838481903076, 1.0024932622909546, 0.990961492061615, 0.9960533976554871, 1.0041753053665161, 0.999558687210083, 1.0002851486206055, 0.9947121143341064, 1.0026288032531738, 0.9955561757087708, 0.9997832775115967, 1.0009832382202148, 0.9956278800964355, 1.002241611480713, 0.9935343861579895, 0.9980831146240234, 1.001582384109497, 1.0008138418197632, 0.9928133487701416, 0.7463383674621582, 0.2528975009918213, 1.0035483837127686, 0.9993637800216675, 1.0010689496994019, 1.0070509910583496, 0.9849584698677063, 1.0055993795394897, 0.9978247880935669, 1.0006576776504517, 0.9968574047088623, 0.982215940952301, 0.9862217903137207, 1.0034205913543701, 0.9939923882484436, 0.998349666595459, 1.007863163948059, 1.0017188787460327, 0.9983048439025879, 0.9965240955352783, 0.9921787977218628, 0.9991458654403687, 1.0025746822357178, 1.0026752948760986, 0.9970908761024475, 0.9914990067481995, 0.9990397691726685, 1.0004640817642212, 1.0008643865585327, 1.003649115562439, 1.0043182373046875, 0.9972295165061951, 0.9990087747573853, 0.9943124651908875, 0.9869442582130432, 0.9962447285652161, 1.0026745796203613, 0.9952309131622314, 0.9992298483848572, 1.001714825630188, 1.000047206878662, 1.0008039474487305, 0.992267370223999, 0.9969118237495422, 0.9889649748802185, 1.0036817789077759, 0.9981871247291565, 0.9984262585639954, 0.7533441781997681, 0.24672843515872955, 1.0015709400177002, 0.994886040687561, 0.9849611520767212, 1.0018950700759888, 1.000064492225647, 0.9983572959899902, 0.9969953894615173, 0.9966304898262024, 0.9949686527252197, 1.0000814199447632, 1.0005223751068115, 1.0000813007354736, 0.9968587160110474, 0.9995327591896057, 1.002875566482544, 0.9787181615829468, 0.9989551305770874, 0.9994364380836487, 0.9978395104408264, 0.984686553478241, 0.999850332736969, 0.9978100061416626, 0.990804135799408, 0.997455358505249, 1.0037850141525269, 0.9986382126808167, 0.9799598455429077, 0.9975854158401489, 0.9980702996253967, 0.9903439879417419, 0.9945475459098816, 0.9969866871833801, 1.0023764371871948, 0.9835124611854553, 1.008318305015564, 0.9951435327529907, 0.9911344051361084, 0.9962125420570374, 0.988296389579773, 0.9984237551689148, 1.0058878660202026, 1.0006099939346313, 0.9924541711807251, 1.0013185739517212, 0.9981141090393066, 0.9705296158790588, 0.998386800289154, 1.0031014680862427, 0.9998754858970642, 0.9936031103134155, 0.995659351348877, 0.9865574240684509, 0.995540976524353, 0.9913355708122253, 1.0000147819519043, 0.9963231086730957, 0.9919263124465942, 0.9897956252098083, 1.0007606744766235, 1.0014336109161377, 0.9998167157173157, 1.0050078630447388, 0.9844647645950317, 0.998298168182373, 0.99752277135849, 0.9980905652046204, 0.9886150360107422, 0.997067928314209, 0.9914776682853699, 0.9986554980278015, 0.9983119964599609, 1.0000100135803223, 1.0001169443130493, 0.9992043375968933, 0.9990313649177551, 0.9978587031364441, 0.9982346296310425, 1.0078538656234741, 1.0024070739746094, 1.0037882328033447, 1.0005451440811157, 0.9995167255401611, 1.0010631084442139, 0.999550998210907, 0.9787297248840332, 1.0007330179214478, 0.9984366297721863, 0.9894900321960449, 0.9885932207107544, 1.002206563949585, 0.9976651668548584, 0.9996260404586792, 1.0065531730651855, 1.000223994255066, 1.0014771223068237, 1.0005983114242554, 0.9868143200874329, 1.0039699077606201, 0.9961040019989014, 0.9934775829315186, 0.9950711131095886, 0.9982750415802002, 0.996982216835022, 1.0006884336471558, 0.9949120283126831, 1.0027003288269043, 0.9958617091178894, 0.9904059171676636, 1.0006076097488403, 1.000241756439209, 0.9997875690460205, 0.9993528127670288, 1.003161072731018, 0.98484206199646, 0.9955124258995056, 1.0002641677856445, 0.9964320659637451, 0.9959193468093872, 1.0010539293289185, 1.000455379486084, 0.9887431859970093, 1.0083765983581543, 1.001599669456482, 0.9847208261489868, 0.9987236857414246, 0.995962917804718, 0.9934712052345276, 1.0017848014831543, 0.9990546703338623, 0.9992735981941223, 0.9969146251678467, 1.0035357475280762, 1.0066072940826416, 1.0030286312103271, 1.004296064376831, 1.0021413564682007, 0.9982078671455383, 1.0037044286727905, 1.0159810781478882, 1.0015937089920044, 0.9918491840362549, 0.9944415092468262, 1.000241756439209, 0.9770033359527588, 0.09093809127807617, 0.9093809127807617, 1.0020921230316162, 1.0000709295272827, 0.9961199164390564, 0.9958531856536865, 0.9986456632614136, 1.004495620727539, 1.0048216581344604, 0.9981659650802612, 1.0043245553970337, 0.9953150749206543, 1.0080671310424805, 1.00083327293396, 1.0127346515655518, 0.9933760166168213, 0.9955955743789673, 0.9826554656028748, 0.9926912784576416, 1.002813696861267, 0.9889542460441589, 0.9939771294593811, 0.994942307472229, 0.9966385364532471, 0.99969482421875, 1.0053917169570923, 1.0083303451538086, 0.9962361454963684, 0.9979944229125977, 0.9921882152557373, 0.9946978092193604, 1.0006057024002075, 1.0009793043136597, 1.000723123550415, 1.0034527778625488, 0.9874579906463623, 0.9974398612976074, 0.9870047569274902, 1.0046935081481934, 0.9970607757568359, 1.003968596458435, 0.9986974596977234, 1.0023986101150513, 0.9997593760490417, 0.9996479749679565, 0.9871950745582581, 1.0056458711624146, 0.9975214004516602, 0.9967042803764343, 0.9982454180717468, 0.9964707493782043, 0.9872603416442871, 1.000805377960205, 0.9992178082466125, 1.0114632844924927, 0.9914340972900391, 0.9906116127967834, 0.9970597624778748, 0.9988561272621155, 0.979984700679779, 0.9845104813575745, 0.985289990901947, 0.9990654587745667, 0.9968406558036804, 1.003433346748352, 0.9892148971557617, 0.987531840801239, 0.9987065196037292, 0.9929370284080505, 0.9902431964874268, 0.9975767135620117, 0.9987355470657349, 0.9986132383346558, 1.005580186843872, 0.9977501630783081, 0.9924756288528442, 0.9971924424171448, 1.000321865081787, 1.0051541328430176, 0.9973161816596985, 0.9848150610923767, 0.9888769388198853, 0.9962601065635681, 0.9952432513237, 0.9755030274391174, 1.0003572702407837, 1.0000170469284058, 0.986415684223175, 1.0012098550796509, 0.9996159076690674, 0.997453510761261, 0.998656690120697, 0.9859948754310608, 1.0007920265197754, 0.9984232187271118, 0.9958886504173279, 0.9924314618110657, 0.997013509273529, 0.9924284219741821, 0.9998282790184021, 0.9962928891181946, 0.9971499443054199, 0.9925739169120789, 0.994185745716095, 0.9936966300010681, 1.0003721714019775, 1.0021576881408691, 0.998060405254364, 0.9917331337928772, 1.0080358982086182, 0.9996260404586792, 0.9890764951705933, 0.993597686290741, 0.9994664192199707, 0.9786698818206787, 1.0001264810562134, 0.9783216118812561, 1.0000925064086914, 0.9999768137931824, 0.9999220371246338, 0.9997150897979736, 1.0096250772476196, 0.9946884512901306, 1.0001591444015503, 1.002915382385254, 0.9842944741249084, 0.9944940805435181, 1.0004585981369019, 0.9953837990760803, 0.9832556247711182, 1.0012645721435547, 1.002380132675171, 0.9926658868789673, 0.9992440342903137, 1.0001511573791504, 0.9968461394309998, 1.0022468566894531, 0.9996839165687561, 0.995532214641571, 0.9976773262023926, 1.0022773742675781, 1.0026726722717285, 0.9969983100891113, 0.9944580793380737, 0.9910385012626648, 0.9995137453079224, 0.9937599301338196, 0.9936879873275757, 1.0048701763153076, 0.9854814410209656, 0.9986637234687805, 1.0006028413772583, 0.9896200299263, 1.002409815788269, 0.9998698830604553, 1.0012390613555908, 0.99854975938797, 0.9977472424507141, 1.0006976127624512, 0.9955838322639465, 0.9941536784172058, 1.0022125244140625, 0.9979612827301025, 0.9994106292724609, 1.0001509189605713, 0.9977675080299377, 0.9761772155761719, 1.0004403591156006, 0.9970229864120483, 0.9937617182731628, 0.9992105960845947, 0.9911080598831177, 0.986078143119812, 0.9980801343917847, 0.999481201171875, 0.9946526885032654, 1.007326364517212, 1.0013351440429688, 0.9929380416870117, 0.9988026022911072, 0.9982995986938477, 0.9882267713546753, 1.0031639337539673, 1.0053118467330933, 0.999769926071167, 0.9942551851272583, 0.9917393922805786, 0.9962339997291565, 0.9981053471565247, 0.9938730597496033, 0.9995571374893188, 1.0006457567214966, 0.9959681630134583, 0.9999265670776367, 0.9939963817596436, 1.0002292394638062, 1.0002882480621338, 1.0044893026351929, 0.9954464435577393, 1.0016674995422363, 0.9968305230140686, 0.9992531538009644, 1.0002374649047852, 1.004496693611145, 0.9917193055152893, 1.0001105070114136, 0.9922067523002625, 1.0030473470687866, 0.9997664093971252, 0.999075174331665, 1.0002602338790894, 0.9900132417678833, 0.9955280423164368, 0.9957809448242188, 0.9986754059791565, 0.9992197155952454, 0.9999649524688721, 1.0011827945709229, 0.9988960027694702, 1.0028555393218994, 0.9948220252990723, 1.0049675703048706, 1.0076409578323364, 0.990670382976532, 0.9991438388824463, 1.0097547769546509, 0.9985705614089966, 1.0090919733047485, 0.9996718764305115, 0.9930332899093628, 0.9977294206619263, 0.9940075278282166, 0.9840593338012695, 0.9919428825378418, 0.9938530325889587, 1.0050201416015625, 0.9995490908622742, 1.0069026947021484, 0.9928881525993347, 1.0045877695083618, 1.0004322528839111, 1.0001591444015503, 1.0000263452529907, 0.9956479072570801, 0.9758560061454773, 0.9965672492980957, 1.0052707195281982, 1.0070146322250366, 1.002041220664978, 0.9995908737182617, 0.9916365146636963, 1.0000720024108887, 0.9799598455429077, 1.002493143081665, 0.9989987015724182, 0.9977606534957886, 1.0066978931427002, 0.9999434947967529, 0.9895451664924622, 0.9971762895584106, 1.0069570541381836, 0.9982311129570007, 0.7001511454582214, 0.2983369529247284, 1.0004644393920898, 1.0002210140228271, 0.9832711815834045, 0.9953452348709106, 1.0041195154190063, 1.000321388244629, 1.0023432970046997, 0.9906351566314697, 1.0000622272491455, 0.9993176460266113, 0.9888825416564941, 0.9889382719993591, 0.9931914806365967, 1.0000406503677368, 0.9862924218177795, 1.006070613861084, 1.0026806592941284, 0.8317664265632629, 0.16849780082702637, 0.9953169822692871, 1.0007591247558594, 0.9942120313644409, 1.008121132850647, 1.000289797782898, 0.9929443597793579, 0.9998993873596191, 0.9870427846908569, 1.0005117654800415, 0.998862087726593, 0.9999211430549622, 1.0015212297439575, 0.9921116232872009, 1.0036569833755493, 1.0011783838272095, 0.9991052746772766, 0.9958888292312622, 0.9966579675674438, 0.9981276392936707, 0.9850053191184998, 0.9997036457061768, 1.001094102859497, 1.0083566904067993, 1.0013822317123413, 0.9919530749320984, 0.9915639758110046, 0.9946784973144531, 0.9943683743476868, 0.9941261410713196, 0.9934602975845337, 0.9936409592628479, 0.9978417158126831, 0.9938655495643616, 1.0005062818527222, 0.9993398189544678, 0.981866180896759, 1.011216163635254, 0.998272716999054, 0.9972696304321289, 1.0148322582244873, 0.9900586605072021, 0.9941278100013733, 0.9911860823631287, 0.9995446801185608, 0.9942559003829956, 1.0001367330551147, 0.9994277954101562, 0.9994707703590393, 0.9992458820343018, 1.000751256942749, 0.9929581880569458, 0.9911900758743286, 0.9927899837493896, 0.9981001019477844, 0.9945451617240906, 0.9988645911216736, 1.0088709592819214, 1.0000355243682861, 0.625636637210846, 0.3753819763660431, 1.000279188156128, 1.0736385583877563, 0.9941003918647766, 1.0004631280899048, 1.0049748420715332, 0.9917523264884949, 0.9957484006881714, 0.9993011355400085, 0.9969528317451477, 0.9983008503913879, 0.9981792569160461, 0.9908483624458313, 1.0012325048446655, 0.9963728189468384, 0.9994202256202698, 0.9999210834503174, 1.0039012432098389, 1.0003753900527954, 0.9928247928619385, 0.9994826912879944, 0.9997118711471558, 0.9994978308677673, 0.9994184970855713, 0.9979314804077148, 1.0001875162124634, 0.9950138330459595, 1.0000675916671753, 0.9961605668067932, 0.9901554584503174, 0.9883725047111511, 0.9978876709938049, 1.0007798671722412, 0.9904319047927856, 0.998256266117096, 0.9929699301719666, 1.003949522972107, 0.9842624664306641, 1.0148953199386597, 0.9924261569976807, 0.969224214553833, 1.000410556793213, 0.9985167384147644, 0.999245285987854, 0.3662971258163452, 0.6326950192451477, 0.9964513778686523, 1.005311369895935, 0.9978951215744019, 0.9934167265892029, 0.9983038306236267, 0.998877227306366, 0.9964973330497742, 0.995082437992096, 1.0035964250564575, 0.9993736147880554, 1.0002576112747192, 0.9988580346107483, 1.0027517080307007, 0.9951289892196655, 0.998735249042511, 0.9996424913406372, 0.9992610812187195, 0.990407407283783, 1.0013335943222046, 0.9893420934677124, 0.9964054226875305, 1.0028125047683716, 0.9930054545402527, 1.0021417140960693, 1.0005981922149658, 0.9892362952232361, 1.0103378295898438, 1.0025012493133545, 1.003352165222168, 1.0006780624389648, 0.9997808337211609, 0.9994180202484131, 0.9990358352661133, 1.0024148225784302, 0.994860827922821, 1.0212644338607788, 0.9957072138786316, 0.9942724704742432, 0.9985541105270386, 1.0006159543991089, 0.9972078800201416, 1.0030851364135742, 0.998261034488678, 1.0055217742919922, 0.10746756941080093, 0.8919808268547058, 0.9993678331375122, 0.9941092133522034, 0.9963383078575134, 0.9980690479278564, 0.9988033175468445, 0.9879648685455322, 1.00015389919281, 0.9998466968536377, 0.9953693151473999, 1.0048255920410156, 0.997269332408905, 0.9914587736129761, 0.9942401051521301, 0.9985648393630981, 0.7628828883171082, 0.23541396856307983, 0.9996234178543091, 1.0056917667388916, 0.9991216063499451, 0.9953495860099792, 1.0029489994049072, 0.9950417876243591, 0.990229606628418, 0.9915368556976318, 0.9975871443748474, 0.999424159526825, 1.0004184246063232, 0.9998998045921326, 0.9935431480407715, 0.9956973791122437, 0.9991981983184814, 0.9993802309036255, 1.0007003545761108, 1.0007647275924683, 0.9904402494430542, 0.9953983426094055, 0.9880086183547974, 1.0002119541168213, 0.9952489137649536, 0.9959484338760376, 0.9986242651939392, 0.9918886423110962, 0.9891314506530762, 0.9959890246391296, 0.9984651207923889, 1.0014842748641968, 0.9725083708763123, 0.9973737001419067, 1.0038856267929077, 1.0006228685379028, 1.00333833694458, 0.9853879809379578, 0.9995994567871094, 0.9983022212982178, 0.9966009855270386, 1.006684422492981, 0.9998890161514282, 1.000429391860962, 1.0000929832458496, 1.0008463859558105, 0.9982134699821472, 0.992703378200531, 0.9994862079620361, 0.9973256587982178, 0.9922161102294922, 0.9994786381721497, 1.007411003112793, 1.0004407167434692, 0.9978099465370178, 0.9834368824958801, 0.9999727010726929, 0.9995741248130798, 1.0086537599563599, 1.0002983808517456, 1.000588059425354, 0.9995145797729492, 1.0019421577453613, 0.9997760057449341, 0.9993880391120911, 0.9955342411994934, 0.9925178289413452, 0.9999400973320007, 0.9990391135215759, 1.0001057386398315], \"Term\": [\"5fix\", \"acorn_squash\", \"adobo\", \"aioli\", \"alfredo\", \"almond\", \"amazing\", \"american\", \"amies\", \"amish\", \"angel\", \"angel_food\", \"angel_hair\", \"another\", \"appetizer\", \"apple\", \"apple_cider\", \"apricot\", \"artichoke\", \"arugula\", \"asiago\", \"asian\", \"asparagus\", \"aunt\", \"authentic\", \"autumn\", \"avocado\", \"awesome\", \"baby\", \"bacon\", \"bacon_wrapped\", \"bake\", \"baked\", \"ball\", \"balsamic\", \"balsamic_vinegar\", \"banana\", \"bar\", \"barbecue\", \"barbecued\", \"barley\", \"basic\", \"basil\", \"beach\", \"bean\", \"bean\", \"bean\", \"bechamel\", \"beef\", \"beef_brisket\", \"beef_stroganoff\", \"beef_tenderloin\", \"beef_tip\", \"beefy\", \"beer\", \"beet\", \"belgian\", \"bell\", \"bell_pepper\", \"berry\", \"best\", \"best_ever\", \"better\", \"better_than\", \"bill\", \"biscuit\", \"bite\", \"black\", \"black_bean\", \"black_eyed\", \"black_forest\", \"black_olive\", \"blackberry\", \"blackened\", \"bleu\", \"blue\", \"blue_cheese\", \"blueberry\", \"boiled\", \"bolognese\", \"bourbon\", \"bowl\", \"braised\", \"bran\", \"bran_muffin\", \"brandied\", \"brazilian\", \"bread\", \"bread_machine\", \"breadcrumb\", \"breaded\", \"breadstick\", \"breakfast\", \"breast\", \"brie\", \"brisket\", \"broccoli\", \"broccoli_rabe\", \"broiled\", \"brown\", \"brown_rice\", \"brown_sugar\", \"brownie\", \"brussels_sprout\", \"buckwheat\", \"buffalo\", \"bundt\", \"bundt_cake\", \"burger\", \"burrito\", \"butter\", \"butter_pickle\", \"buttered\", \"buttermilk\", \"butternut\", \"butternut_squash\", \"butterscotch\", \"buttery\", \"cabbage\", \"cacciatore\", \"caesar\", \"cajun\", \"cake\", \"california\", \"calorie\", \"candied\", \"cannellini\", \"cannellini_bean\", \"caper\", \"caramel\", \"caramelized\", \"caramelized_onion\", \"carb\", \"caribbean\", \"carne\", \"carrot\", \"cashew\", \"casserole\", \"cauliflower\", \"celery\", \"cheddar\", \"cheese\", \"cheese\", \"cheese\", \"cheeseburger\", \"cheesecake\", \"cheesy\", \"chef\", \"chef_john\", \"cherry\", \"chickpea\", \"chiffon\", \"chile\", \"chili\", \"chili_carne\", \"chilled\", \"chilli\", \"chimichurri\", \"chinese\", \"chip\", \"chipotle\", \"chive\", \"chocolate\", \"chocolate\", \"chocolate_chip\", \"chop\", \"chopped\", \"chorizo\", \"christmas\", \"chunky\", \"chutney\", \"cider\", \"cilantro\", \"cinnamon\", \"cinnamon_raisin\", \"cinnamon_swirl\", \"citrus\", \"clam\", \"classic\", \"club\", \"cocktail\", \"cocoa\", \"coconut\", \"coconut_milk\", \"coffee\", \"coffee_cake\", \"cola\", \"cold\", \"coleslaw\", \"cooked\", \"cooker\", \"cookie\", \"cooking\", \"cooking_light\", \"cooky\", \"cool\", \"copycat\", \"cordon\", \"cordon_bleu\", \"corn\", \"cornbread\", \"corned\", \"corned_beef\", \"cornmeal\", \"cottage\", \"cottage_cheese\", \"country\", \"couscous\", \"crab\", \"cracker\", \"cranberry\", \"crawfish\", \"cream\", \"cream\", \"creamed\", \"creamy\", \"creme\", \"creme_fraiche\", \"creole\", \"crisp\", \"crispy\", \"crock\", \"crockpot\", \"croissant\", \"croquette\", \"crostini\", \"crouton\", \"crumb\", \"crunch\", \"crunchy\", \"crust\", \"crusted\", \"cuban\", \"cucumber\", \"cumin\", \"cup\", \"cupcake\", \"currant\", \"curried\", \"curry\", \"custard\", \"cutlet\", \"daikon_radish\", \"dairy\", \"dairy_free\", \"dark\", \"dark_chocolate\", \"date\", \"deep\", \"deep_dish\", \"deep_fried\", \"delicious\", \"delight\", \"deluxe\", \"dessert\", \"devil_food\", \"diabetic\", \"diane\", \"diet\", \"dijon\", \"dill\", \"dill\", \"dill_pickle\", \"dinner\", \"dipped\", \"dipping\", \"dipping_sauce\", \"dish\", \"double\", \"dough\", \"doughnut\", \"down\", \"dressing\", \"dried\", \"dried_cherry\", \"dried_tomato\", \"drop\", \"drumstick\", \"dumpling\", \"dutch\", \"easiest\", \"easter\", \"easy\", \"easy_peasy\", \"egg\", \"eggless\", \"eggnog\", \"eggplant\", \"elanaspantry\", \"emeril\", \"enchilada\", \"endive\", \"english\", \"english_muffin\", \"ever\", \"fagioli\", \"fail\", \"fajitas\", \"family\", \"family_favorite\", \"famous\", \"farfalle\", \"farmer_market\", \"fashioned\", \"fava_bean\", \"favorite\", \"fennel\", \"festive\", \"feta\", \"fettuccine\", \"fiesta\", \"filet_mignon\", \"filled\", \"fillet\", \"filling\", \"finger\", \"fish\", \"fish_taco\", \"five\", \"five_spice\", \"flank\", \"flank_steak\", \"flat\", \"flavored\", \"flax\", \"florentine\", \"flour\", \"fluffy\", \"fondue\", \"food\", \"four\", \"free\", \"french\", \"french_onion\", \"french_toast\", \"fresh\", \"fried\", \"frito\", \"from\", \"from_scratch\", \"frosting\", \"frozen\", \"fruit\", \"fudge\", \"garden\", \"garlic\", \"georgia\", \"german\", \"ginger\", \"gingerbread\", \"gingered\", \"glaze\", \"glazed\", \"gluten\", \"gluten_dairy\", \"gluten_free\", \"goat\", \"goat_cheese\", \"gold\", \"golden\", \"good\", \"gorgonzola\", \"goulash\", \"gourmet\", \"grain\", \"grandma\", \"grape\", \"grapefruit\", \"gravy\", \"great\", \"greek\", \"green\", \"green_bean\", \"green_chile\", \"green_chilies\", \"green_papaya\", \"grill\", \"grilled\", \"grit\", \"ground\", \"ground_beef\", \"guacamole\", \"guinness\", \"habanero\", \"hair\", \"halibut\", \"hamburger\", \"hand_pie\", \"harvest\", \"hash\", \"hash_brown\", \"hazelnut\", \"healthy\", \"heart\", \"heart_healthy\", \"hearty\", \"heirloom\", \"heirloom_tomato\", \"herb\", \"herbed\", \"hoisin\", \"holiday\", \"hollandaise\", \"home\", \"homemade\", \"homestyle\", \"honey\", \"honey\", \"honey_dijon\", \"honey_mustard\", \"horseradish\", \"house\", \"hummus\", \"hungarian\", \"icing\", \"indian\", \"indian_spiced\", \"irish\", \"island\", \"italian\", \"italian_sausage\", \"italian_wedding\", \"jalapeno\", \"jamaican\", \"jambalaya\", \"japanese\", \"japanese_style\", \"jello\", \"jelly\", \"jerk\", \"john\", \"juicy\", \"julie\", \"just\", \"kabob\", \"kabocha_squash\", \"kahlua\", \"kale\", \"kickin\", \"king\", \"korean\", \"kraft\", \"lamb\", \"lamb_chop\", \"lasagna\", \"layer\", \"layered\", \"leek\", \"leftover\", \"leg\", \"lemon\", \"lemon_meringue\", \"lemony\", \"lentil\", \"lettuce\", \"lettuce_wrap\", \"light\", \"like\", \"lime\", \"linguine\", \"liqueur\", \"liver\", \"loaded\", \"loaf\", \"lobster\", \"lover\", \"lower\", \"macadamia\", \"macaroni\", \"machine\", \"made\", \"magic\", \"make\", \"make_ahead\", \"mama\", \"mandarin\", \"mandarin_orange\", \"mango\", \"maple\", \"maple_syrup\", \"marbled\", \"margarita\", \"marinade\", \"marinated\", \"marsala\", \"marshmallow\", \"martha\", \"martha_stewart\", \"mashed\", \"mashed_potato\", \"matcha\", \"mayo\", \"mayonnaise\", \"meal\", \"meat\", \"meatball\", \"mediterranean\", \"melon\", \"meringue\", \"mexican\", \"microwave\", \"middle_eastern\", \"mike\", \"milk\", \"minestrone\", \"mini\", \"mint\", \"minute\", \"miso\", \"mississippi\", \"mixed\", \"mixed_green\", \"mocha\", \"moist\", \"molasses\", \"mole\", \"mom\", \"momma\", \"monkey\", \"monkey_bread\", \"more\", \"moroccan\", \"mousse\", \"mozzarella\", \"muffin\", \"mushroom\", \"mustard\", \"nana\", \"never_fail\", \"noodle\", \"nut\", \"nutty\", \"oamc\", \"oatmeal\", \"octopus\", \"okra\", \"olive\", \"olive_garden\", \"omelette\", \"onion\", \"open\", \"open_face\", \"open_faced\", \"orange\", \"original\", \"orzo\", \"oven\", \"oven_baked\", \"oven_fried\", \"over\", \"oyster\", \"pancake\", \"pancetta\", \"panko_crusted\", \"papaya\", \"paprika\", \"parmesan\", \"parsley\", \"parsnip\", \"party\", \"pasta\", \"pasta_fagioli\", \"pasta_toss\", \"paste\", \"pastry\", \"patty\", \"paula_deen\", \"pea\", \"peach\", \"peanut\", \"peanut_butter\", \"pear\", \"peasy\", \"pecan\", \"penne\", \"pennsylvania_dutch\", \"pepper\", \"peppercorn\", \"peppered\", \"pepperoni\", \"pepperoni_pizza\", \"perfect\", \"persian\", \"pesto\", \"philly\", \"pickle\", \"pickled\", \"pickled_beet\", \"pickled_onion\", \"picnic\", \"pie\", \"pierogies\", \"pine\", \"pine_nut\", \"pineapple\", \"pineapple_upside\", \"pink\", \"pinwheel\", \"pistachio\", \"pita\", \"pita_chip\", \"pizza\", \"pizza_dough\", \"pizzaiola\", \"plum\", \"poached\", \"poached_egg\", \"poached_salmon\", \"point\", \"polenta\", \"polish\", \"pollo\", \"pomegranate\", \"poppy\", \"poppy_seed\", \"pork\", \"pork_chop\", \"pork_tenderloin\", \"port\", \"portobello\", \"portobello_mushroom\", \"portuguese\", \"potato\", \"pound\", \"pound_cake\", \"prawn\", \"pressure\", \"pressure_cooker\", \"primavera\", \"prime\", \"prosciutto\", \"prosciutto_wrapped\", \"provolone\", \"prune\", \"pudding\", \"puff\", \"puff_pastry\", \"puffy\", \"pull\", \"pull_apart\", \"pulled\", \"pulled_pork\", \"pumpkin\", \"pumpkin_spice\", \"purpose\", \"quesadilla\", \"quick\", \"quick_easy\", \"quinoa\", \"ragu\", \"rainbow\", \"raisin\", \"ramen\", \"ramen_noodle\", \"ranch\", \"raspberry\", \"really\", \"recipe\", \"recipe_elanaspantry\", \"relish\", \"rhubarb\", \"rib\", \"ribbon\", \"rice\", \"rich\", \"ricotta\", \"ring\", \"roast\", \"roasted\", \"roasted\", \"roasted_pepper\", \"roll\", \"rolled\", \"romaine\", \"root\", \"root_vegetable\", \"rosemary\", \"round\", \"round_steak\", \"rubbed\", \"rustic\", \"saffron\", \"sage\", \"salad\", \"salata\", \"salisbury\", \"salisbury_steak\", \"salmon\", \"salmon\", \"salmon_fillet\", \"salsa\", \"salsa_verde\", \"salted\", \"sandwich\", \"satay\", \"sauce\", \"sauerkraut\", \"sausage\", \"saute\", \"sauteed\", \"savory\", \"savoury\", \"scallion\", \"scallop\", \"scaloppine\", \"scone\", \"seafood\", \"seared\", \"seared_scallop\", \"seed\", \"sesame\", \"shake\", \"shallot\", \"shaved\", \"sheet\", \"shell\", \"shepherd\", \"sherry\", \"shiitake_mushroom\", \"short\", \"short_rib\", \"shredded\", \"shrimp\", \"simple\", \"simply\", \"sirloin\", \"skewer\", \"skillet\", \"skin\", \"skinny\", \"skirt_steak\", \"slaw\", \"slow\", \"slow_cooked\", \"slow_cooker\", \"smoked\", \"smoked_salmon\", \"smoky\", \"smoothie\", \"snack\", \"soba_noodle\", \"soda_bread\", \"soft\", \"soft_taco\", \"sorbet\", \"souffle\", \"soup\", \"sour\", \"sour\", \"sour_cream\", \"sour_cream_coffee_cake\", \"sourdough\", \"south\", \"south_african\", \"south_beach\", \"southern\", \"southwest\", \"southwestern\", \"spaghetti\", \"spanish\", \"special\", \"spice\", \"spiced\", \"spicy\", \"spinach\", \"split\", \"sponge\", \"sponge_cake\", \"spread\", \"spring\", \"spring_roll\", \"squash\", \"squid\", \"steak\", \"steamed\", \"stew\", \"stewed\", \"stick\", \"sticky\", \"stir\", \"stir_fried\", \"stock\", \"strawberry\", \"strawberry_rhubarb\", \"streusel\", \"streusel_topping\", \"string\", \"strip\", \"strip_steak\", \"stuffed\", \"stuffing\", \"style\", \"sugar\", \"sugar\", \"sugar_free\", \"sugar_snap\", \"summer\", \"sunday\", \"sunshine\", \"super\", \"super_easy\", \"supreme\", \"surprise\", \"sweet\", \"sweet_potato\", \"sweet_sour\", \"swirl\", \"swiss\", \"swiss_chard\", \"syrup\", \"taco\", \"tagine\", \"tahini\", \"tamale\", \"tandoori\", \"tangy\", \"tapioca_pudding\", \"tarragon\", \"tart\", \"tartar\", \"tartare\", \"tasty\", \"tender\", \"tenderloin\", \"teriyaki\", \"texas\", \"thai\", \"thick\", \"thigh\", \"thin\", \"three\", \"thyme\", \"tip\", \"toasted\", \"todd_wilbur\", \"toffee\", \"tofu\", \"tomatillo\", \"tomato\", \"tomato\", \"tomato_basil\", \"topped\", \"topping\", \"tortellini\", \"tortilla\", \"toss\", \"tossed\", \"traditional\", \"triple\", \"tropical\", \"tropical_fruit\", \"trout\", \"truffle\", \"tuna\", \"turkey\", \"turkey\", \"turkey_burger\", \"turkish\", \"turnip\", \"turtle\", \"tuscan\", \"udon\", \"udon_noodle\", \"ultimate\", \"upside\", \"upside_down\", \"using\", \"vanilla\", \"vanilla_bean\", \"veal\", \"vegan\", \"vegetable\", \"vegetarian\", \"veggie\", \"velvet\", \"verde\", \"version\", \"very\", \"vickys\", \"vietnamese\", \"vinaigrette\", \"vinegar\", \"vodka\", \"waldorf\", \"walnut\", \"warm\", \"wasabi\", \"watcher\", \"watermelon\", \"wedding\", \"wedge\", \"weight\", \"weight_watcher\", \"wheat\", \"wheat_germ\", \"whipped_cream\", \"whiskey\", \"white\", \"white_bean\", \"white_wine\", \"whole\", \"whole_grain\", \"whole_wheat\", \"wild\", \"wild_mushroom\", \"wild_rice\", \"wilted_spinach\", \"wine\", \"wing\", \"winter\", \"with\", \"wonton\", \"world\", \"world_best\", \"wrap\", \"wrapped\", \"yellow\", \"yellow_squash\", \"yogurt\", \"yorkshire_pudding\", \"your\", \"yummy\", \"zesty\", \"zucchini\"]}, \"R\": 30, \"lambda.step\": 0.01, \"plot.opts\": {\"xlab\": \"PC1\", \"ylab\": \"PC2\"}, \"topic.order\": [1, 2, 3, 4, 5, 6, 7, 8, 9, 10, 11, 12, 13, 14, 15, 16, 17, 18, 19, 20, 21, 22, 23, 24, 25, 26, 27, 28, 29, 30]};\n",
              "\n",
              "function LDAvis_load_lib(url, callback){\n",
              "  var s = document.createElement('script');\n",
              "  s.src = url;\n",
              "  s.async = true;\n",
              "  s.onreadystatechange = s.onload = callback;\n",
              "  s.onerror = function(){console.warn(\"failed to load library \" + url);};\n",
              "  document.getElementsByTagName(\"head\")[0].appendChild(s);\n",
              "}\n",
              "\n",
              "if(typeof(LDAvis) !== \"undefined\"){\n",
              "   // already loaded: just create the visualization\n",
              "   !function(LDAvis){\n",
              "       new LDAvis(\"#\" + \"ldavis_el1201398474225938081195406492\", ldavis_el1201398474225938081195406492_data);\n",
              "   }(LDAvis);\n",
              "}else if(typeof define === \"function\" && define.amd){\n",
              "   // require.js is available: use it to load d3/LDAvis\n",
              "   require.config({paths: {d3: \"https://cdnjs.cloudflare.com/ajax/libs/d3/3.5.5/d3.min\"}});\n",
              "   require([\"d3\"], function(d3){\n",
              "      window.d3 = d3;\n",
              "      LDAvis_load_lib(\"https://cdn.rawgit.com/bmabey/pyLDAvis/files/ldavis.v1.0.0.js\", function(){\n",
              "        new LDAvis(\"#\" + \"ldavis_el1201398474225938081195406492\", ldavis_el1201398474225938081195406492_data);\n",
              "      });\n",
              "    });\n",
              "}else{\n",
              "    // require.js not available: dynamically load d3 & LDAvis\n",
              "    LDAvis_load_lib(\"https://cdnjs.cloudflare.com/ajax/libs/d3/3.5.5/d3.min.js\", function(){\n",
              "         LDAvis_load_lib(\"https://cdn.rawgit.com/bmabey/pyLDAvis/files/ldavis.v1.0.0.js\", function(){\n",
              "                 new LDAvis(\"#\" + \"ldavis_el1201398474225938081195406492\", ldavis_el1201398474225938081195406492_data);\n",
              "            })\n",
              "         });\n",
              "}\n",
              "</script>"
            ],
            "text/plain": [
              "<IPython.core.display.HTML object>"
            ]
          },
          "metadata": {
            "tags": []
          },
          "execution_count": 55
        }
      ]
    }
  ]
}