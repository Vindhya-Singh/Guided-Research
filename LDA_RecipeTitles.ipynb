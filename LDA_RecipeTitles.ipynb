{
  "nbformat": 4,
  "nbformat_minor": 0,
  "metadata": {
    "colab": {
      "name": "Copy of DataLoader.ipynb",
      "provenance": [],
      "collapsed_sections": [],
      "toc_visible": true,
      "include_colab_link": true
    },
    "kernelspec": {
      "name": "python3",
      "display_name": "Python 3"
    }
  },
  "cells": [
    {
      "cell_type": "markdown",
      "metadata": {
        "id": "view-in-github",
        "colab_type": "text"
      },
      "source": [
        "<a href=\"https://colab.research.google.com/github/VindhyaSRajan/Guided-Research/blob/master/LDA_RecipeTitles.ipynb\" target=\"_parent\"><img src=\"https://colab.research.google.com/assets/colab-badge.svg\" alt=\"Open In Colab\"/></a>"
      ]
    },
    {
      "cell_type": "code",
      "metadata": {
        "id": "39w3hAklvY7z",
        "colab_type": "code",
        "colab": {}
      },
      "source": [
        "from google.colab import drive\n",
        "drive.mount('/content/drive')"
      ],
      "execution_count": 0,
      "outputs": []
    },
    {
      "cell_type": "code",
      "metadata": {
        "id": "tGaDydgSwAsM",
        "colab_type": "code",
        "colab": {
          "base_uri": "https://localhost:8080/",
          "height": 877
        },
        "outputId": "f9231c14-f874-42b9-dbd2-36182139dd3c"
      },
      "source": [
        "!pip install gensim\n",
        "!pip install warnings\n",
        "!pip install pyLDAvis"
      ],
      "execution_count": 2,
      "outputs": [
        {
          "output_type": "stream",
          "text": [
            "Requirement already satisfied: gensim in /usr/local/lib/python3.6/dist-packages (3.6.0)\n",
            "Requirement already satisfied: six>=1.5.0 in /usr/local/lib/python3.6/dist-packages (from gensim) (1.12.0)\n",
            "Requirement already satisfied: numpy>=1.11.3 in /usr/local/lib/python3.6/dist-packages (from gensim) (1.17.4)\n",
            "Requirement already satisfied: smart-open>=1.2.1 in /usr/local/lib/python3.6/dist-packages (from gensim) (1.9.0)\n",
            "Requirement already satisfied: scipy>=0.18.1 in /usr/local/lib/python3.6/dist-packages (from gensim) (1.3.2)\n",
            "Requirement already satisfied: requests in /usr/local/lib/python3.6/dist-packages (from smart-open>=1.2.1->gensim) (2.21.0)\n",
            "Requirement already satisfied: boto>=2.32 in /usr/local/lib/python3.6/dist-packages (from smart-open>=1.2.1->gensim) (2.49.0)\n",
            "Requirement already satisfied: boto3 in /usr/local/lib/python3.6/dist-packages (from smart-open>=1.2.1->gensim) (1.10.18)\n",
            "Requirement already satisfied: certifi>=2017.4.17 in /usr/local/lib/python3.6/dist-packages (from requests->smart-open>=1.2.1->gensim) (2019.9.11)\n",
            "Requirement already satisfied: urllib3<1.25,>=1.21.1 in /usr/local/lib/python3.6/dist-packages (from requests->smart-open>=1.2.1->gensim) (1.24.3)\n",
            "Requirement already satisfied: chardet<3.1.0,>=3.0.2 in /usr/local/lib/python3.6/dist-packages (from requests->smart-open>=1.2.1->gensim) (3.0.4)\n",
            "Requirement already satisfied: idna<2.9,>=2.5 in /usr/local/lib/python3.6/dist-packages (from requests->smart-open>=1.2.1->gensim) (2.8)\n",
            "Requirement already satisfied: s3transfer<0.3.0,>=0.2.0 in /usr/local/lib/python3.6/dist-packages (from boto3->smart-open>=1.2.1->gensim) (0.2.1)\n",
            "Requirement already satisfied: botocore<1.14.0,>=1.13.18 in /usr/local/lib/python3.6/dist-packages (from boto3->smart-open>=1.2.1->gensim) (1.13.18)\n",
            "Requirement already satisfied: jmespath<1.0.0,>=0.7.1 in /usr/local/lib/python3.6/dist-packages (from boto3->smart-open>=1.2.1->gensim) (0.9.4)\n",
            "Requirement already satisfied: docutils<0.16,>=0.10 in /usr/local/lib/python3.6/dist-packages (from botocore<1.14.0,>=1.13.18->boto3->smart-open>=1.2.1->gensim) (0.15.2)\n",
            "Requirement already satisfied: python-dateutil<2.8.1,>=2.1; python_version >= \"2.7\" in /usr/local/lib/python3.6/dist-packages (from botocore<1.14.0,>=1.13.18->boto3->smart-open>=1.2.1->gensim) (2.6.1)\n",
            "\u001b[31mERROR: Could not find a version that satisfies the requirement warnings (from versions: none)\u001b[0m\n",
            "\u001b[31mERROR: No matching distribution found for warnings\u001b[0m\n",
            "Collecting pyLDAvis\n",
            "\u001b[?25l  Downloading https://files.pythonhosted.org/packages/a5/3a/af82e070a8a96e13217c8f362f9a73e82d61ac8fff3a2561946a97f96266/pyLDAvis-2.1.2.tar.gz (1.6MB)\n",
            "\u001b[K     |████████████████████████████████| 1.6MB 2.8MB/s \n",
            "\u001b[?25hRequirement already satisfied: wheel>=0.23.0 in /usr/local/lib/python3.6/dist-packages (from pyLDAvis) (0.33.6)\n",
            "Requirement already satisfied: numpy>=1.9.2 in /usr/local/lib/python3.6/dist-packages (from pyLDAvis) (1.17.4)\n",
            "Requirement already satisfied: scipy>=0.18.0 in /usr/local/lib/python3.6/dist-packages (from pyLDAvis) (1.3.2)\n",
            "Requirement already satisfied: pandas>=0.17.0 in /usr/local/lib/python3.6/dist-packages (from pyLDAvis) (0.25.3)\n",
            "Requirement already satisfied: joblib>=0.8.4 in /usr/local/lib/python3.6/dist-packages (from pyLDAvis) (0.14.0)\n",
            "Requirement already satisfied: jinja2>=2.7.2 in /usr/local/lib/python3.6/dist-packages (from pyLDAvis) (2.10.3)\n",
            "Requirement already satisfied: numexpr in /usr/local/lib/python3.6/dist-packages (from pyLDAvis) (2.7.0)\n",
            "Requirement already satisfied: pytest in /usr/local/lib/python3.6/dist-packages (from pyLDAvis) (3.6.4)\n",
            "Requirement already satisfied: future in /usr/local/lib/python3.6/dist-packages (from pyLDAvis) (0.16.0)\n",
            "Collecting funcy\n",
            "  Downloading https://files.pythonhosted.org/packages/eb/3a/fc8323f913e8a9c6f33f7203547f8a2171223da5ed965f2541dafb10aa09/funcy-1.13-py2.py3-none-any.whl\n",
            "Requirement already satisfied: pytz>=2017.2 in /usr/local/lib/python3.6/dist-packages (from pandas>=0.17.0->pyLDAvis) (2018.9)\n",
            "Requirement already satisfied: python-dateutil>=2.6.1 in /usr/local/lib/python3.6/dist-packages (from pandas>=0.17.0->pyLDAvis) (2.6.1)\n",
            "Requirement already satisfied: MarkupSafe>=0.23 in /usr/local/lib/python3.6/dist-packages (from jinja2>=2.7.2->pyLDAvis) (1.1.1)\n",
            "Requirement already satisfied: setuptools in /usr/local/lib/python3.6/dist-packages (from pytest->pyLDAvis) (41.6.0)\n",
            "Requirement already satisfied: six>=1.10.0 in /usr/local/lib/python3.6/dist-packages (from pytest->pyLDAvis) (1.12.0)\n",
            "Requirement already satisfied: atomicwrites>=1.0 in /usr/local/lib/python3.6/dist-packages (from pytest->pyLDAvis) (1.3.0)\n",
            "Requirement already satisfied: more-itertools>=4.0.0 in /usr/local/lib/python3.6/dist-packages (from pytest->pyLDAvis) (7.2.0)\n",
            "Requirement already satisfied: pluggy<0.8,>=0.5 in /usr/local/lib/python3.6/dist-packages (from pytest->pyLDAvis) (0.7.1)\n",
            "Requirement already satisfied: attrs>=17.4.0 in /usr/local/lib/python3.6/dist-packages (from pytest->pyLDAvis) (19.3.0)\n",
            "Requirement already satisfied: py>=1.5.0 in /usr/local/lib/python3.6/dist-packages (from pytest->pyLDAvis) (1.8.0)\n",
            "Building wheels for collected packages: pyLDAvis\n",
            "  Building wheel for pyLDAvis (setup.py) ... \u001b[?25l\u001b[?25hdone\n",
            "  Created wheel for pyLDAvis: filename=pyLDAvis-2.1.2-py2.py3-none-any.whl size=97711 sha256=6b4a244094b4ec6aceb2bd861e234e5cdfd4bd5700b7864727e76e4b0d8002be\n",
            "  Stored in directory: /root/.cache/pip/wheels/98/71/24/513a99e58bb6b8465bae4d2d5e9dba8f0bef8179e3051ac414\n",
            "Successfully built pyLDAvis\n",
            "Installing collected packages: funcy, pyLDAvis\n",
            "Successfully installed funcy-1.13 pyLDAvis-2.1.2\n"
          ],
          "name": "stdout"
        }
      ]
    },
    {
      "cell_type": "code",
      "metadata": {
        "id": "xC2GbSyXvmZv",
        "colab_type": "code",
        "outputId": "bf9c5b93-d9d8-4ce5-9aa6-e0b4fd87fa82",
        "colab": {
          "base_uri": "https://localhost:8080/",
          "height": 121
        }
      },
      "source": [
        "import pandas as pd\n",
        "import logging\n",
        "import pyLDAvis.gensim\n",
        "import json\n",
        "import warnings\n",
        "warnings.filterwarnings('ignore')  # To ignore all warnings that arise here to enhance clarity\n",
        "\n",
        "from gensim.models.coherencemodel import CoherenceModel\n",
        "from gensim.models.ldamodel import LdaModel\n",
        "from gensim.corpora.dictionary import Dictionary\n",
        "from numpy import array\n",
        "import nltk\n",
        "nltk.download('wordnet')"
      ],
      "execution_count": 3,
      "outputs": [
        {
          "output_type": "stream",
          "text": [
            "/usr/local/lib/python3.6/dist-packages/_pytest/mark/structures.py:426: DeprecationWarning: The usage of `cmp` is deprecated and will be removed on or after 2021-06-01.  Please use `eq` and `order` instead.\n",
            "  @attr.s(cmp=False, hash=False)\n"
          ],
          "name": "stderr"
        },
        {
          "output_type": "stream",
          "text": [
            "[nltk_data] Downloading package wordnet to /root/nltk_data...\n",
            "[nltk_data]   Unzipping corpora/wordnet.zip.\n"
          ],
          "name": "stdout"
        },
        {
          "output_type": "execute_result",
          "data": {
            "text/plain": [
              "True"
            ]
          },
          "metadata": {
            "tags": []
          },
          "execution_count": 3
        }
      ]
    },
    {
      "cell_type": "markdown",
      "metadata": {
        "id": "re6cEuM-w1hO",
        "colab_type": "text"
      },
      "source": [
        "##Loading the raw data"
      ]
    },
    {
      "cell_type": "code",
      "metadata": {
        "id": "rFkiWwzqvbp4",
        "colab_type": "code",
        "outputId": "5b0649fc-e77c-4c10-febc-f94399d5903a",
        "colab": {
          "base_uri": "https://localhost:8080/",
          "height": 34
        }
      },
      "source": [
        "df_recipe = pd.read_csv('/content/drive/My Drive/Dataa/recipe_title_foodCategory_v3.csv', error_bad_lines= False)\n",
        "df_recipe.shape"
      ],
      "execution_count": 4,
      "outputs": [
        {
          "output_type": "execute_result",
          "data": {
            "text/plain": [
              "(47668, 3)"
            ]
          },
          "metadata": {
            "tags": []
          },
          "execution_count": 4
        }
      ]
    },
    {
      "cell_type": "code",
      "metadata": {
        "id": "9Isc59KNvpPv",
        "colab_type": "code",
        "outputId": "098545b4-8561-46b9-d51f-2e01c78ff8ee",
        "colab": {
          "base_uri": "https://localhost:8080/",
          "height": 195
        }
      },
      "source": [
        "df_recipe.head()"
      ],
      "execution_count": 5,
      "outputs": [
        {
          "output_type": "execute_result",
          "data": {
            "text/html": [
              "<div>\n",
              "<style scoped>\n",
              "    .dataframe tbody tr th:only-of-type {\n",
              "        vertical-align: middle;\n",
              "    }\n",
              "\n",
              "    .dataframe tbody tr th {\n",
              "        vertical-align: top;\n",
              "    }\n",
              "\n",
              "    .dataframe thead th {\n",
              "        text-align: right;\n",
              "    }\n",
              "</style>\n",
              "<table border=\"1\" class=\"dataframe\">\n",
              "  <thead>\n",
              "    <tr style=\"text-align: right;\">\n",
              "      <th></th>\n",
              "      <th>Unnamed: 0</th>\n",
              "      <th>Recipe_Title</th>\n",
              "      <th>Food_Category</th>\n",
              "    </tr>\n",
              "  </thead>\n",
              "  <tbody>\n",
              "    <tr>\n",
              "      <th>0</th>\n",
              "      <td>14164</td>\n",
              "      <td>Hummus Pasta</td>\n",
              "      <td>Hummus</td>\n",
              "    </tr>\n",
              "    <tr>\n",
              "      <th>1</th>\n",
              "      <td>22552</td>\n",
              "      <td>Endive-and-Arugula Salad with Chile-Garlic Dre...</td>\n",
              "      <td>Salad</td>\n",
              "    </tr>\n",
              "    <tr>\n",
              "      <th>2</th>\n",
              "      <td>2346</td>\n",
              "      <td>Apple Crumb Cake Recipe</td>\n",
              "      <td>Cake</td>\n",
              "    </tr>\n",
              "    <tr>\n",
              "      <th>3</th>\n",
              "      <td>44716</td>\n",
              "      <td>Hamburger Lentil Potato Tomato Stew</td>\n",
              "      <td>Stew</td>\n",
              "    </tr>\n",
              "    <tr>\n",
              "      <th>4</th>\n",
              "      <td>27168</td>\n",
              "      <td>Healthy Oat Bran Muffins with Banana, Blueberr...</td>\n",
              "      <td>Muffins</td>\n",
              "    </tr>\n",
              "  </tbody>\n",
              "</table>\n",
              "</div>"
            ],
            "text/plain": [
              "   Unnamed: 0                                       Recipe_Title Food_Category\n",
              "0       14164                                       Hummus Pasta        Hummus\n",
              "1       22552  Endive-and-Arugula Salad with Chile-Garlic Dre...         Salad\n",
              "2        2346                            Apple Crumb Cake Recipe          Cake\n",
              "3       44716                Hamburger Lentil Potato Tomato Stew          Stew\n",
              "4       27168  Healthy Oat Bran Muffins with Banana, Blueberr...       Muffins"
            ]
          },
          "metadata": {
            "tags": []
          },
          "execution_count": 5
        }
      ]
    },
    {
      "cell_type": "markdown",
      "metadata": {
        "id": "S3As8yeiw4QZ",
        "colab_type": "text"
      },
      "source": [
        "##Pre-processing the Recipe Titles"
      ]
    },
    {
      "cell_type": "code",
      "metadata": {
        "id": "6Mj5mcBovzo4",
        "colab_type": "code",
        "outputId": "3c408a0a-09c6-4235-9277-6930d63f2405",
        "colab": {
          "base_uri": "https://localhost:8080/",
          "height": 101
        }
      },
      "source": [
        "# Convert to array\n",
        "docs =array(df_recipe['Recipe_Title'].astype(str))\n",
        "print(type(docs))\n",
        "print(len(docs))\n",
        "# Define function for tokenize and lemmatizing\n",
        "from nltk.stem.wordnet import WordNetLemmatizer\n",
        "from nltk.tokenize import RegexpTokenizer\n",
        "\n",
        "def docs_preprocessor(docs):\n",
        "    tokenizer = RegexpTokenizer(r'\\w+')\n",
        "    for idx in range(len(docs)):\n",
        "        docs[idx] = docs[idx].lower()  # Convert to lowercase.\n",
        "        docs[idx] = tokenizer.tokenize(docs[idx])  # Split into words.\n",
        "\n",
        "    # Remove numbers, but not words that contain numbers.\n",
        "    docs = [[token for token in doc if not token.isdigit()] for doc in docs]\n",
        "    \n",
        "    # Remove words that are only one character.\n",
        "    docs = [[token for token in doc if len(token) > 3] for doc in docs]\n",
        "    \n",
        "    # Lemmatize all words in documents.\n",
        "    lemmatizer = WordNetLemmatizer()\n",
        "    docs = [[lemmatizer.lemmatize(token) for token in doc] for doc in docs]\n",
        "  \n",
        "    return docs\n",
        "# Perform function on our document\n",
        "docs = docs_preprocessor(docs)\n",
        "#Create Biagram & Trigram Models \n",
        "from gensim.models import Phrases\n",
        "# Add bigrams and trigrams to docs,minimum count 10 means only that appear 10 times or more.\n",
        "bigram = Phrases(docs, min_count=10)\n",
        "trigram = Phrases(bigram[docs])\n",
        "\n",
        "for idx in range(len(docs)):\n",
        "    for token in bigram[docs[idx]]:\n",
        "        if '_' in token:\n",
        "            # Token is a bigram, add to document.\n",
        "            docs[idx].append(token)\n",
        "    for token in trigram[docs[idx]]:\n",
        "        if '_' in token:\n",
        "            # Token is a bigram, add to document.\n",
        "            docs[idx].append(token)\n",
        "#Remove rare & common tokens \n",
        "# Create a dictionary representation of the documents.\n",
        "dictionary = Dictionary(docs)\n",
        "dictionary.filter_extremes(no_below=10, no_above=0.2)\n",
        "#Create dictionary and corpus required for Topic Modeling\n",
        "corpus = [dictionary.doc2bow(doc) for doc in docs]\n",
        "print('Number of unique tokens: %d' % len(dictionary))\n",
        "print('Number of documents: %d' % len(corpus))\n",
        "print(corpus[:1])"
      ],
      "execution_count": 6,
      "outputs": [
        {
          "output_type": "stream",
          "text": [
            "<class 'numpy.ndarray'>\n",
            "47668\n",
            "Number of unique tokens: 1693\n",
            "Number of documents: 47668\n",
            "[[(0, 1), (1, 1)]]\n"
          ],
          "name": "stdout"
        }
      ]
    },
    {
      "cell_type": "code",
      "metadata": {
        "id": "ovOvx5wZxEpS",
        "colab_type": "code",
        "outputId": "ddb1d6ec-3d0c-4451-f108-b047fe710502",
        "colab": {
          "base_uri": "https://localhost:8080/",
          "height": 34
        }
      },
      "source": [
        "type(corpus)"
      ],
      "execution_count": 7,
      "outputs": [
        {
          "output_type": "execute_result",
          "data": {
            "text/plain": [
              "list"
            ]
          },
          "metadata": {
            "tags": []
          },
          "execution_count": 7
        }
      ]
    },
    {
      "cell_type": "markdown",
      "metadata": {
        "id": "_KNk2o6p0yZE",
        "colab_type": "text"
      },
      "source": [
        "##LDA on the Recipe Title of the Recipe 1M data"
      ]
    },
    {
      "cell_type": "code",
      "metadata": {
        "id": "dWRVqXiO0SnX",
        "colab_type": "code",
        "outputId": "dc5f4dcd-9f65-4588-ed73-edbefaa6c3a9",
        "colab": {
          "base_uri": "https://localhost:8080/",
          "height": 54
        }
      },
      "source": [
        "# Set parameters.\n",
        "num_topics = 40\n",
        "chunksize = 500 \n",
        "passes = 20 \n",
        "iterations = 400\n",
        "eval_every = 1  \n",
        "\n",
        "# Make a index to word dictionary.\n",
        "temp = dictionary[0]  # only to \"load\" the dictionary.\n",
        "id2word = dictionary.id2token\n",
        "\n",
        "lda_model = LdaModel(corpus=corpus, id2word=id2word, chunksize=chunksize, \\\n",
        "                       alpha='auto', eta='auto', \\\n",
        "                       iterations=iterations, num_topics=num_topics, \\\n",
        "                       passes=passes, eval_every=eval_every)\n",
        "# Print the Keyword in the 5 topics\n",
        "print(lda_model.print_topics())"
      ],
      "execution_count": 8,
      "outputs": [
        {
          "output_type": "stream",
          "text": [
            "[(22, '0.196*\"pound_cake\" + 0.175*\"fried\" + 0.085*\"stir\" + 0.084*\"stir_fried\" + 0.073*\"breakfast\" + 0.067*\"pound\" + 0.049*\"fennel\" + 0.049*\"pine_nut\" + 0.038*\"oven_fried\" + 0.035*\"indian\"'), (24, '0.111*\"avocado\" + 0.094*\"bran_muffin\" + 0.062*\"vegetarian\" + 0.059*\"seafood\" + 0.053*\"crusted\" + 0.047*\"ricotta\" + 0.045*\"bran\" + 0.043*\"cajun\" + 0.040*\"cordon_bleu\" + 0.035*\"relish\"'), (26, '0.129*\"goat_cheese\" + 0.123*\"white_bean\" + 0.120*\"smoothie\" + 0.058*\"crispy\" + 0.054*\"berry\" + 0.047*\"white\" + 0.045*\"cheese\" + 0.044*\"goat\" + 0.044*\"from\" + 0.041*\"bean\"'), (1, '0.103*\"sesame\" + 0.084*\"crust\" + 0.079*\"enchilada\" + 0.074*\"german\" + 0.062*\"yummy\" + 0.061*\"eggplant\" + 0.060*\"barley\" + 0.050*\"breaded\" + 0.039*\"hamburger\" + 0.037*\"tender\"'), (28, '0.152*\"sausage\" + 0.145*\"italian\" + 0.086*\"french\" + 0.079*\"pie\" + 0.056*\"mixed_green\" + 0.048*\"pasta_toss\" + 0.045*\"chunky\" + 0.043*\"southwestern\" + 0.038*\"crunchy\" + 0.038*\"hand_pie\"'), (2, '0.170*\"sour_cream\" + 0.153*\"pork\" + 0.116*\"sour\" + 0.092*\"white\" + 0.080*\"pork_chop\" + 0.080*\"cream\" + 0.039*\"dough\" + 0.036*\"pizza_dough\" + 0.036*\"crockpot\" + 0.023*\"moist\"'), (20, '0.175*\"bacon\" + 0.103*\"bacon_wrapped\" + 0.095*\"herb\" + 0.081*\"warm\" + 0.073*\"wrapped\" + 0.043*\"heirloom_tomato\" + 0.034*\"arugula\" + 0.034*\"rhubarb\" + 0.031*\"garden\" + 0.029*\"steamed\"'), (0, '0.074*\"dumpling\" + 0.060*\"skillet\" + 0.055*\"layer\" + 0.054*\"oven\" + 0.045*\"gravy\" + 0.036*\"stewed\" + 0.036*\"pistachio\" + 0.036*\"seared\" + 0.035*\"christmas\" + 0.034*\"green_chilies\"'), (37, '0.163*\"green_bean\" + 0.100*\"chocolate_chip\" + 0.081*\"chip\" + 0.056*\"bean\" + 0.056*\"green\" + 0.048*\"chipotle\" + 0.042*\"white_wine\" + 0.036*\"tenderloin\" + 0.030*\"tofu\" + 0.030*\"chocolate\"'), (9, '0.082*\"upside_down\" + 0.071*\"dairy_free\" + 0.061*\"yogurt\" + 0.047*\"citrus\" + 0.047*\"down\" + 0.047*\"upside\" + 0.037*\"good\" + 0.035*\"fudge\" + 0.035*\"balsamic\" + 0.032*\"braised\"'), (27, '0.621*\"recipe\" + 0.081*\"coffee_cake\" + 0.038*\"coffee\" + 0.031*\"vegan\" + 0.028*\"super\" + 0.020*\"double\" + 0.017*\"streusel\" + 0.014*\"tomato_basil\" + 0.012*\"very\" + 0.011*\"patty\"'), (12, '0.257*\"pizza\" + 0.227*\"steak\" + 0.175*\"grilled\" + 0.057*\"strawberry\" + 0.039*\"marinated\" + 0.030*\"pickle\" + 0.027*\"bell_pepper\" + 0.016*\"swiss\" + 0.016*\"portobello_mushroom\" + 0.016*\"sorbet\"'), (36, '0.150*\"sandwich\" + 0.129*\"rice\" + 0.116*\"roasted\" + 0.104*\"pumpkin\" + 0.097*\"shrimp\" + 0.086*\"roasted_pepper\" + 0.047*\"asparagus\" + 0.031*\"angel_hair\" + 0.029*\"mediterranean\" + 0.017*\"yellow\"'), (4, '0.226*\"chili\" + 0.120*\"spicy\" + 0.108*\"style\" + 0.068*\"breast\" + 0.066*\"quick\" + 0.049*\"stuffed\" + 0.032*\"buffalo\" + 0.030*\"beer\" + 0.021*\"caesar\" + 0.017*\"quick_easy\"'), (8, '0.617*\"soup\" + 0.126*\"creamy\" + 0.039*\"veggie\" + 0.038*\"pickled\" + 0.026*\"lamb\" + 0.023*\"beet\" + 0.015*\"liver\" + 0.014*\"blackberry\" + 0.010*\"pancetta\" + 0.009*\"finger\"'), (11, '0.379*\"pasta\" + 0.208*\"tomato\" + 0.088*\"onion\" + 0.041*\"bake\" + 0.035*\"buttermilk\" + 0.029*\"cilantro\" + 0.022*\"cauliflower\" + 0.019*\"mozzarella\" + 0.017*\"penne\" + 0.015*\"crumb\"'), (35, '0.354*\"beef\" + 0.091*\"burger\" + 0.089*\"baked\" + 0.050*\"beef_tenderloin\" + 0.041*\"dill\" + 0.021*\"leek\" + 0.018*\"chop\" + 0.016*\"corned_beef\" + 0.016*\"basic\" + 0.016*\"cottage_cheese\"'), (17, '0.523*\"cake\" + 0.171*\"chocolate\" + 0.037*\"best\" + 0.033*\"mini\" + 0.015*\"ever\" + 0.014*\"best_ever\" + 0.013*\"salisbury_steak\" + 0.010*\"another\" + 0.010*\"layered\" + 0.009*\"icing\"'), (6, '0.710*\"salad\" + 0.070*\"spinach\" + 0.036*\"roast\" + 0.023*\"pesto\" + 0.021*\"artichoke\" + 0.016*\"chickpea\" + 0.013*\"cold\" + 0.013*\"mint\" + 0.012*\"rib\" + 0.010*\"glaze\"'), (32, '0.519*\"with\" + 0.305*\"sauce\" + 0.026*\"sweet_sour\" + 0.023*\"mustard\" + 0.017*\"honey_mustard\" + 0.009*\"dipping\" + 0.009*\"family_favorite\" + 0.008*\"horseradish\" + 0.007*\"dipping_sauce\" + 0.007*\"topping\"')]\n"
          ],
          "name": "stdout"
        }
      ]
    },
    {
      "cell_type": "code",
      "metadata": {
        "id": "1opWkzMP-28E",
        "colab_type": "code",
        "outputId": "a8888422-eb82-44a8-b9ed-bf51baf28362",
        "colab": {
          "base_uri": "https://localhost:8080/",
          "height": 380
        }
      },
      "source": [
        "#This code block is to see as a data frame what each topic actually comprises of.\n",
        "word_dict = {};\n",
        "for i in range(num_topics):\n",
        "    words = lda_model.show_topic(i, topn = 10)\n",
        "    word_dict['Topic # ' + '{:02d}'.format(i+1)] = [i[0] for i in words]\n",
        "pd.DataFrame(word_dict)"
      ],
      "execution_count": 9,
      "outputs": [
        {
          "output_type": "execute_result",
          "data": {
            "text/html": [
              "<div>\n",
              "<style scoped>\n",
              "    .dataframe tbody tr th:only-of-type {\n",
              "        vertical-align: middle;\n",
              "    }\n",
              "\n",
              "    .dataframe tbody tr th {\n",
              "        vertical-align: top;\n",
              "    }\n",
              "\n",
              "    .dataframe thead th {\n",
              "        text-align: right;\n",
              "    }\n",
              "</style>\n",
              "<table border=\"1\" class=\"dataframe\">\n",
              "  <thead>\n",
              "    <tr style=\"text-align: right;\">\n",
              "      <th></th>\n",
              "      <th>Topic # 01</th>\n",
              "      <th>Topic # 02</th>\n",
              "      <th>Topic # 03</th>\n",
              "      <th>Topic # 04</th>\n",
              "      <th>Topic # 05</th>\n",
              "      <th>Topic # 06</th>\n",
              "      <th>Topic # 07</th>\n",
              "      <th>Topic # 08</th>\n",
              "      <th>Topic # 09</th>\n",
              "      <th>Topic # 10</th>\n",
              "      <th>Topic # 11</th>\n",
              "      <th>Topic # 12</th>\n",
              "      <th>Topic # 13</th>\n",
              "      <th>Topic # 14</th>\n",
              "      <th>Topic # 15</th>\n",
              "      <th>Topic # 16</th>\n",
              "      <th>Topic # 17</th>\n",
              "      <th>Topic # 18</th>\n",
              "      <th>Topic # 19</th>\n",
              "      <th>Topic # 20</th>\n",
              "      <th>Topic # 21</th>\n",
              "      <th>Topic # 22</th>\n",
              "      <th>Topic # 23</th>\n",
              "      <th>Topic # 24</th>\n",
              "      <th>Topic # 25</th>\n",
              "      <th>Topic # 26</th>\n",
              "      <th>Topic # 27</th>\n",
              "      <th>Topic # 28</th>\n",
              "      <th>Topic # 29</th>\n",
              "      <th>Topic # 30</th>\n",
              "      <th>Topic # 31</th>\n",
              "      <th>Topic # 32</th>\n",
              "      <th>Topic # 33</th>\n",
              "      <th>Topic # 34</th>\n",
              "      <th>Topic # 35</th>\n",
              "      <th>Topic # 36</th>\n",
              "      <th>Topic # 37</th>\n",
              "      <th>Topic # 38</th>\n",
              "      <th>Topic # 39</th>\n",
              "      <th>Topic # 40</th>\n",
              "    </tr>\n",
              "  </thead>\n",
              "  <tbody>\n",
              "    <tr>\n",
              "      <th>0</th>\n",
              "      <td>dumpling</td>\n",
              "      <td>sesame</td>\n",
              "      <td>sour_cream</td>\n",
              "      <td>salmon</td>\n",
              "      <td>chili</td>\n",
              "      <td>whole_wheat</td>\n",
              "      <td>salad</td>\n",
              "      <td>apple</td>\n",
              "      <td>soup</td>\n",
              "      <td>upside_down</td>\n",
              "      <td>muffin</td>\n",
              "      <td>pasta</td>\n",
              "      <td>pizza</td>\n",
              "      <td>casserole</td>\n",
              "      <td>lemon</td>\n",
              "      <td>vegetable</td>\n",
              "      <td>easy</td>\n",
              "      <td>cake</td>\n",
              "      <td>pudding</td>\n",
              "      <td>corn</td>\n",
              "      <td>bacon</td>\n",
              "      <td>taco</td>\n",
              "      <td>pound_cake</td>\n",
              "      <td>mushroom</td>\n",
              "      <td>avocado</td>\n",
              "      <td>banana</td>\n",
              "      <td>goat_cheese</td>\n",
              "      <td>recipe</td>\n",
              "      <td>sausage</td>\n",
              "      <td>black_bean</td>\n",
              "      <td>noodle</td>\n",
              "      <td>potato</td>\n",
              "      <td>with</td>\n",
              "      <td>cream</td>\n",
              "      <td>cheese</td>\n",
              "      <td>beef</td>\n",
              "      <td>sandwich</td>\n",
              "      <td>green_bean</td>\n",
              "      <td>bread</td>\n",
              "      <td>parmesan</td>\n",
              "    </tr>\n",
              "    <tr>\n",
              "      <th>1</th>\n",
              "      <td>skillet</td>\n",
              "      <td>crust</td>\n",
              "      <td>pork</td>\n",
              "      <td>slow_cooker</td>\n",
              "      <td>spicy</td>\n",
              "      <td>gluten_free</td>\n",
              "      <td>spinach</td>\n",
              "      <td>pancake</td>\n",
              "      <td>creamy</td>\n",
              "      <td>dairy_free</td>\n",
              "      <td>blueberry</td>\n",
              "      <td>tomato</td>\n",
              "      <td>steak</td>\n",
              "      <td>peanut_butter</td>\n",
              "      <td>green</td>\n",
              "      <td>broccoli</td>\n",
              "      <td>roll</td>\n",
              "      <td>chocolate</td>\n",
              "      <td>dressing</td>\n",
              "      <td>squash</td>\n",
              "      <td>bacon_wrapped</td>\n",
              "      <td>honey</td>\n",
              "      <td>fried</td>\n",
              "      <td>dried_tomato</td>\n",
              "      <td>bran_muffin</td>\n",
              "      <td>cheesy</td>\n",
              "      <td>white_bean</td>\n",
              "      <td>coffee_cake</td>\n",
              "      <td>italian</td>\n",
              "      <td>bean</td>\n",
              "      <td>cucumber</td>\n",
              "      <td>stew</td>\n",
              "      <td>sauce</td>\n",
              "      <td>turkey</td>\n",
              "      <td>garlic</td>\n",
              "      <td>burger</td>\n",
              "      <td>rice</td>\n",
              "      <td>chocolate_chip</td>\n",
              "      <td>pudding</td>\n",
              "      <td>thai</td>\n",
              "    </tr>\n",
              "    <tr>\n",
              "      <th>2</th>\n",
              "      <td>layer</td>\n",
              "      <td>enchilada</td>\n",
              "      <td>sour</td>\n",
              "      <td>smoked_salmon</td>\n",
              "      <td>style</td>\n",
              "      <td>free</td>\n",
              "      <td>roast</td>\n",
              "      <td>orange</td>\n",
              "      <td>veggie</td>\n",
              "      <td>yogurt</td>\n",
              "      <td>cheddar</td>\n",
              "      <td>onion</td>\n",
              "      <td>grilled</td>\n",
              "      <td>butter</td>\n",
              "      <td>greek</td>\n",
              "      <td>fruit</td>\n",
              "      <td>spring_roll</td>\n",
              "      <td>best</td>\n",
              "      <td>salsa</td>\n",
              "      <td>barbecue</td>\n",
              "      <td>herb</td>\n",
              "      <td>tuna</td>\n",
              "      <td>stir</td>\n",
              "      <td>wrap</td>\n",
              "      <td>vegetarian</td>\n",
              "      <td>almond</td>\n",
              "      <td>smoothie</td>\n",
              "      <td>coffee</td>\n",
              "      <td>french</td>\n",
              "      <td>pepper</td>\n",
              "      <td>mexican</td>\n",
              "      <td>sweet_potato</td>\n",
              "      <td>sweet_sour</td>\n",
              "      <td>pecan</td>\n",
              "      <td>blue_cheese</td>\n",
              "      <td>baked</td>\n",
              "      <td>roasted</td>\n",
              "      <td>chip</td>\n",
              "      <td>bread_machine</td>\n",
              "      <td>lime</td>\n",
              "    </tr>\n",
              "    <tr>\n",
              "      <th>3</th>\n",
              "      <td>oven</td>\n",
              "      <td>german</td>\n",
              "      <td>white</td>\n",
              "      <td>slow</td>\n",
              "      <td>breast</td>\n",
              "      <td>wheat</td>\n",
              "      <td>pesto</td>\n",
              "      <td>fresh</td>\n",
              "      <td>pickled</td>\n",
              "      <td>citrus</td>\n",
              "      <td>classic</td>\n",
              "      <td>bake</td>\n",
              "      <td>strawberry</td>\n",
              "      <td>peanut</td>\n",
              "      <td>poppy_seed</td>\n",
              "      <td>peach</td>\n",
              "      <td>cabbage</td>\n",
              "      <td>mini</td>\n",
              "      <td>mango</td>\n",
              "      <td>summer</td>\n",
              "      <td>warm</td>\n",
              "      <td>vanilla</td>\n",
              "      <td>stir_fried</td>\n",
              "      <td>cranberry</td>\n",
              "      <td>seafood</td>\n",
              "      <td>turkey_burger</td>\n",
              "      <td>crispy</td>\n",
              "      <td>vegan</td>\n",
              "      <td>pie</td>\n",
              "      <td>black</td>\n",
              "      <td>walnut</td>\n",
              "      <td>sweet</td>\n",
              "      <td>mustard</td>\n",
              "      <td>cherry</td>\n",
              "      <td>coconut</td>\n",
              "      <td>beef_tenderloin</td>\n",
              "      <td>pumpkin</td>\n",
              "      <td>bean</td>\n",
              "      <td>wild_rice</td>\n",
              "      <td>spaghetti</td>\n",
              "    </tr>\n",
              "    <tr>\n",
              "      <th>4</th>\n",
              "      <td>gravy</td>\n",
              "      <td>yummy</td>\n",
              "      <td>pork_chop</td>\n",
              "      <td>smoked</td>\n",
              "      <td>quick</td>\n",
              "      <td>pear</td>\n",
              "      <td>artichoke</td>\n",
              "      <td>olive</td>\n",
              "      <td>lamb</td>\n",
              "      <td>down</td>\n",
              "      <td>savory</td>\n",
              "      <td>buttermilk</td>\n",
              "      <td>marinated</td>\n",
              "      <td>carrot</td>\n",
              "      <td>cocktail</td>\n",
              "      <td>apricot</td>\n",
              "      <td>asian</td>\n",
              "      <td>ever</td>\n",
              "      <td>marinade</td>\n",
              "      <td>butternut_squash</td>\n",
              "      <td>wrapped</td>\n",
              "      <td>dijon</td>\n",
              "      <td>breakfast</td>\n",
              "      <td>maple</td>\n",
              "      <td>crusted</td>\n",
              "      <td>crab</td>\n",
              "      <td>berry</td>\n",
              "      <td>super</td>\n",
              "      <td>mixed_green</td>\n",
              "      <td>ginger</td>\n",
              "      <td>spread</td>\n",
              "      <td>dried</td>\n",
              "      <td>honey_mustard</td>\n",
              "      <td>curry</td>\n",
              "      <td>wine</td>\n",
              "      <td>dill</td>\n",
              "      <td>shrimp</td>\n",
              "      <td>green</td>\n",
              "      <td>simple</td>\n",
              "      <td>spice</td>\n",
              "    </tr>\n",
              "    <tr>\n",
              "      <th>5</th>\n",
              "      <td>stewed</td>\n",
              "      <td>eggplant</td>\n",
              "      <td>cream</td>\n",
              "      <td>cooker</td>\n",
              "      <td>stuffed</td>\n",
              "      <td>whole</td>\n",
              "      <td>chickpea</td>\n",
              "      <td>cinnamon</td>\n",
              "      <td>beet</td>\n",
              "      <td>upside</td>\n",
              "      <td>omelette</td>\n",
              "      <td>cilantro</td>\n",
              "      <td>pickle</td>\n",
              "      <td>zucchini</td>\n",
              "      <td>quinoa</td>\n",
              "      <td>moroccan</td>\n",
              "      <td>homemade</td>\n",
              "      <td>best_ever</td>\n",
              "      <td>pita</td>\n",
              "      <td>french_onion</td>\n",
              "      <td>heirloom_tomato</td>\n",
              "      <td>ranch</td>\n",
              "      <td>pound</td>\n",
              "      <td>pastry</td>\n",
              "      <td>ricotta</td>\n",
              "      <td>guacamole</td>\n",
              "      <td>white</td>\n",
              "      <td>double</td>\n",
              "      <td>pasta_toss</td>\n",
              "      <td>stuffing</td>\n",
              "      <td>pineapple</td>\n",
              "      <td>loaf</td>\n",
              "      <td>dipping</td>\n",
              "      <td>custard</td>\n",
              "      <td>glazed</td>\n",
              "      <td>leek</td>\n",
              "      <td>roasted_pepper</td>\n",
              "      <td>chipotle</td>\n",
              "      <td>curried</td>\n",
              "      <td>meat</td>\n",
              "    </tr>\n",
              "    <tr>\n",
              "      <th>6</th>\n",
              "      <td>pistachio</td>\n",
              "      <td>barley</td>\n",
              "      <td>dough</td>\n",
              "      <td>teriyaki</td>\n",
              "      <td>buffalo</td>\n",
              "      <td>lentil</td>\n",
              "      <td>cold</td>\n",
              "      <td>sugar</td>\n",
              "      <td>liver</td>\n",
              "      <td>good</td>\n",
              "      <td>english_muffin</td>\n",
              "      <td>cauliflower</td>\n",
              "      <td>bell_pepper</td>\n",
              "      <td>crock</td>\n",
              "      <td>seed</td>\n",
              "      <td>healthy</td>\n",
              "      <td>wing</td>\n",
              "      <td>salisbury_steak</td>\n",
              "      <td>bourbon</td>\n",
              "      <td>brown</td>\n",
              "      <td>arugula</td>\n",
              "      <td>microwave</td>\n",
              "      <td>fennel</td>\n",
              "      <td>lettuce_wrap</td>\n",
              "      <td>bran</td>\n",
              "      <td>burger</td>\n",
              "      <td>cheese</td>\n",
              "      <td>streusel</td>\n",
              "      <td>chunky</td>\n",
              "      <td>chorizo</td>\n",
              "      <td>basil</td>\n",
              "      <td>dried_cherry</td>\n",
              "      <td>family_favorite</td>\n",
              "      <td>caramel</td>\n",
              "      <td>flank_steak</td>\n",
              "      <td>chop</td>\n",
              "      <td>asparagus</td>\n",
              "      <td>white_wine</td>\n",
              "      <td>tortilla</td>\n",
              "      <td>grandma</td>\n",
              "    </tr>\n",
              "    <tr>\n",
              "      <th>7</th>\n",
              "      <td>seared</td>\n",
              "      <td>breaded</td>\n",
              "      <td>pizza_dough</td>\n",
              "      <td>slow_cooked</td>\n",
              "      <td>beer</td>\n",
              "      <td>hummus</td>\n",
              "      <td>mint</td>\n",
              "      <td>brown_sugar</td>\n",
              "      <td>blackberry</td>\n",
              "      <td>fudge</td>\n",
              "      <td>maple_syrup</td>\n",
              "      <td>mozzarella</td>\n",
              "      <td>swiss</td>\n",
              "      <td>bundt_cake</td>\n",
              "      <td>oatmeal</td>\n",
              "      <td>slaw</td>\n",
              "      <td>feta</td>\n",
              "      <td>another</td>\n",
              "      <td>dish</td>\n",
              "      <td>delicious</td>\n",
              "      <td>rhubarb</td>\n",
              "      <td>goulash</td>\n",
              "      <td>pine_nut</td>\n",
              "      <td>wild</td>\n",
              "      <td>cajun</td>\n",
              "      <td>made</td>\n",
              "      <td>goat</td>\n",
              "      <td>tomato_basil</td>\n",
              "      <td>southwestern</td>\n",
              "      <td>jalapeno</td>\n",
              "      <td>fish</td>\n",
              "      <td>cumin</td>\n",
              "      <td>horseradish</td>\n",
              "      <td>ground_beef</td>\n",
              "      <td>blue</td>\n",
              "      <td>corned_beef</td>\n",
              "      <td>angel_hair</td>\n",
              "      <td>tenderloin</td>\n",
              "      <td>machine</td>\n",
              "      <td>rosemary</td>\n",
              "    </tr>\n",
              "    <tr>\n",
              "      <th>8</th>\n",
              "      <td>christmas</td>\n",
              "      <td>hamburger</td>\n",
              "      <td>crockpot</td>\n",
              "      <td>sponge</td>\n",
              "      <td>caesar</td>\n",
              "      <td>vinaigrette</td>\n",
              "      <td>rib</td>\n",
              "      <td>meatball</td>\n",
              "      <td>pancetta</td>\n",
              "      <td>balsamic</td>\n",
              "      <td>english</td>\n",
              "      <td>penne</td>\n",
              "      <td>portobello_mushroom</td>\n",
              "      <td>cornbread</td>\n",
              "      <td>chile</td>\n",
              "      <td>using</td>\n",
              "      <td>spring</td>\n",
              "      <td>layered</td>\n",
              "      <td>japanese</td>\n",
              "      <td>brown_rice</td>\n",
              "      <td>garden</td>\n",
              "      <td>chopped</td>\n",
              "      <td>oven_fried</td>\n",
              "      <td>chinese</td>\n",
              "      <td>cordon_bleu</td>\n",
              "      <td>turkey</td>\n",
              "      <td>from</td>\n",
              "      <td>very</td>\n",
              "      <td>crunchy</td>\n",
              "      <td>zesty</td>\n",
              "      <td>spiced</td>\n",
              "      <td>martha_stewart</td>\n",
              "      <td>dipping_sauce</td>\n",
              "      <td>cheesecake</td>\n",
              "      <td>raspberry</td>\n",
              "      <td>basic</td>\n",
              "      <td>mediterranean</td>\n",
              "      <td>tofu</td>\n",
              "      <td>bowl</td>\n",
              "      <td>american</td>\n",
              "    </tr>\n",
              "    <tr>\n",
              "      <th>9</th>\n",
              "      <td>green_chilies</td>\n",
              "      <td>tender</td>\n",
              "      <td>moist</td>\n",
              "      <td>blackened</td>\n",
              "      <td>quick_easy</td>\n",
              "      <td>gluten</td>\n",
              "      <td>glaze</td>\n",
              "      <td>apple_cider</td>\n",
              "      <td>finger</td>\n",
              "      <td>braised</td>\n",
              "      <td>better_than</td>\n",
              "      <td>crumb</td>\n",
              "      <td>sorbet</td>\n",
              "      <td>frosting</td>\n",
              "      <td>poppy</td>\n",
              "      <td>open_faced</td>\n",
              "      <td>alfredo</td>\n",
              "      <td>icing</td>\n",
              "      <td>party</td>\n",
              "      <td>minute</td>\n",
              "      <td>steamed</td>\n",
              "      <td>burrito</td>\n",
              "      <td>indian</td>\n",
              "      <td>scone</td>\n",
              "      <td>relish</td>\n",
              "      <td>molasses</td>\n",
              "      <td>bean</td>\n",
              "      <td>patty</td>\n",
              "      <td>hand_pie</td>\n",
              "      <td>soft</td>\n",
              "      <td>round_steak</td>\n",
              "      <td>famous</td>\n",
              "      <td>topping</td>\n",
              "      <td>ground</td>\n",
              "      <td>flank</td>\n",
              "      <td>cottage_cheese</td>\n",
              "      <td>yellow</td>\n",
              "      <td>chocolate</td>\n",
              "      <td>raisin</td>\n",
              "      <td>pepperoni_pizza</td>\n",
              "    </tr>\n",
              "  </tbody>\n",
              "</table>\n",
              "</div>"
            ],
            "text/plain": [
              "      Topic # 01 Topic # 02  ...     Topic # 39       Topic # 40\n",
              "0       dumpling     sesame  ...          bread         parmesan\n",
              "1        skillet      crust  ...        pudding             thai\n",
              "2          layer  enchilada  ...  bread_machine             lime\n",
              "3           oven     german  ...      wild_rice        spaghetti\n",
              "4          gravy      yummy  ...         simple            spice\n",
              "5         stewed   eggplant  ...        curried             meat\n",
              "6      pistachio     barley  ...       tortilla          grandma\n",
              "7         seared    breaded  ...        machine         rosemary\n",
              "8      christmas  hamburger  ...           bowl         american\n",
              "9  green_chilies     tender  ...         raisin  pepperoni_pizza\n",
              "\n",
              "[10 rows x 40 columns]"
            ]
          },
          "metadata": {
            "tags": []
          },
          "execution_count": 9
        }
      ]
    },
    {
      "cell_type": "markdown",
      "metadata": {
        "id": "jKkHQk1G05sN",
        "colab_type": "text"
      },
      "source": [
        "##Evaluating the LDA Model"
      ]
    },
    {
      "cell_type": "code",
      "metadata": {
        "id": "Tp7qWIYv0ppq",
        "colab_type": "code",
        "outputId": "793d1cd0-7fcf-485e-f9f8-52d8ea651fbb",
        "colab": {
          "base_uri": "https://localhost:8080/",
          "height": 50
        }
      },
      "source": [
        "# Compute Coherence Score using c_v\n",
        "coherence_model_lda = CoherenceModel(model=lda_model, texts=docs, dictionary=dictionary, coherence='c_v')\n",
        "coherence_lda = coherence_model_lda.get_coherence()\n",
        "print('\\nCoherence Score: ', coherence_lda)"
      ],
      "execution_count": 10,
      "outputs": [
        {
          "output_type": "stream",
          "text": [
            "\n",
            "Coherence Score:  0.5812066105485998\n"
          ],
          "name": "stdout"
        }
      ]
    },
    {
      "cell_type": "code",
      "metadata": {
        "id": "jgTRMI9NeCa6",
        "colab_type": "code",
        "colab": {}
      },
      "source": [
        "def compute_coherence_values(dictionary, corpus, texts, limit, start=2, step=3):\n",
        "    \"\"\"\n",
        "    Compute c_v coherence for various number of topics\n",
        "\n",
        "    Parameters:\n",
        "    ----------\n",
        "    dictionary : Gensim dictionary\n",
        "    corpus : Gensim corpus\n",
        "    texts : List of input texts\n",
        "    limit : Max num of topics\n",
        "\n",
        "    Returns:\n",
        "    -------\n",
        "    model_list : List of LDA topic models\n",
        "    coherence_values : Coherence values corresponding to the LDA model with respective number of topics\n",
        "    \"\"\"\n",
        "    coherence_values = []\n",
        "    model_list = []\n",
        "    for num_topics in range(start, limit, step):\n",
        "        model=LdaModel(corpus=corpus, id2word=dictionary, num_topics=num_topics)\n",
        "        model_list.append(model)\n",
        "        coherencemodel = CoherenceModel(model=model, texts=texts, dictionary=dictionary, coherence='c_v')\n",
        "        coherence_values.append(coherencemodel.get_coherence())\n",
        "\n",
        "    return model_list, coherence_values"
      ],
      "execution_count": 0,
      "outputs": []
    },
    {
      "cell_type": "code",
      "metadata": {
        "id": "OlBflMTGeHHq",
        "colab_type": "code",
        "outputId": "d5864d65-4143-4b40-9fd8-7cc525f74f0d",
        "colab": {
          "base_uri": "https://localhost:8080/",
          "height": 296
        }
      },
      "source": [
        "#Model list and plot Coherence score against a number of topics\n",
        "model_list, coherence_values = compute_coherence_values(dictionary=dictionary, corpus=corpus, texts=docs, start=2, limit=40, step=6)\n",
        "# Show graph\n",
        "import matplotlib.pyplot as plt\n",
        "limit=40; start=2; step=6;\n",
        "x = range(start, limit, step)\n",
        "plt.plot(x, coherence_values)\n",
        "plt.xlabel(\"Num Topics\")\n",
        "plt.ylabel(\"Coherence score\")\n",
        "plt.legend((\"coherence_values\"), loc='best')\n",
        "plt.show()\n",
        "plt.savefig('Coherence score against a number of topics- Recipe_Title.png', bbox_inches='tight',dpi = 200)"
      ],
      "execution_count": 16,
      "outputs": [
        {
          "output_type": "display_data",
          "data": {
            "image/png": "[encoded data removed]",
            "text/plain": [
              "<Figure size 432x288 with 1 Axes>"
            ]
          },
          "metadata": {
            "tags": []
          }
        },
        {
          "output_type": "display_data",
          "data": {
            "text/plain": [
              "<Figure size 432x288 with 0 Axes>"
            ]
          },
          "metadata": {
            "tags": []
          }
        }
      ]
    },
    {
      "cell_type": "code",
      "metadata": {
        "id": "Ge6ooNWkhzgd",
        "colab_type": "code",
        "colab": {}
      },
      "source": [
        ""
      ],
      "execution_count": 0,
      "outputs": []
    }
  ]
}